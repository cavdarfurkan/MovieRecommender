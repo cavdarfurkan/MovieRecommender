{
 "cells": [
  {
   "cell_type": "code",
   "execution_count": 1,
   "metadata": {},
   "outputs": [],
   "source": [
    "import pandas as pd\n",
    "import numpy as np\n",
    "from surprise import Dataset, accuracy, Reader, SVD, SVDpp, NMF, KNNBasic, KNNWithMeans, KNNWithZScore, KNNBaseline, BaselineOnly, CoClustering, SlopeOne, NormalPredictor\n",
    "from surprise.model_selection import train_test_split, cross_validate"
   ]
  },
  {
   "cell_type": "markdown",
   "metadata": {},
   "source": [
    "# Data"
   ]
  },
  {
   "cell_type": "code",
   "execution_count": 2,
   "metadata": {},
   "outputs": [
    {
     "data": {
      "text/html": [
       "<div>\n",
       "<style scoped>\n",
       "    .dataframe tbody tr th:only-of-type {\n",
       "        vertical-align: middle;\n",
       "    }\n",
       "\n",
       "    .dataframe tbody tr th {\n",
       "        vertical-align: top;\n",
       "    }\n",
       "\n",
       "    .dataframe thead th {\n",
       "        text-align: right;\n",
       "    }\n",
       "</style>\n",
       "<table border=\"1\" class=\"dataframe\">\n",
       "  <thead>\n",
       "    <tr style=\"text-align: right;\">\n",
       "      <th></th>\n",
       "      <th>user_id</th>\n",
       "      <th>movie_id</th>\n",
       "      <th>rating</th>\n",
       "    </tr>\n",
       "  </thead>\n",
       "  <tbody>\n",
       "    <tr>\n",
       "      <th>0</th>\n",
       "      <td>196</td>\n",
       "      <td>242</td>\n",
       "      <td>3</td>\n",
       "    </tr>\n",
       "    <tr>\n",
       "      <th>1</th>\n",
       "      <td>186</td>\n",
       "      <td>302</td>\n",
       "      <td>3</td>\n",
       "    </tr>\n",
       "    <tr>\n",
       "      <th>2</th>\n",
       "      <td>22</td>\n",
       "      <td>377</td>\n",
       "      <td>1</td>\n",
       "    </tr>\n",
       "    <tr>\n",
       "      <th>3</th>\n",
       "      <td>244</td>\n",
       "      <td>51</td>\n",
       "      <td>2</td>\n",
       "    </tr>\n",
       "    <tr>\n",
       "      <th>4</th>\n",
       "      <td>166</td>\n",
       "      <td>346</td>\n",
       "      <td>1</td>\n",
       "    </tr>\n",
       "  </tbody>\n",
       "</table>\n",
       "</div>"
      ],
      "text/plain": [
       "   user_id  movie_id  rating\n",
       "0      196       242       3\n",
       "1      186       302       3\n",
       "2       22       377       1\n",
       "3      244        51       2\n",
       "4      166       346       1"
      ]
     },
     "execution_count": 2,
     "metadata": {},
     "output_type": "execute_result"
    }
   ],
   "source": [
    "# Use the zip file\n",
    "from zipfile import ZipFile\n",
    "with ZipFile('data/ml-100k.zip', 'r') as zip_ref:\n",
    "    zip_ref.extractall('data')\n",
    "\n",
    "u_cols = ['user_id', 'age', 'sex', 'occupation', 'zip_code']\n",
    "users = pd.read_csv('./data/ml-100k/u.user', sep='|', names=u_cols,  encoding='latin-1')\n",
    "\n",
    "r_cols = ['user_id', 'movie_id', 'rating']\n",
    "ratings_df = pd.read_csv('./data/ml-100k/u.data', sep='\\t', usecols=[0,1,2], names=r_cols, encoding='latin-1')\n",
    "\n",
    "i_cols = ['movie_id', 'movie_title']\n",
    "items = pd.read_csv('./data/ml-100k/u.item', sep='|', usecols=[0, 1], names=i_cols, encoding='latin-1')\n",
    "\n",
    "ratings_df.head()"
   ]
  },
  {
   "cell_type": "markdown",
   "metadata": {},
   "source": [
    "# EDA"
   ]
  },
  {
   "cell_type": "code",
   "execution_count": 3,
   "metadata": {},
   "outputs": [
    {
     "data": {
      "text/html": [
       "        <script type=\"text/javascript\">\n",
       "        window.PlotlyConfig = {MathJaxConfig: 'local'};\n",
       "        if (window.MathJax && window.MathJax.Hub && window.MathJax.Hub.Config) {window.MathJax.Hub.Config({SVG: {font: \"STIX-Web\"}});}\n",
       "        if (typeof require !== 'undefined') {\n",
       "        require.undef(\"plotly\");\n",
       "        requirejs.config({\n",
       "            paths: {\n",
       "                'plotly': ['https://cdn.plot.ly/plotly-2.35.2.min']\n",
       "            }\n",
       "        });\n",
       "        require(['plotly'], function(Plotly) {\n",
       "            window._Plotly = Plotly;\n",
       "        });\n",
       "        }\n",
       "        </script>\n",
       "        "
      ]
     },
     "metadata": {},
     "output_type": "display_data"
    },
    {
     "data": {
      "application/vnd.plotly.v1+json": {
       "config": {
        "linkText": "Export to plot.ly",
        "plotlyServerURL": "https://plot.ly",
        "showLink": false
       },
       "data": [
        {
         "text": [
          "21.2 %",
          "34.2 %",
          "27.1 %",
          "11.4 %",
          "6.1 %"
         ],
         "textfont": {
          "color": "#000000"
         },
         "textposition": "auto",
         "type": "bar",
         "x": [
          5,
          4,
          3,
          2,
          1
         ],
         "y": [
          21201,
          34174,
          27145,
          11370,
          6110
         ]
        }
       ],
       "layout": {
        "template": {
         "data": {
          "bar": [
           {
            "error_x": {
             "color": "#2a3f5f"
            },
            "error_y": {
             "color": "#2a3f5f"
            },
            "marker": {
             "line": {
              "color": "#E5ECF6",
              "width": 0.5
             },
             "pattern": {
              "fillmode": "overlay",
              "size": 10,
              "solidity": 0.2
             }
            },
            "type": "bar"
           }
          ],
          "barpolar": [
           {
            "marker": {
             "line": {
              "color": "#E5ECF6",
              "width": 0.5
             },
             "pattern": {
              "fillmode": "overlay",
              "size": 10,
              "solidity": 0.2
             }
            },
            "type": "barpolar"
           }
          ],
          "carpet": [
           {
            "aaxis": {
             "endlinecolor": "#2a3f5f",
             "gridcolor": "white",
             "linecolor": "white",
             "minorgridcolor": "white",
             "startlinecolor": "#2a3f5f"
            },
            "baxis": {
             "endlinecolor": "#2a3f5f",
             "gridcolor": "white",
             "linecolor": "white",
             "minorgridcolor": "white",
             "startlinecolor": "#2a3f5f"
            },
            "type": "carpet"
           }
          ],
          "choropleth": [
           {
            "colorbar": {
             "outlinewidth": 0,
             "ticks": ""
            },
            "type": "choropleth"
           }
          ],
          "contour": [
           {
            "colorbar": {
             "outlinewidth": 0,
             "ticks": ""
            },
            "colorscale": [
             [
              0,
              "#0d0887"
             ],
             [
              0.1111111111111111,
              "#46039f"
             ],
             [
              0.2222222222222222,
              "#7201a8"
             ],
             [
              0.3333333333333333,
              "#9c179e"
             ],
             [
              0.4444444444444444,
              "#bd3786"
             ],
             [
              0.5555555555555556,
              "#d8576b"
             ],
             [
              0.6666666666666666,
              "#ed7953"
             ],
             [
              0.7777777777777778,
              "#fb9f3a"
             ],
             [
              0.8888888888888888,
              "#fdca26"
             ],
             [
              1,
              "#f0f921"
             ]
            ],
            "type": "contour"
           }
          ],
          "contourcarpet": [
           {
            "colorbar": {
             "outlinewidth": 0,
             "ticks": ""
            },
            "type": "contourcarpet"
           }
          ],
          "heatmap": [
           {
            "colorbar": {
             "outlinewidth": 0,
             "ticks": ""
            },
            "colorscale": [
             [
              0,
              "#0d0887"
             ],
             [
              0.1111111111111111,
              "#46039f"
             ],
             [
              0.2222222222222222,
              "#7201a8"
             ],
             [
              0.3333333333333333,
              "#9c179e"
             ],
             [
              0.4444444444444444,
              "#bd3786"
             ],
             [
              0.5555555555555556,
              "#d8576b"
             ],
             [
              0.6666666666666666,
              "#ed7953"
             ],
             [
              0.7777777777777778,
              "#fb9f3a"
             ],
             [
              0.8888888888888888,
              "#fdca26"
             ],
             [
              1,
              "#f0f921"
             ]
            ],
            "type": "heatmap"
           }
          ],
          "heatmapgl": [
           {
            "colorbar": {
             "outlinewidth": 0,
             "ticks": ""
            },
            "colorscale": [
             [
              0,
              "#0d0887"
             ],
             [
              0.1111111111111111,
              "#46039f"
             ],
             [
              0.2222222222222222,
              "#7201a8"
             ],
             [
              0.3333333333333333,
              "#9c179e"
             ],
             [
              0.4444444444444444,
              "#bd3786"
             ],
             [
              0.5555555555555556,
              "#d8576b"
             ],
             [
              0.6666666666666666,
              "#ed7953"
             ],
             [
              0.7777777777777778,
              "#fb9f3a"
             ],
             [
              0.8888888888888888,
              "#fdca26"
             ],
             [
              1,
              "#f0f921"
             ]
            ],
            "type": "heatmapgl"
           }
          ],
          "histogram": [
           {
            "marker": {
             "pattern": {
              "fillmode": "overlay",
              "size": 10,
              "solidity": 0.2
             }
            },
            "type": "histogram"
           }
          ],
          "histogram2d": [
           {
            "colorbar": {
             "outlinewidth": 0,
             "ticks": ""
            },
            "colorscale": [
             [
              0,
              "#0d0887"
             ],
             [
              0.1111111111111111,
              "#46039f"
             ],
             [
              0.2222222222222222,
              "#7201a8"
             ],
             [
              0.3333333333333333,
              "#9c179e"
             ],
             [
              0.4444444444444444,
              "#bd3786"
             ],
             [
              0.5555555555555556,
              "#d8576b"
             ],
             [
              0.6666666666666666,
              "#ed7953"
             ],
             [
              0.7777777777777778,
              "#fb9f3a"
             ],
             [
              0.8888888888888888,
              "#fdca26"
             ],
             [
              1,
              "#f0f921"
             ]
            ],
            "type": "histogram2d"
           }
          ],
          "histogram2dcontour": [
           {
            "colorbar": {
             "outlinewidth": 0,
             "ticks": ""
            },
            "colorscale": [
             [
              0,
              "#0d0887"
             ],
             [
              0.1111111111111111,
              "#46039f"
             ],
             [
              0.2222222222222222,
              "#7201a8"
             ],
             [
              0.3333333333333333,
              "#9c179e"
             ],
             [
              0.4444444444444444,
              "#bd3786"
             ],
             [
              0.5555555555555556,
              "#d8576b"
             ],
             [
              0.6666666666666666,
              "#ed7953"
             ],
             [
              0.7777777777777778,
              "#fb9f3a"
             ],
             [
              0.8888888888888888,
              "#fdca26"
             ],
             [
              1,
              "#f0f921"
             ]
            ],
            "type": "histogram2dcontour"
           }
          ],
          "mesh3d": [
           {
            "colorbar": {
             "outlinewidth": 0,
             "ticks": ""
            },
            "type": "mesh3d"
           }
          ],
          "parcoords": [
           {
            "line": {
             "colorbar": {
              "outlinewidth": 0,
              "ticks": ""
             }
            },
            "type": "parcoords"
           }
          ],
          "pie": [
           {
            "automargin": true,
            "type": "pie"
           }
          ],
          "scatter": [
           {
            "fillpattern": {
             "fillmode": "overlay",
             "size": 10,
             "solidity": 0.2
            },
            "type": "scatter"
           }
          ],
          "scatter3d": [
           {
            "line": {
             "colorbar": {
              "outlinewidth": 0,
              "ticks": ""
             }
            },
            "marker": {
             "colorbar": {
              "outlinewidth": 0,
              "ticks": ""
             }
            },
            "type": "scatter3d"
           }
          ],
          "scattercarpet": [
           {
            "marker": {
             "colorbar": {
              "outlinewidth": 0,
              "ticks": ""
             }
            },
            "type": "scattercarpet"
           }
          ],
          "scattergeo": [
           {
            "marker": {
             "colorbar": {
              "outlinewidth": 0,
              "ticks": ""
             }
            },
            "type": "scattergeo"
           }
          ],
          "scattergl": [
           {
            "marker": {
             "colorbar": {
              "outlinewidth": 0,
              "ticks": ""
             }
            },
            "type": "scattergl"
           }
          ],
          "scattermapbox": [
           {
            "marker": {
             "colorbar": {
              "outlinewidth": 0,
              "ticks": ""
             }
            },
            "type": "scattermapbox"
           }
          ],
          "scatterpolar": [
           {
            "marker": {
             "colorbar": {
              "outlinewidth": 0,
              "ticks": ""
             }
            },
            "type": "scatterpolar"
           }
          ],
          "scatterpolargl": [
           {
            "marker": {
             "colorbar": {
              "outlinewidth": 0,
              "ticks": ""
             }
            },
            "type": "scatterpolargl"
           }
          ],
          "scatterternary": [
           {
            "marker": {
             "colorbar": {
              "outlinewidth": 0,
              "ticks": ""
             }
            },
            "type": "scatterternary"
           }
          ],
          "surface": [
           {
            "colorbar": {
             "outlinewidth": 0,
             "ticks": ""
            },
            "colorscale": [
             [
              0,
              "#0d0887"
             ],
             [
              0.1111111111111111,
              "#46039f"
             ],
             [
              0.2222222222222222,
              "#7201a8"
             ],
             [
              0.3333333333333333,
              "#9c179e"
             ],
             [
              0.4444444444444444,
              "#bd3786"
             ],
             [
              0.5555555555555556,
              "#d8576b"
             ],
             [
              0.6666666666666666,
              "#ed7953"
             ],
             [
              0.7777777777777778,
              "#fb9f3a"
             ],
             [
              0.8888888888888888,
              "#fdca26"
             ],
             [
              1,
              "#f0f921"
             ]
            ],
            "type": "surface"
           }
          ],
          "table": [
           {
            "cells": {
             "fill": {
              "color": "#EBF0F8"
             },
             "line": {
              "color": "white"
             }
            },
            "header": {
             "fill": {
              "color": "#C8D4E3"
             },
             "line": {
              "color": "white"
             }
            },
            "type": "table"
           }
          ]
         },
         "layout": {
          "annotationdefaults": {
           "arrowcolor": "#2a3f5f",
           "arrowhead": 0,
           "arrowwidth": 1
          },
          "autotypenumbers": "strict",
          "coloraxis": {
           "colorbar": {
            "outlinewidth": 0,
            "ticks": ""
           }
          },
          "colorscale": {
           "diverging": [
            [
             0,
             "#8e0152"
            ],
            [
             0.1,
             "#c51b7d"
            ],
            [
             0.2,
             "#de77ae"
            ],
            [
             0.3,
             "#f1b6da"
            ],
            [
             0.4,
             "#fde0ef"
            ],
            [
             0.5,
             "#f7f7f7"
            ],
            [
             0.6,
             "#e6f5d0"
            ],
            [
             0.7,
             "#b8e186"
            ],
            [
             0.8,
             "#7fbc41"
            ],
            [
             0.9,
             "#4d9221"
            ],
            [
             1,
             "#276419"
            ]
           ],
           "sequential": [
            [
             0,
             "#0d0887"
            ],
            [
             0.1111111111111111,
             "#46039f"
            ],
            [
             0.2222222222222222,
             "#7201a8"
            ],
            [
             0.3333333333333333,
             "#9c179e"
            ],
            [
             0.4444444444444444,
             "#bd3786"
            ],
            [
             0.5555555555555556,
             "#d8576b"
            ],
            [
             0.6666666666666666,
             "#ed7953"
            ],
            [
             0.7777777777777778,
             "#fb9f3a"
            ],
            [
             0.8888888888888888,
             "#fdca26"
            ],
            [
             1,
             "#f0f921"
            ]
           ],
           "sequentialminus": [
            [
             0,
             "#0d0887"
            ],
            [
             0.1111111111111111,
             "#46039f"
            ],
            [
             0.2222222222222222,
             "#7201a8"
            ],
            [
             0.3333333333333333,
             "#9c179e"
            ],
            [
             0.4444444444444444,
             "#bd3786"
            ],
            [
             0.5555555555555556,
             "#d8576b"
            ],
            [
             0.6666666666666666,
             "#ed7953"
            ],
            [
             0.7777777777777778,
             "#fb9f3a"
            ],
            [
             0.8888888888888888,
             "#fdca26"
            ],
            [
             1,
             "#f0f921"
            ]
           ]
          },
          "colorway": [
           "#636efa",
           "#EF553B",
           "#00cc96",
           "#ab63fa",
           "#FFA15A",
           "#19d3f3",
           "#FF6692",
           "#B6E880",
           "#FF97FF",
           "#FECB52"
          ],
          "font": {
           "color": "#2a3f5f"
          },
          "geo": {
           "bgcolor": "white",
           "lakecolor": "white",
           "landcolor": "#E5ECF6",
           "showlakes": true,
           "showland": true,
           "subunitcolor": "white"
          },
          "hoverlabel": {
           "align": "left"
          },
          "hovermode": "closest",
          "mapbox": {
           "style": "light"
          },
          "paper_bgcolor": "white",
          "plot_bgcolor": "#E5ECF6",
          "polar": {
           "angularaxis": {
            "gridcolor": "white",
            "linecolor": "white",
            "ticks": ""
           },
           "bgcolor": "#E5ECF6",
           "radialaxis": {
            "gridcolor": "white",
            "linecolor": "white",
            "ticks": ""
           }
          },
          "scene": {
           "xaxis": {
            "backgroundcolor": "#E5ECF6",
            "gridcolor": "white",
            "gridwidth": 2,
            "linecolor": "white",
            "showbackground": true,
            "ticks": "",
            "zerolinecolor": "white"
           },
           "yaxis": {
            "backgroundcolor": "#E5ECF6",
            "gridcolor": "white",
            "gridwidth": 2,
            "linecolor": "white",
            "showbackground": true,
            "ticks": "",
            "zerolinecolor": "white"
           },
           "zaxis": {
            "backgroundcolor": "#E5ECF6",
            "gridcolor": "white",
            "gridwidth": 2,
            "linecolor": "white",
            "showbackground": true,
            "ticks": "",
            "zerolinecolor": "white"
           }
          },
          "shapedefaults": {
           "line": {
            "color": "#2a3f5f"
           }
          },
          "ternary": {
           "aaxis": {
            "gridcolor": "white",
            "linecolor": "white",
            "ticks": ""
           },
           "baxis": {
            "gridcolor": "white",
            "linecolor": "white",
            "ticks": ""
           },
           "bgcolor": "#E5ECF6",
           "caxis": {
            "gridcolor": "white",
            "linecolor": "white",
            "ticks": ""
           }
          },
          "title": {
           "x": 0.05
          },
          "xaxis": {
           "automargin": true,
           "gridcolor": "white",
           "linecolor": "white",
           "ticks": "",
           "title": {
            "standoff": 15
           },
           "zerolinecolor": "white",
           "zerolinewidth": 2
          },
          "yaxis": {
           "automargin": true,
           "gridcolor": "white",
           "linecolor": "white",
           "ticks": "",
           "title": {
            "standoff": 15
           },
           "zerolinecolor": "white",
           "zerolinewidth": 2
          }
         }
        },
        "title": {
         "text": "Distribution of Ratings"
        },
        "xaxis": {
         "title": {
          "text": "Rating"
         }
        },
        "yaxis": {
         "title": {
          "text": "Count"
         }
        }
       }
      },
      "text/html": [
       "<div>                            <div id=\"ec2df8d0-42d8-4354-8702-419e1393270d\" class=\"plotly-graph-div\" style=\"height:525px; width:100%;\"></div>            <script type=\"text/javascript\">                require([\"plotly\"], function(Plotly) {                    window.PLOTLYENV=window.PLOTLYENV || {};                                    if (document.getElementById(\"ec2df8d0-42d8-4354-8702-419e1393270d\")) {                    Plotly.newPlot(                        \"ec2df8d0-42d8-4354-8702-419e1393270d\",                        [{\"text\":[\"21.2 %\",\"34.2 %\",\"27.1 %\",\"11.4 %\",\"6.1 %\"],\"textfont\":{\"color\":\"#000000\"},\"textposition\":\"auto\",\"x\":[5,4,3,2,1],\"y\":[21201,34174,27145,11370,6110],\"type\":\"bar\"}],                        {\"template\":{\"data\":{\"barpolar\":[{\"marker\":{\"line\":{\"color\":\"#E5ECF6\",\"width\":0.5},\"pattern\":{\"fillmode\":\"overlay\",\"size\":10,\"solidity\":0.2}},\"type\":\"barpolar\"}],\"bar\":[{\"error_x\":{\"color\":\"#2a3f5f\"},\"error_y\":{\"color\":\"#2a3f5f\"},\"marker\":{\"line\":{\"color\":\"#E5ECF6\",\"width\":0.5},\"pattern\":{\"fillmode\":\"overlay\",\"size\":10,\"solidity\":0.2}},\"type\":\"bar\"}],\"carpet\":[{\"aaxis\":{\"endlinecolor\":\"#2a3f5f\",\"gridcolor\":\"white\",\"linecolor\":\"white\",\"minorgridcolor\":\"white\",\"startlinecolor\":\"#2a3f5f\"},\"baxis\":{\"endlinecolor\":\"#2a3f5f\",\"gridcolor\":\"white\",\"linecolor\":\"white\",\"minorgridcolor\":\"white\",\"startlinecolor\":\"#2a3f5f\"},\"type\":\"carpet\"}],\"choropleth\":[{\"colorbar\":{\"outlinewidth\":0,\"ticks\":\"\"},\"type\":\"choropleth\"}],\"contourcarpet\":[{\"colorbar\":{\"outlinewidth\":0,\"ticks\":\"\"},\"type\":\"contourcarpet\"}],\"contour\":[{\"colorbar\":{\"outlinewidth\":0,\"ticks\":\"\"},\"colorscale\":[[0.0,\"#0d0887\"],[0.1111111111111111,\"#46039f\"],[0.2222222222222222,\"#7201a8\"],[0.3333333333333333,\"#9c179e\"],[0.4444444444444444,\"#bd3786\"],[0.5555555555555556,\"#d8576b\"],[0.6666666666666666,\"#ed7953\"],[0.7777777777777778,\"#fb9f3a\"],[0.8888888888888888,\"#fdca26\"],[1.0,\"#f0f921\"]],\"type\":\"contour\"}],\"heatmapgl\":[{\"colorbar\":{\"outlinewidth\":0,\"ticks\":\"\"},\"colorscale\":[[0.0,\"#0d0887\"],[0.1111111111111111,\"#46039f\"],[0.2222222222222222,\"#7201a8\"],[0.3333333333333333,\"#9c179e\"],[0.4444444444444444,\"#bd3786\"],[0.5555555555555556,\"#d8576b\"],[0.6666666666666666,\"#ed7953\"],[0.7777777777777778,\"#fb9f3a\"],[0.8888888888888888,\"#fdca26\"],[1.0,\"#f0f921\"]],\"type\":\"heatmapgl\"}],\"heatmap\":[{\"colorbar\":{\"outlinewidth\":0,\"ticks\":\"\"},\"colorscale\":[[0.0,\"#0d0887\"],[0.1111111111111111,\"#46039f\"],[0.2222222222222222,\"#7201a8\"],[0.3333333333333333,\"#9c179e\"],[0.4444444444444444,\"#bd3786\"],[0.5555555555555556,\"#d8576b\"],[0.6666666666666666,\"#ed7953\"],[0.7777777777777778,\"#fb9f3a\"],[0.8888888888888888,\"#fdca26\"],[1.0,\"#f0f921\"]],\"type\":\"heatmap\"}],\"histogram2dcontour\":[{\"colorbar\":{\"outlinewidth\":0,\"ticks\":\"\"},\"colorscale\":[[0.0,\"#0d0887\"],[0.1111111111111111,\"#46039f\"],[0.2222222222222222,\"#7201a8\"],[0.3333333333333333,\"#9c179e\"],[0.4444444444444444,\"#bd3786\"],[0.5555555555555556,\"#d8576b\"],[0.6666666666666666,\"#ed7953\"],[0.7777777777777778,\"#fb9f3a\"],[0.8888888888888888,\"#fdca26\"],[1.0,\"#f0f921\"]],\"type\":\"histogram2dcontour\"}],\"histogram2d\":[{\"colorbar\":{\"outlinewidth\":0,\"ticks\":\"\"},\"colorscale\":[[0.0,\"#0d0887\"],[0.1111111111111111,\"#46039f\"],[0.2222222222222222,\"#7201a8\"],[0.3333333333333333,\"#9c179e\"],[0.4444444444444444,\"#bd3786\"],[0.5555555555555556,\"#d8576b\"],[0.6666666666666666,\"#ed7953\"],[0.7777777777777778,\"#fb9f3a\"],[0.8888888888888888,\"#fdca26\"],[1.0,\"#f0f921\"]],\"type\":\"histogram2d\"}],\"histogram\":[{\"marker\":{\"pattern\":{\"fillmode\":\"overlay\",\"size\":10,\"solidity\":0.2}},\"type\":\"histogram\"}],\"mesh3d\":[{\"colorbar\":{\"outlinewidth\":0,\"ticks\":\"\"},\"type\":\"mesh3d\"}],\"parcoords\":[{\"line\":{\"colorbar\":{\"outlinewidth\":0,\"ticks\":\"\"}},\"type\":\"parcoords\"}],\"pie\":[{\"automargin\":true,\"type\":\"pie\"}],\"scatter3d\":[{\"line\":{\"colorbar\":{\"outlinewidth\":0,\"ticks\":\"\"}},\"marker\":{\"colorbar\":{\"outlinewidth\":0,\"ticks\":\"\"}},\"type\":\"scatter3d\"}],\"scattercarpet\":[{\"marker\":{\"colorbar\":{\"outlinewidth\":0,\"ticks\":\"\"}},\"type\":\"scattercarpet\"}],\"scattergeo\":[{\"marker\":{\"colorbar\":{\"outlinewidth\":0,\"ticks\":\"\"}},\"type\":\"scattergeo\"}],\"scattergl\":[{\"marker\":{\"colorbar\":{\"outlinewidth\":0,\"ticks\":\"\"}},\"type\":\"scattergl\"}],\"scattermapbox\":[{\"marker\":{\"colorbar\":{\"outlinewidth\":0,\"ticks\":\"\"}},\"type\":\"scattermapbox\"}],\"scatterpolargl\":[{\"marker\":{\"colorbar\":{\"outlinewidth\":0,\"ticks\":\"\"}},\"type\":\"scatterpolargl\"}],\"scatterpolar\":[{\"marker\":{\"colorbar\":{\"outlinewidth\":0,\"ticks\":\"\"}},\"type\":\"scatterpolar\"}],\"scatter\":[{\"fillpattern\":{\"fillmode\":\"overlay\",\"size\":10,\"solidity\":0.2},\"type\":\"scatter\"}],\"scatterternary\":[{\"marker\":{\"colorbar\":{\"outlinewidth\":0,\"ticks\":\"\"}},\"type\":\"scatterternary\"}],\"surface\":[{\"colorbar\":{\"outlinewidth\":0,\"ticks\":\"\"},\"colorscale\":[[0.0,\"#0d0887\"],[0.1111111111111111,\"#46039f\"],[0.2222222222222222,\"#7201a8\"],[0.3333333333333333,\"#9c179e\"],[0.4444444444444444,\"#bd3786\"],[0.5555555555555556,\"#d8576b\"],[0.6666666666666666,\"#ed7953\"],[0.7777777777777778,\"#fb9f3a\"],[0.8888888888888888,\"#fdca26\"],[1.0,\"#f0f921\"]],\"type\":\"surface\"}],\"table\":[{\"cells\":{\"fill\":{\"color\":\"#EBF0F8\"},\"line\":{\"color\":\"white\"}},\"header\":{\"fill\":{\"color\":\"#C8D4E3\"},\"line\":{\"color\":\"white\"}},\"type\":\"table\"}]},\"layout\":{\"annotationdefaults\":{\"arrowcolor\":\"#2a3f5f\",\"arrowhead\":0,\"arrowwidth\":1},\"autotypenumbers\":\"strict\",\"coloraxis\":{\"colorbar\":{\"outlinewidth\":0,\"ticks\":\"\"}},\"colorscale\":{\"diverging\":[[0,\"#8e0152\"],[0.1,\"#c51b7d\"],[0.2,\"#de77ae\"],[0.3,\"#f1b6da\"],[0.4,\"#fde0ef\"],[0.5,\"#f7f7f7\"],[0.6,\"#e6f5d0\"],[0.7,\"#b8e186\"],[0.8,\"#7fbc41\"],[0.9,\"#4d9221\"],[1,\"#276419\"]],\"sequential\":[[0.0,\"#0d0887\"],[0.1111111111111111,\"#46039f\"],[0.2222222222222222,\"#7201a8\"],[0.3333333333333333,\"#9c179e\"],[0.4444444444444444,\"#bd3786\"],[0.5555555555555556,\"#d8576b\"],[0.6666666666666666,\"#ed7953\"],[0.7777777777777778,\"#fb9f3a\"],[0.8888888888888888,\"#fdca26\"],[1.0,\"#f0f921\"]],\"sequentialminus\":[[0.0,\"#0d0887\"],[0.1111111111111111,\"#46039f\"],[0.2222222222222222,\"#7201a8\"],[0.3333333333333333,\"#9c179e\"],[0.4444444444444444,\"#bd3786\"],[0.5555555555555556,\"#d8576b\"],[0.6666666666666666,\"#ed7953\"],[0.7777777777777778,\"#fb9f3a\"],[0.8888888888888888,\"#fdca26\"],[1.0,\"#f0f921\"]]},\"colorway\":[\"#636efa\",\"#EF553B\",\"#00cc96\",\"#ab63fa\",\"#FFA15A\",\"#19d3f3\",\"#FF6692\",\"#B6E880\",\"#FF97FF\",\"#FECB52\"],\"font\":{\"color\":\"#2a3f5f\"},\"geo\":{\"bgcolor\":\"white\",\"lakecolor\":\"white\",\"landcolor\":\"#E5ECF6\",\"showlakes\":true,\"showland\":true,\"subunitcolor\":\"white\"},\"hoverlabel\":{\"align\":\"left\"},\"hovermode\":\"closest\",\"mapbox\":{\"style\":\"light\"},\"paper_bgcolor\":\"white\",\"plot_bgcolor\":\"#E5ECF6\",\"polar\":{\"angularaxis\":{\"gridcolor\":\"white\",\"linecolor\":\"white\",\"ticks\":\"\"},\"bgcolor\":\"#E5ECF6\",\"radialaxis\":{\"gridcolor\":\"white\",\"linecolor\":\"white\",\"ticks\":\"\"}},\"scene\":{\"xaxis\":{\"backgroundcolor\":\"#E5ECF6\",\"gridcolor\":\"white\",\"gridwidth\":2,\"linecolor\":\"white\",\"showbackground\":true,\"ticks\":\"\",\"zerolinecolor\":\"white\"},\"yaxis\":{\"backgroundcolor\":\"#E5ECF6\",\"gridcolor\":\"white\",\"gridwidth\":2,\"linecolor\":\"white\",\"showbackground\":true,\"ticks\":\"\",\"zerolinecolor\":\"white\"},\"zaxis\":{\"backgroundcolor\":\"#E5ECF6\",\"gridcolor\":\"white\",\"gridwidth\":2,\"linecolor\":\"white\",\"showbackground\":true,\"ticks\":\"\",\"zerolinecolor\":\"white\"}},\"shapedefaults\":{\"line\":{\"color\":\"#2a3f5f\"}},\"ternary\":{\"aaxis\":{\"gridcolor\":\"white\",\"linecolor\":\"white\",\"ticks\":\"\"},\"baxis\":{\"gridcolor\":\"white\",\"linecolor\":\"white\",\"ticks\":\"\"},\"bgcolor\":\"#E5ECF6\",\"caxis\":{\"gridcolor\":\"white\",\"linecolor\":\"white\",\"ticks\":\"\"}},\"title\":{\"x\":0.05},\"xaxis\":{\"automargin\":true,\"gridcolor\":\"white\",\"linecolor\":\"white\",\"ticks\":\"\",\"title\":{\"standoff\":15},\"zerolinecolor\":\"white\",\"zerolinewidth\":2},\"yaxis\":{\"automargin\":true,\"gridcolor\":\"white\",\"linecolor\":\"white\",\"ticks\":\"\",\"title\":{\"standoff\":15},\"zerolinecolor\":\"white\",\"zerolinewidth\":2}}},\"title\":{\"text\":\"Distribution of Ratings\"},\"xaxis\":{\"title\":{\"text\":\"Rating\"}},\"yaxis\":{\"title\":{\"text\":\"Count\"}}},                        {\"responsive\": true}                    ).then(function(){\n",
       "                            \n",
       "var gd = document.getElementById('ec2df8d0-42d8-4354-8702-419e1393270d');\n",
       "var x = new MutationObserver(function (mutations, observer) {{\n",
       "        var display = window.getComputedStyle(gd).display;\n",
       "        if (!display || display === 'none') {{\n",
       "            console.log([gd, 'removed!']);\n",
       "            Plotly.purge(gd);\n",
       "            observer.disconnect();\n",
       "        }}\n",
       "}});\n",
       "\n",
       "// Listen for the removal of the full notebook cells\n",
       "var notebookContainer = gd.closest('#notebook-container');\n",
       "if (notebookContainer) {{\n",
       "    x.observe(notebookContainer, {childList: true});\n",
       "}}\n",
       "\n",
       "// Listen for the clearing of the current output cell\n",
       "var outputEl = gd.closest('.output');\n",
       "if (outputEl) {{\n",
       "    x.observe(outputEl, {childList: true});\n",
       "}}\n",
       "\n",
       "                        })                };                });            </script>        </div>"
      ]
     },
     "metadata": {},
     "output_type": "display_data"
    }
   ],
   "source": [
    "from plotly.offline import init_notebook_mode, plot, iplot\n",
    "import plotly.graph_objs as go\n",
    "init_notebook_mode(connected=True)\n",
    "\n",
    "data = ratings_df['rating'].value_counts().sort_index(ascending=False)\n",
    "\n",
    "trace = go.Bar(\n",
    "    x = data.index,\n",
    "     text = ['{:.1f} %'.format(val) for val in (data.values / ratings_df.shape[0] * 100)],\n",
    "     textposition = 'auto',\n",
    "     textfont = dict(color = '#000000'),\n",
    "     y = data.values\n",
    ")\n",
    "\n",
    "layout = dict(\n",
    "     title='Distribution of Ratings', \n",
    "     xaxis = dict(title = 'Rating'),\n",
    "     yaxis = dict(title = 'Count')\n",
    ")\n",
    "\n",
    "fig = go.Figure(data=[trace], layout=layout)\n",
    "iplot(fig)"
   ]
  },
  {
   "cell_type": "code",
   "execution_count": 4,
   "metadata": {},
   "outputs": [
    {
     "data": {
      "application/vnd.plotly.v1+json": {
       "config": {
        "linkText": "Export to plot.ly",
        "plotlyServerURL": "https://plot.ly",
        "showLink": false
       },
       "data": [
        {
         "name": "Ratings",
         "type": "histogram",
         "x": [
          452,
          131,
          90,
          209,
          86,
          26,
          392,
          219,
          299,
          89,
          236,
          267,
          184,
          183,
          293,
          39,
          92,
          10,
          69,
          72,
          84,
          297,
          182,
          174,
          293,
          73,
          57,
          276,
          114,
          37,
          154,
          81,
          97,
          7,
          11,
          13,
          8,
          120,
          87,
          57,
          37,
          148,
          40,
          79,
          80,
          27,
          133,
          117,
          81,
          583,
          81,
          91,
          128,
          104,
          149,
          394,
          40,
          175,
          83,
          64,
          59,
          127,
          82,
          283,
          115,
          162,
          103,
          134,
          321,
          251,
          220,
          129,
          128,
          7,
          5,
          54,
          151,
          33,
          336,
          68,
          110,
          261,
          176,
          18,
          58,
          150,
          138,
          213,
          275,
          95,
          143,
          104,
          112,
          137,
          219,
          295,
          256,
          390,
          172,
          508,
          73,
          54,
          15,
          5,
          74,
          71,
          42,
          65,
          130,
          31,
          272,
          20,
          9,
          67,
          15,
          125,
          378,
          293,
          4,
          67,
          429,
          106,
          115,
          187,
          244,
          97,
          413,
          65,
          129,
          23,
          95,
          246,
          171,
          198,
          259,
          105,
          171,
          19,
          50,
          61,
          72,
          57,
          222,
          243,
          65,
          10,
          185,
          128,
          23,
          157,
          326,
          82,
          247,
          174,
          98,
          148,
          127,
          60,
          101,
          69,
          220,
          106,
          92,
          151,
          64,
          58,
          67,
          316,
          118,
          121,
          65,
          367,
          324,
          420,
          208,
          284,
          137,
          125,
          221,
          221,
          507,
          226,
          291,
          116,
          239,
          251,
          209,
          170,
          66,
          124,
          276,
          116,
          157,
          241,
          301,
          251,
          239,
          127,
          165,
          206,
          89,
          280,
          182,
          350,
          136,
          50,
          66,
          200,
          191,
          331,
          206,
          92,
          134,
          114,
          212,
          290,
          120,
          171,
          111,
          66,
          74,
          365,
          136,
          44,
          109,
          166,
          161,
          244,
          171,
          199,
          142,
          101,
          124,
          280,
          217,
          45,
          384,
          256,
          150,
          156,
          128,
          117,
          132,
          48,
          240,
          124,
          5,
          160,
          130,
          197,
          46,
          158,
          26,
          62,
          172,
          16,
          303,
          509,
          162,
          127,
          43,
          66,
          19,
          101,
          227,
          35,
          9,
          255,
          315,
          136,
          211,
          198,
          223,
          190,
          268,
          298,
          71,
          60,
          28,
          85,
          146,
          232,
          177,
          193,
          162,
          481,
          78,
          478,
          259,
          96,
          127,
          114,
          147,
          485,
          77,
          6,
          50,
          194,
          73,
          431,
          230,
          297,
          134,
          149,
          87,
          96,
          188,
          30,
          28,
          145,
          75,
          80,
          350,
          5,
          160,
          112,
          102,
          298,
          168,
          20,
          169,
          218,
          240,
          125,
          128,
          175,
          175,
          295,
          45,
          41,
          113,
          143,
          251,
          64,
          21,
          43,
          18,
          91,
          47,
          189,
          11,
          52,
          124,
          55,
          65,
          126,
          137,
          27,
          31,
          41,
          20,
          26,
          14,
          72,
          41,
          97,
          264,
          143,
          18,
          10,
          10,
          28,
          47,
          37,
          48,
          47,
          170,
          31,
          55,
          39,
          67,
          34,
          39,
          11,
          23,
          24,
          13,
          101,
          43,
          116,
          100,
          111,
          31,
          69,
          208,
          87,
          65,
          28,
          27,
          10,
          59,
          68,
          192,
          12,
          56,
          54,
          12,
          26,
          89,
          18,
          76,
          170,
          201,
          101,
          344,
          49,
          43,
          112,
          70,
          162,
          163,
          93,
          55,
          62,
          25,
          64,
          73,
          129,
          178,
          81,
          106,
          26,
          300,
          19,
          85,
          32,
          219,
          121,
          97,
          93,
          153,
          174,
          171,
          67,
          216,
          99,
          5,
          6,
          5,
          14,
          53,
          4,
          162,
          46,
          22,
          9,
          121,
          85,
          117,
          63,
          170,
          66,
          16,
          16,
          145,
          48,
          27,
          90,
          24,
          28,
          74,
          148,
          71,
          27,
          85,
          52,
          48,
          64,
          67,
          108,
          221,
          158,
          126,
          194,
          250,
          160,
          95,
          104,
          179,
          179,
          63,
          128,
          243,
          138,
          125,
          64,
          68,
          65,
          52,
          50,
          67,
          59,
          60,
          56,
          59,
          231,
          68,
          152,
          62,
          31,
          123,
          57,
          39,
          122,
          68,
          90,
          98,
          215,
          121,
          121,
          173,
          57,
          72,
          180,
          201,
          63,
          91,
          89,
          80,
          124,
          120,
          35,
          164,
          46,
          73,
          124,
          195,
          121,
          93,
          80,
          129,
          22,
          15,
          13,
          54,
          10,
          30,
          66,
          44,
          43,
          49,
          51,
          21,
          71,
          12,
          254,
          41,
          12,
          92,
          151,
          24,
          45,
          63,
          102,
          10,
          12,
          17,
          70,
          137,
          22,
          59,
          48,
          29,
          27,
          22,
          179,
          35,
          230,
          67,
          50,
          28,
          29,
          33,
          15,
          44,
          93,
          41,
          92,
          19,
          32,
          59,
          168,
          37,
          79,
          39,
          34,
          14,
          202,
          43,
          18,
          178,
          9,
          12,
          5,
          64,
          127,
          206,
          4,
          1,
          2,
          20,
          50,
          209,
          81,
          31,
          66,
          66,
          30,
          60,
          41,
          40,
          34,
          27,
          51,
          59,
          64,
          18,
          18,
          64,
          43,
          11,
          39,
          39,
          22,
          82,
          4,
          75,
          169,
          77,
          31,
          119,
          58,
          69,
          24,
          23,
          91,
          38,
          44,
          40,
          82,
          33,
          89,
          4,
          35,
          27,
          38,
          70,
          67,
          50,
          72,
          171,
          90,
          34,
          147,
          227,
          44,
          131,
          79,
          115,
          153,
          88,
          82,
          116,
          46,
          100,
          5,
          12,
          6,
          13,
          36,
          46,
          65,
          86,
          48,
          54,
          77,
          1,
          219,
          107,
          34,
          27,
          100,
          49,
          169,
          157,
          50,
          69,
          44,
          87,
          155,
          16,
          164,
          91,
          44,
          13,
          79,
          40,
          10,
          102,
          15,
          10,
          53,
          19,
          24,
          137,
          6,
          70,
          101,
          104,
          79,
          1,
          51,
          72,
          13,
          87,
          58,
          82,
          16,
          29,
          86,
          54,
          58,
          34,
          76,
          16,
          14,
          63,
          45,
          81,
          24,
          39,
          180,
          15,
          27,
          137,
          78,
          59,
          31,
          164,
          63,
          58,
          267,
          39,
          92,
          16,
          119,
          102,
          316,
          51,
          124,
          180,
          39,
          24,
          57,
          96,
          128,
          4,
          21,
          11,
          46,
          44,
          115,
          149,
          29,
          32,
          9,
          11,
          52,
          42,
          57,
          41,
          49,
          17,
          32,
          26,
          9,
          4,
          76,
          31,
          69,
          84,
          10,
          37,
          2,
          39,
          14,
          13,
          3,
          47,
          66,
          10,
          86,
          10,
          46,
          21,
          36,
          31,
          9,
          5,
          26,
          16,
          40,
          9,
          8,
          27,
          50,
          9,
          31,
          43,
          45,
          18,
          18,
          56,
          1,
          112,
          21,
          3,
          25,
          40,
          93,
          22,
          4,
          82,
          49,
          83,
          80,
          57,
          13,
          34,
          1,
          91,
          22,
          49,
          25,
          15,
          26,
          25,
          4,
          4,
          53,
          48,
          27,
          30,
          42,
          176,
          44,
          55,
          9,
          53,
          4,
          4,
          1,
          14,
          16,
          66,
          36,
          1,
          3,
          15,
          16,
          3,
          18,
          24,
          86,
          21,
          119,
          6,
          5,
          24,
          9,
          75,
          42,
          81,
          39,
          53,
          47,
          52,
          33,
          136,
          59,
          45,
          34,
          13,
          7,
          13,
          53,
          64,
          15,
          13,
          43,
          6,
          53,
          14,
          19,
          106,
          44,
          2,
          58,
          9,
          42,
          12,
          42,
          18,
          20,
          27,
          21,
          2,
          20,
          13,
          4,
          4,
          9,
          2,
          11,
          13,
          18,
          7,
          8,
          96,
          5,
          46,
          34,
          58,
          85,
          34,
          101,
          6,
          104,
          40,
          80,
          57,
          40,
          21,
          68,
          7,
          32,
          37,
          25,
          60,
          32,
          46,
          45,
          40,
          43,
          40,
          61,
          17,
          48,
          71,
          30,
          39,
          45,
          22,
          11,
          49,
          46,
          2,
          14,
          64,
          25,
          34,
          23,
          41,
          9,
          21,
          26,
          12,
          18,
          75,
          8,
          34,
          28,
          4,
          32,
          44,
          12,
          49,
          27,
          35,
          22,
          8,
          20,
          15,
          44,
          22,
          23,
          4,
          86,
          32,
          33,
          25,
          4,
          66,
          7,
          31,
          14,
          16,
          16,
          10,
          10,
          17,
          8,
          8,
          9,
          22,
          23,
          47,
          37,
          64,
          44,
          93,
          100,
          38,
          98,
          12,
          137,
          50,
          32,
          31,
          35,
          38,
          32,
          31,
          15,
          44,
          4,
          3,
          148,
          14,
          20,
          7,
          16,
          32,
          27,
          68,
          24,
          24,
          17,
          90,
          25,
          62,
          28,
          8,
          40,
          25,
          46,
          134,
          73,
          25,
          43,
          41,
          25,
          24,
          23,
          10,
          10,
          22,
          15,
          35,
          39,
          29,
          12,
          41,
          4,
          53,
          16,
          44,
          12,
          18,
          27,
          16,
          7,
          66,
          77,
          7,
          12,
          8,
          22,
          45,
          2,
          8,
          8,
          6,
          21,
          11,
          21,
          10,
          13,
          38,
          37,
          43,
          12,
          23,
          12,
          29,
          3,
          18,
          42,
          13,
          8,
          74,
          7,
          19,
          4,
          18,
          4,
          18,
          5,
          28,
          41,
          7,
          15,
          22,
          10,
          29,
          13,
          19,
          47,
          59,
          17,
          21,
          1,
          3,
          12,
          4,
          32,
          11,
          13,
          28,
          1,
          13,
          32,
          30,
          38,
          46,
          29,
          29,
          5,
          33,
          17,
          9,
          44,
          15,
          3,
          9,
          3,
          21,
          9,
          26,
          9,
          7,
          28,
          19,
          12,
          3,
          1,
          25,
          4,
          11,
          26,
          13,
          5,
          25,
          6,
          14,
          12,
          11,
          22,
          10,
          27,
          14,
          15,
          7,
          8,
          5,
          22,
          7,
          19,
          9,
          10,
          10,
          13,
          19,
          10,
          18,
          3,
          13,
          44,
          3,
          11,
          3,
          13,
          10,
          31,
          11,
          3,
          45,
          7,
          23,
          7,
          1,
          8,
          21,
          18,
          6,
          19,
          17,
          20,
          15,
          38,
          12,
          6,
          6,
          9,
          30,
          6,
          39,
          26,
          20,
          30,
          39,
          25,
          4,
          12,
          14,
          32,
          8,
          48,
          13,
          18,
          22,
          17,
          6,
          8,
          1,
          1,
          6,
          8,
          18,
          26,
          6,
          5,
          7,
          36,
          19,
          7,
          6,
          19,
          12,
          6,
          8,
          9,
          7,
          11,
          8,
          3,
          4,
          23,
          4,
          4,
          4,
          8,
          15,
          7,
          19,
          12,
          33,
          10,
          10,
          7,
          7,
          5,
          15,
          11,
          4,
          8,
          19,
          16,
          9,
          16,
          13,
          9,
          19,
          26,
          15,
          17,
          6,
          7,
          7,
          2,
          15,
          3,
          3,
          7,
          7,
          20,
          12,
          9,
          8,
          9,
          5,
          5,
          18,
          2,
          7,
          2,
          2,
          2,
          1,
          1,
          16,
          7,
          14,
          11,
          23,
          7,
          4,
          3,
          4,
          1,
          2,
          6,
          3,
          5,
          1,
          6,
          3,
          6,
          1,
          4,
          4,
          2,
          5,
          2,
          11,
          10,
          9,
          4,
          1,
          1,
          1,
          2,
          1,
          5,
          2,
          5,
          4,
          1,
          1,
          2,
          3,
          1,
          5,
          2,
          6,
          3,
          3,
          2,
          2,
          2,
          3,
          2,
          1,
          1,
          2,
          1,
          5,
          6,
          4,
          3,
          2,
          3,
          1,
          2,
          10,
          7,
          4,
          5,
          7,
          6,
          8,
          4,
          6,
          3,
          5,
          6,
          3,
          6,
          3,
          2,
          3,
          5,
          9,
          7,
          6,
          5,
          5,
          2,
          7,
          10,
          18,
          4,
          4,
          13,
          6,
          5,
          20,
          3,
          7,
          4,
          28,
          6,
          8,
          1,
          9,
          5,
          2,
          3,
          16,
          3,
          11,
          4,
          4,
          3,
          10,
          8,
          5,
          12,
          4,
          3,
          5,
          3,
          2,
          10,
          7,
          2,
          9,
          5,
          8,
          5,
          7,
          5,
          4,
          19,
          4,
          15,
          1,
          3,
          8,
          2,
          15,
          1,
          1,
          6,
          2,
          7,
          1,
          1,
          7,
          1,
          1,
          7,
          3,
          3,
          3,
          6,
          2,
          6,
          12,
          5,
          9,
          2,
          9,
          6,
          8,
          1,
          2,
          18,
          8,
          11,
          2,
          1,
          12,
          3,
          4,
          1,
          5,
          4,
          5,
          3,
          2,
          1,
          1,
          1,
          5,
          5,
          2,
          1,
          4,
          2,
          5,
          2,
          10,
          3,
          1,
          3,
          1,
          3,
          5,
          1,
          5,
          6,
          3,
          7,
          1,
          3,
          5,
          12,
          2,
          1,
          4,
          7,
          2,
          8,
          1,
          1,
          7,
          3,
          5,
          5,
          7,
          2,
          1,
          6,
          4,
          1,
          4,
          3,
          4,
          10,
          2,
          2,
          1,
          3,
          4,
          1,
          2,
          1,
          2,
          2,
          2,
          3,
          4,
          2,
          5,
          2,
          1,
          7,
          1,
          4,
          1,
          1,
          1,
          1,
          1,
          1,
          1,
          1,
          1,
          1,
          1,
          1,
          2,
          1,
          1,
          1,
          1,
          2,
          1,
          1,
          1,
          1,
          1,
          1,
          2,
          1,
          1,
          2,
          4,
          2,
          6,
          5,
          1,
          2,
          1,
          1,
          5,
          6,
          1,
          4,
          1,
          3,
          1,
          1,
          4,
          1,
          3,
          4,
          3,
          3,
          2,
          4,
          1,
          1,
          10,
          1,
          2,
          1,
          1,
          9,
          1,
          3,
          3,
          1,
          1,
          1,
          1,
          4,
          2,
          1,
          2,
          1,
          1,
          1,
          1,
          1,
          1,
          1,
          3,
          1,
          1,
          2,
          4,
          2,
          1,
          2,
          1,
          1,
          1,
          1,
          1,
          3,
          1,
          1,
          1,
          2,
          1,
          3,
          1,
          1,
          1,
          2,
          1,
          4,
          1,
          1,
          1,
          1,
          1,
          1,
          1,
          2,
          1,
          1,
          1,
          1,
          1,
          1,
          1,
          1,
          1,
          1
         ],
         "xbins": {
          "end": 100,
          "size": 2,
          "start": 0
         }
        }
       ],
       "layout": {
        "bargap": 0.1,
        "template": {
         "data": {
          "bar": [
           {
            "error_x": {
             "color": "#2a3f5f"
            },
            "error_y": {
             "color": "#2a3f5f"
            },
            "marker": {
             "line": {
              "color": "#E5ECF6",
              "width": 0.5
             },
             "pattern": {
              "fillmode": "overlay",
              "size": 10,
              "solidity": 0.2
             }
            },
            "type": "bar"
           }
          ],
          "barpolar": [
           {
            "marker": {
             "line": {
              "color": "#E5ECF6",
              "width": 0.5
             },
             "pattern": {
              "fillmode": "overlay",
              "size": 10,
              "solidity": 0.2
             }
            },
            "type": "barpolar"
           }
          ],
          "carpet": [
           {
            "aaxis": {
             "endlinecolor": "#2a3f5f",
             "gridcolor": "white",
             "linecolor": "white",
             "minorgridcolor": "white",
             "startlinecolor": "#2a3f5f"
            },
            "baxis": {
             "endlinecolor": "#2a3f5f",
             "gridcolor": "white",
             "linecolor": "white",
             "minorgridcolor": "white",
             "startlinecolor": "#2a3f5f"
            },
            "type": "carpet"
           }
          ],
          "choropleth": [
           {
            "colorbar": {
             "outlinewidth": 0,
             "ticks": ""
            },
            "type": "choropleth"
           }
          ],
          "contour": [
           {
            "colorbar": {
             "outlinewidth": 0,
             "ticks": ""
            },
            "colorscale": [
             [
              0,
              "#0d0887"
             ],
             [
              0.1111111111111111,
              "#46039f"
             ],
             [
              0.2222222222222222,
              "#7201a8"
             ],
             [
              0.3333333333333333,
              "#9c179e"
             ],
             [
              0.4444444444444444,
              "#bd3786"
             ],
             [
              0.5555555555555556,
              "#d8576b"
             ],
             [
              0.6666666666666666,
              "#ed7953"
             ],
             [
              0.7777777777777778,
              "#fb9f3a"
             ],
             [
              0.8888888888888888,
              "#fdca26"
             ],
             [
              1,
              "#f0f921"
             ]
            ],
            "type": "contour"
           }
          ],
          "contourcarpet": [
           {
            "colorbar": {
             "outlinewidth": 0,
             "ticks": ""
            },
            "type": "contourcarpet"
           }
          ],
          "heatmap": [
           {
            "colorbar": {
             "outlinewidth": 0,
             "ticks": ""
            },
            "colorscale": [
             [
              0,
              "#0d0887"
             ],
             [
              0.1111111111111111,
              "#46039f"
             ],
             [
              0.2222222222222222,
              "#7201a8"
             ],
             [
              0.3333333333333333,
              "#9c179e"
             ],
             [
              0.4444444444444444,
              "#bd3786"
             ],
             [
              0.5555555555555556,
              "#d8576b"
             ],
             [
              0.6666666666666666,
              "#ed7953"
             ],
             [
              0.7777777777777778,
              "#fb9f3a"
             ],
             [
              0.8888888888888888,
              "#fdca26"
             ],
             [
              1,
              "#f0f921"
             ]
            ],
            "type": "heatmap"
           }
          ],
          "heatmapgl": [
           {
            "colorbar": {
             "outlinewidth": 0,
             "ticks": ""
            },
            "colorscale": [
             [
              0,
              "#0d0887"
             ],
             [
              0.1111111111111111,
              "#46039f"
             ],
             [
              0.2222222222222222,
              "#7201a8"
             ],
             [
              0.3333333333333333,
              "#9c179e"
             ],
             [
              0.4444444444444444,
              "#bd3786"
             ],
             [
              0.5555555555555556,
              "#d8576b"
             ],
             [
              0.6666666666666666,
              "#ed7953"
             ],
             [
              0.7777777777777778,
              "#fb9f3a"
             ],
             [
              0.8888888888888888,
              "#fdca26"
             ],
             [
              1,
              "#f0f921"
             ]
            ],
            "type": "heatmapgl"
           }
          ],
          "histogram": [
           {
            "marker": {
             "pattern": {
              "fillmode": "overlay",
              "size": 10,
              "solidity": 0.2
             }
            },
            "type": "histogram"
           }
          ],
          "histogram2d": [
           {
            "colorbar": {
             "outlinewidth": 0,
             "ticks": ""
            },
            "colorscale": [
             [
              0,
              "#0d0887"
             ],
             [
              0.1111111111111111,
              "#46039f"
             ],
             [
              0.2222222222222222,
              "#7201a8"
             ],
             [
              0.3333333333333333,
              "#9c179e"
             ],
             [
              0.4444444444444444,
              "#bd3786"
             ],
             [
              0.5555555555555556,
              "#d8576b"
             ],
             [
              0.6666666666666666,
              "#ed7953"
             ],
             [
              0.7777777777777778,
              "#fb9f3a"
             ],
             [
              0.8888888888888888,
              "#fdca26"
             ],
             [
              1,
              "#f0f921"
             ]
            ],
            "type": "histogram2d"
           }
          ],
          "histogram2dcontour": [
           {
            "colorbar": {
             "outlinewidth": 0,
             "ticks": ""
            },
            "colorscale": [
             [
              0,
              "#0d0887"
             ],
             [
              0.1111111111111111,
              "#46039f"
             ],
             [
              0.2222222222222222,
              "#7201a8"
             ],
             [
              0.3333333333333333,
              "#9c179e"
             ],
             [
              0.4444444444444444,
              "#bd3786"
             ],
             [
              0.5555555555555556,
              "#d8576b"
             ],
             [
              0.6666666666666666,
              "#ed7953"
             ],
             [
              0.7777777777777778,
              "#fb9f3a"
             ],
             [
              0.8888888888888888,
              "#fdca26"
             ],
             [
              1,
              "#f0f921"
             ]
            ],
            "type": "histogram2dcontour"
           }
          ],
          "mesh3d": [
           {
            "colorbar": {
             "outlinewidth": 0,
             "ticks": ""
            },
            "type": "mesh3d"
           }
          ],
          "parcoords": [
           {
            "line": {
             "colorbar": {
              "outlinewidth": 0,
              "ticks": ""
             }
            },
            "type": "parcoords"
           }
          ],
          "pie": [
           {
            "automargin": true,
            "type": "pie"
           }
          ],
          "scatter": [
           {
            "fillpattern": {
             "fillmode": "overlay",
             "size": 10,
             "solidity": 0.2
            },
            "type": "scatter"
           }
          ],
          "scatter3d": [
           {
            "line": {
             "colorbar": {
              "outlinewidth": 0,
              "ticks": ""
             }
            },
            "marker": {
             "colorbar": {
              "outlinewidth": 0,
              "ticks": ""
             }
            },
            "type": "scatter3d"
           }
          ],
          "scattercarpet": [
           {
            "marker": {
             "colorbar": {
              "outlinewidth": 0,
              "ticks": ""
             }
            },
            "type": "scattercarpet"
           }
          ],
          "scattergeo": [
           {
            "marker": {
             "colorbar": {
              "outlinewidth": 0,
              "ticks": ""
             }
            },
            "type": "scattergeo"
           }
          ],
          "scattergl": [
           {
            "marker": {
             "colorbar": {
              "outlinewidth": 0,
              "ticks": ""
             }
            },
            "type": "scattergl"
           }
          ],
          "scattermapbox": [
           {
            "marker": {
             "colorbar": {
              "outlinewidth": 0,
              "ticks": ""
             }
            },
            "type": "scattermapbox"
           }
          ],
          "scatterpolar": [
           {
            "marker": {
             "colorbar": {
              "outlinewidth": 0,
              "ticks": ""
             }
            },
            "type": "scatterpolar"
           }
          ],
          "scatterpolargl": [
           {
            "marker": {
             "colorbar": {
              "outlinewidth": 0,
              "ticks": ""
             }
            },
            "type": "scatterpolargl"
           }
          ],
          "scatterternary": [
           {
            "marker": {
             "colorbar": {
              "outlinewidth": 0,
              "ticks": ""
             }
            },
            "type": "scatterternary"
           }
          ],
          "surface": [
           {
            "colorbar": {
             "outlinewidth": 0,
             "ticks": ""
            },
            "colorscale": [
             [
              0,
              "#0d0887"
             ],
             [
              0.1111111111111111,
              "#46039f"
             ],
             [
              0.2222222222222222,
              "#7201a8"
             ],
             [
              0.3333333333333333,
              "#9c179e"
             ],
             [
              0.4444444444444444,
              "#bd3786"
             ],
             [
              0.5555555555555556,
              "#d8576b"
             ],
             [
              0.6666666666666666,
              "#ed7953"
             ],
             [
              0.7777777777777778,
              "#fb9f3a"
             ],
             [
              0.8888888888888888,
              "#fdca26"
             ],
             [
              1,
              "#f0f921"
             ]
            ],
            "type": "surface"
           }
          ],
          "table": [
           {
            "cells": {
             "fill": {
              "color": "#EBF0F8"
             },
             "line": {
              "color": "white"
             }
            },
            "header": {
             "fill": {
              "color": "#C8D4E3"
             },
             "line": {
              "color": "white"
             }
            },
            "type": "table"
           }
          ]
         },
         "layout": {
          "annotationdefaults": {
           "arrowcolor": "#2a3f5f",
           "arrowhead": 0,
           "arrowwidth": 1
          },
          "autotypenumbers": "strict",
          "coloraxis": {
           "colorbar": {
            "outlinewidth": 0,
            "ticks": ""
           }
          },
          "colorscale": {
           "diverging": [
            [
             0,
             "#8e0152"
            ],
            [
             0.1,
             "#c51b7d"
            ],
            [
             0.2,
             "#de77ae"
            ],
            [
             0.3,
             "#f1b6da"
            ],
            [
             0.4,
             "#fde0ef"
            ],
            [
             0.5,
             "#f7f7f7"
            ],
            [
             0.6,
             "#e6f5d0"
            ],
            [
             0.7,
             "#b8e186"
            ],
            [
             0.8,
             "#7fbc41"
            ],
            [
             0.9,
             "#4d9221"
            ],
            [
             1,
             "#276419"
            ]
           ],
           "sequential": [
            [
             0,
             "#0d0887"
            ],
            [
             0.1111111111111111,
             "#46039f"
            ],
            [
             0.2222222222222222,
             "#7201a8"
            ],
            [
             0.3333333333333333,
             "#9c179e"
            ],
            [
             0.4444444444444444,
             "#bd3786"
            ],
            [
             0.5555555555555556,
             "#d8576b"
            ],
            [
             0.6666666666666666,
             "#ed7953"
            ],
            [
             0.7777777777777778,
             "#fb9f3a"
            ],
            [
             0.8888888888888888,
             "#fdca26"
            ],
            [
             1,
             "#f0f921"
            ]
           ],
           "sequentialminus": [
            [
             0,
             "#0d0887"
            ],
            [
             0.1111111111111111,
             "#46039f"
            ],
            [
             0.2222222222222222,
             "#7201a8"
            ],
            [
             0.3333333333333333,
             "#9c179e"
            ],
            [
             0.4444444444444444,
             "#bd3786"
            ],
            [
             0.5555555555555556,
             "#d8576b"
            ],
            [
             0.6666666666666666,
             "#ed7953"
            ],
            [
             0.7777777777777778,
             "#fb9f3a"
            ],
            [
             0.8888888888888888,
             "#fdca26"
            ],
            [
             1,
             "#f0f921"
            ]
           ]
          },
          "colorway": [
           "#636efa",
           "#EF553B",
           "#00cc96",
           "#ab63fa",
           "#FFA15A",
           "#19d3f3",
           "#FF6692",
           "#B6E880",
           "#FF97FF",
           "#FECB52"
          ],
          "font": {
           "color": "#2a3f5f"
          },
          "geo": {
           "bgcolor": "white",
           "lakecolor": "white",
           "landcolor": "#E5ECF6",
           "showlakes": true,
           "showland": true,
           "subunitcolor": "white"
          },
          "hoverlabel": {
           "align": "left"
          },
          "hovermode": "closest",
          "mapbox": {
           "style": "light"
          },
          "paper_bgcolor": "white",
          "plot_bgcolor": "#E5ECF6",
          "polar": {
           "angularaxis": {
            "gridcolor": "white",
            "linecolor": "white",
            "ticks": ""
           },
           "bgcolor": "#E5ECF6",
           "radialaxis": {
            "gridcolor": "white",
            "linecolor": "white",
            "ticks": ""
           }
          },
          "scene": {
           "xaxis": {
            "backgroundcolor": "#E5ECF6",
            "gridcolor": "white",
            "gridwidth": 2,
            "linecolor": "white",
            "showbackground": true,
            "ticks": "",
            "zerolinecolor": "white"
           },
           "yaxis": {
            "backgroundcolor": "#E5ECF6",
            "gridcolor": "white",
            "gridwidth": 2,
            "linecolor": "white",
            "showbackground": true,
            "ticks": "",
            "zerolinecolor": "white"
           },
           "zaxis": {
            "backgroundcolor": "#E5ECF6",
            "gridcolor": "white",
            "gridwidth": 2,
            "linecolor": "white",
            "showbackground": true,
            "ticks": "",
            "zerolinecolor": "white"
           }
          },
          "shapedefaults": {
           "line": {
            "color": "#2a3f5f"
           }
          },
          "ternary": {
           "aaxis": {
            "gridcolor": "white",
            "linecolor": "white",
            "ticks": ""
           },
           "baxis": {
            "gridcolor": "white",
            "linecolor": "white",
            "ticks": ""
           },
           "bgcolor": "#E5ECF6",
           "caxis": {
            "gridcolor": "white",
            "linecolor": "white",
            "ticks": ""
           }
          },
          "title": {
           "x": 0.05
          },
          "xaxis": {
           "automargin": true,
           "gridcolor": "white",
           "linecolor": "white",
           "ticks": "",
           "title": {
            "standoff": 15
           },
           "zerolinecolor": "white",
           "zerolinewidth": 2
          },
          "yaxis": {
           "automargin": true,
           "gridcolor": "white",
           "linecolor": "white",
           "ticks": "",
           "title": {
            "standoff": 15
           },
           "zerolinecolor": "white",
           "zerolinewidth": 2
          }
         }
        },
        "title": {
         "text": "Distribution of Ratings per Movie"
        },
        "xaxis": {
         "title": {
          "text": "Number of Ratings per movie"
         }
        },
        "yaxis": {
         "title": {
          "text": "Count"
         }
        }
       }
      },
      "text/html": [
       "<div>                            <div id=\"a5336358-4202-4589-921d-30d2e852105e\" class=\"plotly-graph-div\" style=\"height:525px; width:100%;\"></div>            <script type=\"text/javascript\">                require([\"plotly\"], function(Plotly) {                    window.PLOTLYENV=window.PLOTLYENV || {};                                    if (document.getElementById(\"a5336358-4202-4589-921d-30d2e852105e\")) {                    Plotly.newPlot(                        \"a5336358-4202-4589-921d-30d2e852105e\",                        [{\"name\":\"Ratings\",\"x\":[452,131,90,209,86,26,392,219,299,89,236,267,184,183,293,39,92,10,69,72,84,297,182,174,293,73,57,276,114,37,154,81,97,7,11,13,8,120,87,57,37,148,40,79,80,27,133,117,81,583,81,91,128,104,149,394,40,175,83,64,59,127,82,283,115,162,103,134,321,251,220,129,128,7,5,54,151,33,336,68,110,261,176,18,58,150,138,213,275,95,143,104,112,137,219,295,256,390,172,508,73,54,15,5,74,71,42,65,130,31,272,20,9,67,15,125,378,293,4,67,429,106,115,187,244,97,413,65,129,23,95,246,171,198,259,105,171,19,50,61,72,57,222,243,65,10,185,128,23,157,326,82,247,174,98,148,127,60,101,69,220,106,92,151,64,58,67,316,118,121,65,367,324,420,208,284,137,125,221,221,507,226,291,116,239,251,209,170,66,124,276,116,157,241,301,251,239,127,165,206,89,280,182,350,136,50,66,200,191,331,206,92,134,114,212,290,120,171,111,66,74,365,136,44,109,166,161,244,171,199,142,101,124,280,217,45,384,256,150,156,128,117,132,48,240,124,5,160,130,197,46,158,26,62,172,16,303,509,162,127,43,66,19,101,227,35,9,255,315,136,211,198,223,190,268,298,71,60,28,85,146,232,177,193,162,481,78,478,259,96,127,114,147,485,77,6,50,194,73,431,230,297,134,149,87,96,188,30,28,145,75,80,350,5,160,112,102,298,168,20,169,218,240,125,128,175,175,295,45,41,113,143,251,64,21,43,18,91,47,189,11,52,124,55,65,126,137,27,31,41,20,26,14,72,41,97,264,143,18,10,10,28,47,37,48,47,170,31,55,39,67,34,39,11,23,24,13,101,43,116,100,111,31,69,208,87,65,28,27,10,59,68,192,12,56,54,12,26,89,18,76,170,201,101,344,49,43,112,70,162,163,93,55,62,25,64,73,129,178,81,106,26,300,19,85,32,219,121,97,93,153,174,171,67,216,99,5,6,5,14,53,4,162,46,22,9,121,85,117,63,170,66,16,16,145,48,27,90,24,28,74,148,71,27,85,52,48,64,67,108,221,158,126,194,250,160,95,104,179,179,63,128,243,138,125,64,68,65,52,50,67,59,60,56,59,231,68,152,62,31,123,57,39,122,68,90,98,215,121,121,173,57,72,180,201,63,91,89,80,124,120,35,164,46,73,124,195,121,93,80,129,22,15,13,54,10,30,66,44,43,49,51,21,71,12,254,41,12,92,151,24,45,63,102,10,12,17,70,137,22,59,48,29,27,22,179,35,230,67,50,28,29,33,15,44,93,41,92,19,32,59,168,37,79,39,34,14,202,43,18,178,9,12,5,64,127,206,4,1,2,20,50,209,81,31,66,66,30,60,41,40,34,27,51,59,64,18,18,64,43,11,39,39,22,82,4,75,169,77,31,119,58,69,24,23,91,38,44,40,82,33,89,4,35,27,38,70,67,50,72,171,90,34,147,227,44,131,79,115,153,88,82,116,46,100,5,12,6,13,36,46,65,86,48,54,77,1,219,107,34,27,100,49,169,157,50,69,44,87,155,16,164,91,44,13,79,40,10,102,15,10,53,19,24,137,6,70,101,104,79,1,51,72,13,87,58,82,16,29,86,54,58,34,76,16,14,63,45,81,24,39,180,15,27,137,78,59,31,164,63,58,267,39,92,16,119,102,316,51,124,180,39,24,57,96,128,4,21,11,46,44,115,149,29,32,9,11,52,42,57,41,49,17,32,26,9,4,76,31,69,84,10,37,2,39,14,13,3,47,66,10,86,10,46,21,36,31,9,5,26,16,40,9,8,27,50,9,31,43,45,18,18,56,1,112,21,3,25,40,93,22,4,82,49,83,80,57,13,34,1,91,22,49,25,15,26,25,4,4,53,48,27,30,42,176,44,55,9,53,4,4,1,14,16,66,36,1,3,15,16,3,18,24,86,21,119,6,5,24,9,75,42,81,39,53,47,52,33,136,59,45,34,13,7,13,53,64,15,13,43,6,53,14,19,106,44,2,58,9,42,12,42,18,20,27,21,2,20,13,4,4,9,2,11,13,18,7,8,96,5,46,34,58,85,34,101,6,104,40,80,57,40,21,68,7,32,37,25,60,32,46,45,40,43,40,61,17,48,71,30,39,45,22,11,49,46,2,14,64,25,34,23,41,9,21,26,12,18,75,8,34,28,4,32,44,12,49,27,35,22,8,20,15,44,22,23,4,86,32,33,25,4,66,7,31,14,16,16,10,10,17,8,8,9,22,23,47,37,64,44,93,100,38,98,12,137,50,32,31,35,38,32,31,15,44,4,3,148,14,20,7,16,32,27,68,24,24,17,90,25,62,28,8,40,25,46,134,73,25,43,41,25,24,23,10,10,22,15,35,39,29,12,41,4,53,16,44,12,18,27,16,7,66,77,7,12,8,22,45,2,8,8,6,21,11,21,10,13,38,37,43,12,23,12,29,3,18,42,13,8,74,7,19,4,18,4,18,5,28,41,7,15,22,10,29,13,19,47,59,17,21,1,3,12,4,32,11,13,28,1,13,32,30,38,46,29,29,5,33,17,9,44,15,3,9,3,21,9,26,9,7,28,19,12,3,1,25,4,11,26,13,5,25,6,14,12,11,22,10,27,14,15,7,8,5,22,7,19,9,10,10,13,19,10,18,3,13,44,3,11,3,13,10,31,11,3,45,7,23,7,1,8,21,18,6,19,17,20,15,38,12,6,6,9,30,6,39,26,20,30,39,25,4,12,14,32,8,48,13,18,22,17,6,8,1,1,6,8,18,26,6,5,7,36,19,7,6,19,12,6,8,9,7,11,8,3,4,23,4,4,4,8,15,7,19,12,33,10,10,7,7,5,15,11,4,8,19,16,9,16,13,9,19,26,15,17,6,7,7,2,15,3,3,7,7,20,12,9,8,9,5,5,18,2,7,2,2,2,1,1,16,7,14,11,23,7,4,3,4,1,2,6,3,5,1,6,3,6,1,4,4,2,5,2,11,10,9,4,1,1,1,2,1,5,2,5,4,1,1,2,3,1,5,2,6,3,3,2,2,2,3,2,1,1,2,1,5,6,4,3,2,3,1,2,10,7,4,5,7,6,8,4,6,3,5,6,3,6,3,2,3,5,9,7,6,5,5,2,7,10,18,4,4,13,6,5,20,3,7,4,28,6,8,1,9,5,2,3,16,3,11,4,4,3,10,8,5,12,4,3,5,3,2,10,7,2,9,5,8,5,7,5,4,19,4,15,1,3,8,2,15,1,1,6,2,7,1,1,7,1,1,7,3,3,3,6,2,6,12,5,9,2,9,6,8,1,2,18,8,11,2,1,12,3,4,1,5,4,5,3,2,1,1,1,5,5,2,1,4,2,5,2,10,3,1,3,1,3,5,1,5,6,3,7,1,3,5,12,2,1,4,7,2,8,1,1,7,3,5,5,7,2,1,6,4,1,4,3,4,10,2,2,1,3,4,1,2,1,2,2,2,3,4,2,5,2,1,7,1,4,1,1,1,1,1,1,1,1,1,1,1,1,2,1,1,1,1,2,1,1,1,1,1,1,2,1,1,2,4,2,6,5,1,2,1,1,5,6,1,4,1,3,1,1,4,1,3,4,3,3,2,4,1,1,10,1,2,1,1,9,1,3,3,1,1,1,1,4,2,1,2,1,1,1,1,1,1,1,3,1,1,2,4,2,1,2,1,1,1,1,1,3,1,1,1,2,1,3,1,1,1,2,1,4,1,1,1,1,1,1,1,2,1,1,1,1,1,1,1,1,1,1],\"xbins\":{\"end\":100,\"size\":2,\"start\":0},\"type\":\"histogram\"}],                        {\"bargap\":0.1,\"template\":{\"data\":{\"barpolar\":[{\"marker\":{\"line\":{\"color\":\"#E5ECF6\",\"width\":0.5},\"pattern\":{\"fillmode\":\"overlay\",\"size\":10,\"solidity\":0.2}},\"type\":\"barpolar\"}],\"bar\":[{\"error_x\":{\"color\":\"#2a3f5f\"},\"error_y\":{\"color\":\"#2a3f5f\"},\"marker\":{\"line\":{\"color\":\"#E5ECF6\",\"width\":0.5},\"pattern\":{\"fillmode\":\"overlay\",\"size\":10,\"solidity\":0.2}},\"type\":\"bar\"}],\"carpet\":[{\"aaxis\":{\"endlinecolor\":\"#2a3f5f\",\"gridcolor\":\"white\",\"linecolor\":\"white\",\"minorgridcolor\":\"white\",\"startlinecolor\":\"#2a3f5f\"},\"baxis\":{\"endlinecolor\":\"#2a3f5f\",\"gridcolor\":\"white\",\"linecolor\":\"white\",\"minorgridcolor\":\"white\",\"startlinecolor\":\"#2a3f5f\"},\"type\":\"carpet\"}],\"choropleth\":[{\"colorbar\":{\"outlinewidth\":0,\"ticks\":\"\"},\"type\":\"choropleth\"}],\"contourcarpet\":[{\"colorbar\":{\"outlinewidth\":0,\"ticks\":\"\"},\"type\":\"contourcarpet\"}],\"contour\":[{\"colorbar\":{\"outlinewidth\":0,\"ticks\":\"\"},\"colorscale\":[[0.0,\"#0d0887\"],[0.1111111111111111,\"#46039f\"],[0.2222222222222222,\"#7201a8\"],[0.3333333333333333,\"#9c179e\"],[0.4444444444444444,\"#bd3786\"],[0.5555555555555556,\"#d8576b\"],[0.6666666666666666,\"#ed7953\"],[0.7777777777777778,\"#fb9f3a\"],[0.8888888888888888,\"#fdca26\"],[1.0,\"#f0f921\"]],\"type\":\"contour\"}],\"heatmapgl\":[{\"colorbar\":{\"outlinewidth\":0,\"ticks\":\"\"},\"colorscale\":[[0.0,\"#0d0887\"],[0.1111111111111111,\"#46039f\"],[0.2222222222222222,\"#7201a8\"],[0.3333333333333333,\"#9c179e\"],[0.4444444444444444,\"#bd3786\"],[0.5555555555555556,\"#d8576b\"],[0.6666666666666666,\"#ed7953\"],[0.7777777777777778,\"#fb9f3a\"],[0.8888888888888888,\"#fdca26\"],[1.0,\"#f0f921\"]],\"type\":\"heatmapgl\"}],\"heatmap\":[{\"colorbar\":{\"outlinewidth\":0,\"ticks\":\"\"},\"colorscale\":[[0.0,\"#0d0887\"],[0.1111111111111111,\"#46039f\"],[0.2222222222222222,\"#7201a8\"],[0.3333333333333333,\"#9c179e\"],[0.4444444444444444,\"#bd3786\"],[0.5555555555555556,\"#d8576b\"],[0.6666666666666666,\"#ed7953\"],[0.7777777777777778,\"#fb9f3a\"],[0.8888888888888888,\"#fdca26\"],[1.0,\"#f0f921\"]],\"type\":\"heatmap\"}],\"histogram2dcontour\":[{\"colorbar\":{\"outlinewidth\":0,\"ticks\":\"\"},\"colorscale\":[[0.0,\"#0d0887\"],[0.1111111111111111,\"#46039f\"],[0.2222222222222222,\"#7201a8\"],[0.3333333333333333,\"#9c179e\"],[0.4444444444444444,\"#bd3786\"],[0.5555555555555556,\"#d8576b\"],[0.6666666666666666,\"#ed7953\"],[0.7777777777777778,\"#fb9f3a\"],[0.8888888888888888,\"#fdca26\"],[1.0,\"#f0f921\"]],\"type\":\"histogram2dcontour\"}],\"histogram2d\":[{\"colorbar\":{\"outlinewidth\":0,\"ticks\":\"\"},\"colorscale\":[[0.0,\"#0d0887\"],[0.1111111111111111,\"#46039f\"],[0.2222222222222222,\"#7201a8\"],[0.3333333333333333,\"#9c179e\"],[0.4444444444444444,\"#bd3786\"],[0.5555555555555556,\"#d8576b\"],[0.6666666666666666,\"#ed7953\"],[0.7777777777777778,\"#fb9f3a\"],[0.8888888888888888,\"#fdca26\"],[1.0,\"#f0f921\"]],\"type\":\"histogram2d\"}],\"histogram\":[{\"marker\":{\"pattern\":{\"fillmode\":\"overlay\",\"size\":10,\"solidity\":0.2}},\"type\":\"histogram\"}],\"mesh3d\":[{\"colorbar\":{\"outlinewidth\":0,\"ticks\":\"\"},\"type\":\"mesh3d\"}],\"parcoords\":[{\"line\":{\"colorbar\":{\"outlinewidth\":0,\"ticks\":\"\"}},\"type\":\"parcoords\"}],\"pie\":[{\"automargin\":true,\"type\":\"pie\"}],\"scatter3d\":[{\"line\":{\"colorbar\":{\"outlinewidth\":0,\"ticks\":\"\"}},\"marker\":{\"colorbar\":{\"outlinewidth\":0,\"ticks\":\"\"}},\"type\":\"scatter3d\"}],\"scattercarpet\":[{\"marker\":{\"colorbar\":{\"outlinewidth\":0,\"ticks\":\"\"}},\"type\":\"scattercarpet\"}],\"scattergeo\":[{\"marker\":{\"colorbar\":{\"outlinewidth\":0,\"ticks\":\"\"}},\"type\":\"scattergeo\"}],\"scattergl\":[{\"marker\":{\"colorbar\":{\"outlinewidth\":0,\"ticks\":\"\"}},\"type\":\"scattergl\"}],\"scattermapbox\":[{\"marker\":{\"colorbar\":{\"outlinewidth\":0,\"ticks\":\"\"}},\"type\":\"scattermapbox\"}],\"scatterpolargl\":[{\"marker\":{\"colorbar\":{\"outlinewidth\":0,\"ticks\":\"\"}},\"type\":\"scatterpolargl\"}],\"scatterpolar\":[{\"marker\":{\"colorbar\":{\"outlinewidth\":0,\"ticks\":\"\"}},\"type\":\"scatterpolar\"}],\"scatter\":[{\"fillpattern\":{\"fillmode\":\"overlay\",\"size\":10,\"solidity\":0.2},\"type\":\"scatter\"}],\"scatterternary\":[{\"marker\":{\"colorbar\":{\"outlinewidth\":0,\"ticks\":\"\"}},\"type\":\"scatterternary\"}],\"surface\":[{\"colorbar\":{\"outlinewidth\":0,\"ticks\":\"\"},\"colorscale\":[[0.0,\"#0d0887\"],[0.1111111111111111,\"#46039f\"],[0.2222222222222222,\"#7201a8\"],[0.3333333333333333,\"#9c179e\"],[0.4444444444444444,\"#bd3786\"],[0.5555555555555556,\"#d8576b\"],[0.6666666666666666,\"#ed7953\"],[0.7777777777777778,\"#fb9f3a\"],[0.8888888888888888,\"#fdca26\"],[1.0,\"#f0f921\"]],\"type\":\"surface\"}],\"table\":[{\"cells\":{\"fill\":{\"color\":\"#EBF0F8\"},\"line\":{\"color\":\"white\"}},\"header\":{\"fill\":{\"color\":\"#C8D4E3\"},\"line\":{\"color\":\"white\"}},\"type\":\"table\"}]},\"layout\":{\"annotationdefaults\":{\"arrowcolor\":\"#2a3f5f\",\"arrowhead\":0,\"arrowwidth\":1},\"autotypenumbers\":\"strict\",\"coloraxis\":{\"colorbar\":{\"outlinewidth\":0,\"ticks\":\"\"}},\"colorscale\":{\"diverging\":[[0,\"#8e0152\"],[0.1,\"#c51b7d\"],[0.2,\"#de77ae\"],[0.3,\"#f1b6da\"],[0.4,\"#fde0ef\"],[0.5,\"#f7f7f7\"],[0.6,\"#e6f5d0\"],[0.7,\"#b8e186\"],[0.8,\"#7fbc41\"],[0.9,\"#4d9221\"],[1,\"#276419\"]],\"sequential\":[[0.0,\"#0d0887\"],[0.1111111111111111,\"#46039f\"],[0.2222222222222222,\"#7201a8\"],[0.3333333333333333,\"#9c179e\"],[0.4444444444444444,\"#bd3786\"],[0.5555555555555556,\"#d8576b\"],[0.6666666666666666,\"#ed7953\"],[0.7777777777777778,\"#fb9f3a\"],[0.8888888888888888,\"#fdca26\"],[1.0,\"#f0f921\"]],\"sequentialminus\":[[0.0,\"#0d0887\"],[0.1111111111111111,\"#46039f\"],[0.2222222222222222,\"#7201a8\"],[0.3333333333333333,\"#9c179e\"],[0.4444444444444444,\"#bd3786\"],[0.5555555555555556,\"#d8576b\"],[0.6666666666666666,\"#ed7953\"],[0.7777777777777778,\"#fb9f3a\"],[0.8888888888888888,\"#fdca26\"],[1.0,\"#f0f921\"]]},\"colorway\":[\"#636efa\",\"#EF553B\",\"#00cc96\",\"#ab63fa\",\"#FFA15A\",\"#19d3f3\",\"#FF6692\",\"#B6E880\",\"#FF97FF\",\"#FECB52\"],\"font\":{\"color\":\"#2a3f5f\"},\"geo\":{\"bgcolor\":\"white\",\"lakecolor\":\"white\",\"landcolor\":\"#E5ECF6\",\"showlakes\":true,\"showland\":true,\"subunitcolor\":\"white\"},\"hoverlabel\":{\"align\":\"left\"},\"hovermode\":\"closest\",\"mapbox\":{\"style\":\"light\"},\"paper_bgcolor\":\"white\",\"plot_bgcolor\":\"#E5ECF6\",\"polar\":{\"angularaxis\":{\"gridcolor\":\"white\",\"linecolor\":\"white\",\"ticks\":\"\"},\"bgcolor\":\"#E5ECF6\",\"radialaxis\":{\"gridcolor\":\"white\",\"linecolor\":\"white\",\"ticks\":\"\"}},\"scene\":{\"xaxis\":{\"backgroundcolor\":\"#E5ECF6\",\"gridcolor\":\"white\",\"gridwidth\":2,\"linecolor\":\"white\",\"showbackground\":true,\"ticks\":\"\",\"zerolinecolor\":\"white\"},\"yaxis\":{\"backgroundcolor\":\"#E5ECF6\",\"gridcolor\":\"white\",\"gridwidth\":2,\"linecolor\":\"white\",\"showbackground\":true,\"ticks\":\"\",\"zerolinecolor\":\"white\"},\"zaxis\":{\"backgroundcolor\":\"#E5ECF6\",\"gridcolor\":\"white\",\"gridwidth\":2,\"linecolor\":\"white\",\"showbackground\":true,\"ticks\":\"\",\"zerolinecolor\":\"white\"}},\"shapedefaults\":{\"line\":{\"color\":\"#2a3f5f\"}},\"ternary\":{\"aaxis\":{\"gridcolor\":\"white\",\"linecolor\":\"white\",\"ticks\":\"\"},\"baxis\":{\"gridcolor\":\"white\",\"linecolor\":\"white\",\"ticks\":\"\"},\"bgcolor\":\"#E5ECF6\",\"caxis\":{\"gridcolor\":\"white\",\"linecolor\":\"white\",\"ticks\":\"\"}},\"title\":{\"x\":0.05},\"xaxis\":{\"automargin\":true,\"gridcolor\":\"white\",\"linecolor\":\"white\",\"ticks\":\"\",\"title\":{\"standoff\":15},\"zerolinecolor\":\"white\",\"zerolinewidth\":2},\"yaxis\":{\"automargin\":true,\"gridcolor\":\"white\",\"linecolor\":\"white\",\"ticks\":\"\",\"title\":{\"standoff\":15},\"zerolinecolor\":\"white\",\"zerolinewidth\":2}}},\"title\":{\"text\":\"Distribution of Ratings per Movie\"},\"xaxis\":{\"title\":{\"text\":\"Number of Ratings per movie\"}},\"yaxis\":{\"title\":{\"text\":\"Count\"}}},                        {\"responsive\": true}                    ).then(function(){\n",
       "                            \n",
       "var gd = document.getElementById('a5336358-4202-4589-921d-30d2e852105e');\n",
       "var x = new MutationObserver(function (mutations, observer) {{\n",
       "        var display = window.getComputedStyle(gd).display;\n",
       "        if (!display || display === 'none') {{\n",
       "            console.log([gd, 'removed!']);\n",
       "            Plotly.purge(gd);\n",
       "            observer.disconnect();\n",
       "        }}\n",
       "}});\n",
       "\n",
       "// Listen for the removal of the full notebook cells\n",
       "var notebookContainer = gd.closest('#notebook-container');\n",
       "if (notebookContainer) {{\n",
       "    x.observe(notebookContainer, {childList: true});\n",
       "}}\n",
       "\n",
       "// Listen for the clearing of the current output cell\n",
       "var outputEl = gd.closest('.output');\n",
       "if (outputEl) {{\n",
       "    x.observe(outputEl, {childList: true});\n",
       "}}\n",
       "\n",
       "                        })                };                });            </script>        </div>"
      ]
     },
     "metadata": {},
     "output_type": "display_data"
    }
   ],
   "source": [
    "data = ratings_df.groupby('movie_id')['rating'].count()\n",
    "\n",
    "trace = go.Histogram(\n",
    "    x = data.values,\n",
    "    name = 'Ratings',\n",
    "    xbins = dict(\n",
    "        start = 0,\n",
    "        end = 100,\n",
    "        size = 2\n",
    "    )\n",
    ")\n",
    "\n",
    "layout = go.Layout(\n",
    "    title = 'Distribution of Ratings per Movie',\n",
    "    xaxis = dict(title = 'Number of Ratings per movie'),\n",
    "    yaxis = dict(title = 'Count'),\n",
    "    bargap = 0.1\n",
    ")\n",
    "\n",
    "fig = go.Figure(data=[trace], layout=layout)\n",
    "iplot(fig)"
   ]
  },
  {
   "cell_type": "code",
   "execution_count": 5,
   "metadata": {},
   "outputs": [
    {
     "data": {
      "application/vnd.plotly.v1+json": {
       "config": {
        "linkText": "Export to plot.ly",
        "plotlyServerURL": "https://plot.ly",
        "showLink": false
       },
       "data": [
        {
         "name": "Ratings",
         "type": "histogram",
         "x": [
          272,
          62,
          54,
          24,
          175,
          211,
          403,
          59,
          22,
          184,
          181,
          51,
          636,
          98,
          104,
          140,
          28,
          277,
          20,
          48,
          179,
          128,
          151,
          68,
          78,
          107,
          25,
          79,
          34,
          43,
          36,
          41,
          24,
          20,
          25,
          20,
          57,
          121,
          22,
          35,
          52,
          183,
          221,
          151,
          48,
          27,
          25,
          66,
          215,
          24,
          23,
          56,
          28,
          65,
          21,
          187,
          106,
          154,
          382,
          208,
          21,
          232,
          93,
          200,
          80,
          38,
          30,
          34,
          65,
          131,
          38,
          137,
          66,
          39,
          79,
          82,
          72,
          21,
          55,
          29,
          58,
          168,
          155,
          68,
          288,
          23,
          211,
          21,
          76,
          300,
          98,
          388,
          20,
          400,
          278,
          56,
          63,
          27,
          136,
          59,
          67,
          216,
          29,
          111,
          23,
          64,
          22,
          33,
          234,
          133,
          24,
          46,
          51,
          48,
          92,
          143,
          86,
          71,
          181,
          26,
          74,
          61,
          54,
          24,
          182,
          45,
          23,
          184,
          30,
          353,
          30,
          22,
          26,
          25,
          55,
          35,
          47,
          51,
          24,
          21,
          107,
          33,
          20,
          206,
          316,
          29,
          20,
          65,
          36,
          32,
          307,
          106,
          23,
          51,
          22,
          37,
          51,
          173,
          107,
          120,
          58,
          42,
          23,
          63,
          30,
          20,
          69,
          69,
          37,
          22,
          28,
          27,
          43,
          177,
          38,
          63,
          115,
          273,
          42,
          63,
          435,
          28,
          53,
          251,
          48,
          92,
          56,
          112,
          187,
          59,
          27,
          35,
          121,
          305,
          96,
          39,
          118,
          181,
          40,
          216,
          386,
          20,
          43,
          42,
          22,
          64,
          230,
          33,
          33,
          132,
          37,
          25,
          126,
          128,
          93,
          131,
          76,
          53,
          28,
          22,
          146,
          387,
          105,
          141,
          27,
          50,
          58,
          21,
          30,
          133,
          21,
          93,
          110,
          480,
          94,
          124,
          48,
          29,
          159,
          24,
          23,
          20,
          81,
          238,
          22,
          195,
          26,
          56,
          161,
          122,
          77,
          21,
          97,
          159,
          83,
          207,
          57,
          23,
          46,
          24,
          27,
          160,
          123,
          120,
          46,
          23,
          185,
          328,
          323,
          138,
          278,
          51,
          22,
          71,
          95,
          518,
          54,
          23,
          434,
          258,
          26,
          22,
          53,
          47,
          32,
          288,
          62,
          75,
          27,
          150,
          296,
          124,
          388,
          150,
          196,
          147,
          192,
          127,
          280,
          20,
          275,
          21,
          484,
          26,
          222,
          32,
          112,
          397,
          20,
          21,
          294,
          223,
          262,
          245,
          87,
          75,
          22,
          174,
          23,
          154,
          125,
          51,
          89,
          66,
          142,
          187,
          284,
          283,
          65,
          147,
          70,
          183,
          26,
          333,
          22,
          130,
          34,
          75,
          254,
          44,
          21,
          201,
          237,
          190,
          232,
          193,
          199,
          58,
          41,
          50,
          44,
          42,
          25,
          233,
          26,
          24,
          76,
          43,
          27,
          102,
          121,
          25,
          311,
          20,
          58,
          33,
          58,
          45,
          22,
          75,
          51,
          66,
          233,
          274,
          28,
          30,
          33,
          375,
          196,
          162,
          127,
          53,
          71,
          22,
          281,
          23,
          304,
          52,
          271,
          31,
          121,
          111,
          448,
          149,
          57,
          54,
          102,
          172,
          319,
          22,
          153,
          68,
          50,
          44,
          737,
          342,
          226,
          27,
          203,
          28,
          58,
          51,
          50,
          25,
          24,
          493,
          365,
          20,
          32,
          36,
          62,
          97,
          64,
          44,
          204,
          101,
          31,
          55,
          414,
          65,
          21,
          62,
          41,
          44,
          379,
          145,
          263,
          33,
          31,
          51,
          20,
          143,
          24,
          24,
          135,
          36,
          139,
          38,
          75,
          540,
          98,
          206,
          156,
          236,
          189,
          217,
          277,
          183,
          118,
          68,
          23,
          33,
          133,
          53,
          80,
          101,
          44,
          143,
          43,
          57,
          31,
          263,
          35,
          327,
          20,
          83,
          35,
          113,
          202,
          60,
          56,
          26,
          59,
          139,
          26,
          189,
          231,
          154,
          109,
          57,
          33,
          55,
          135,
          47,
          213,
          129,
          279,
          149,
          102,
          225,
          73,
          37,
          160,
          251,
          112,
          242,
          58,
          87,
          33,
          30,
          24,
          21,
          22,
          194,
          40,
          21,
          37,
          73,
          49,
          23,
          150,
          30,
          100,
          306,
          54,
          68,
          137,
          53,
          43,
          45,
          30,
          274,
          260,
          80,
          218,
          163,
          490,
          81,
          56,
          63,
          133,
          135,
          197,
          31,
          162,
          59,
          23,
          155,
          25,
          40,
          334,
          84,
          100,
          114,
          52,
          44,
          53,
          20,
          76,
          101,
          357,
          72,
          30,
          34,
          35,
          149,
          155,
          81,
          70,
          22,
          20,
          20,
          51,
          46,
          26,
          36,
          188,
          24,
          74,
          47,
          28,
          62,
          27,
          24,
          80,
          166,
          98,
          225,
          43,
          48,
          84,
          360,
          156,
          25,
          96,
          20,
          41,
          25,
          47,
          89,
          148,
          29,
          47,
          27,
          90,
          236,
          37,
          163,
          28,
          75,
          42,
          27,
          28,
          39,
          103,
          43,
          108,
          216,
          89,
          110,
          171,
          228,
          45,
          141,
          106,
          32,
          181,
          27,
          121,
          108,
          20,
          118,
          58,
          135,
          34,
          20,
          104,
          67,
          148,
          109,
          40,
          318,
          206,
          42,
          122,
          38,
          58,
          297,
          24,
          311,
          21,
          22,
          283,
          147,
          685,
          24,
          29,
          71,
          191,
          224,
          121,
          23,
          158,
          166,
          142,
          245,
          47,
          46,
          100,
          46,
          124,
          29,
          35,
          41,
          34,
          77,
          49,
          28,
          62,
          38,
          22,
          399,
          75,
          86,
          20,
          71,
          21,
          24,
          36,
          115,
          32,
          40,
          154,
          157,
          38,
          29,
          105,
          127,
          149,
          21,
          33,
          31,
          47,
          90,
          114,
          29,
          236,
          105,
          138,
          86,
          221,
          162,
          30,
          44,
          167,
          269,
          93,
          39,
          67,
          30,
          168,
          42,
          22,
          85,
          25,
          24,
          322,
          26,
          21,
          38,
          83,
          20,
          107,
          64,
          53,
          24,
          33,
          148,
          35,
          20,
          104,
          26,
          35,
          27,
          60,
          67,
          293,
          108,
          305,
          33,
          168,
          73,
          57,
          34,
          38,
          109,
          166,
          357,
          32,
          41,
          66,
          21,
          129,
          109,
          23,
          175,
          37,
          64,
          29,
          64,
          70,
          33,
          161,
          224,
          28,
          105,
          36,
          65,
          37,
          55,
          42,
          232,
          30,
          39,
          27,
          117,
          57,
          249,
          33,
          231,
          25,
          47,
          55,
          39,
          159,
          358,
          26,
          239,
          24,
          28,
          26,
          75,
          33,
          332,
          273,
          140,
          204,
          23,
          20,
          26,
          21,
          20,
          29,
          35,
          183,
          25,
          36,
          21,
          28,
          21,
          62,
          25,
          185,
          20,
          145,
          115,
          28,
          104,
          64,
          106,
          73,
          25,
          267,
          54,
          102,
          50,
          46,
          93,
          57,
          197,
          31,
          27,
          204,
          81,
          31,
          405,
          146,
          150,
          23,
          51,
          209,
          49,
          41,
          217,
          23,
          26,
          22,
          21,
          39,
          71,
          43,
          165,
          107,
          294,
          66,
          20,
          95,
          208,
          47,
          269,
          115,
          71,
          20,
          34,
          89,
          21,
          81,
          134,
          29,
          368,
          259,
          137,
          268,
          43,
          102,
          240,
          171,
          20,
          326,
          119,
          47,
          226,
          59,
          245,
          20,
          362,
          185,
          30,
          135,
          45,
          124,
          49,
          136,
          47,
          40,
          41,
          147,
          74,
          26,
          60,
          98,
          53,
          132,
          23,
          26,
          317,
          35,
          103,
          217,
          26,
          110,
          127,
          74,
          82,
          32,
          20,
          120,
          32,
          49,
          63,
          61,
          241,
          184,
          174,
          39,
          142,
          40,
          108,
          49,
          107,
          22,
          79,
          168
         ],
         "xbins": {
          "end": 100,
          "size": 2,
          "start": 0
         }
        }
       ],
       "layout": {
        "bargap": 0.1,
        "template": {
         "data": {
          "bar": [
           {
            "error_x": {
             "color": "#2a3f5f"
            },
            "error_y": {
             "color": "#2a3f5f"
            },
            "marker": {
             "line": {
              "color": "#E5ECF6",
              "width": 0.5
             },
             "pattern": {
              "fillmode": "overlay",
              "size": 10,
              "solidity": 0.2
             }
            },
            "type": "bar"
           }
          ],
          "barpolar": [
           {
            "marker": {
             "line": {
              "color": "#E5ECF6",
              "width": 0.5
             },
             "pattern": {
              "fillmode": "overlay",
              "size": 10,
              "solidity": 0.2
             }
            },
            "type": "barpolar"
           }
          ],
          "carpet": [
           {
            "aaxis": {
             "endlinecolor": "#2a3f5f",
             "gridcolor": "white",
             "linecolor": "white",
             "minorgridcolor": "white",
             "startlinecolor": "#2a3f5f"
            },
            "baxis": {
             "endlinecolor": "#2a3f5f",
             "gridcolor": "white",
             "linecolor": "white",
             "minorgridcolor": "white",
             "startlinecolor": "#2a3f5f"
            },
            "type": "carpet"
           }
          ],
          "choropleth": [
           {
            "colorbar": {
             "outlinewidth": 0,
             "ticks": ""
            },
            "type": "choropleth"
           }
          ],
          "contour": [
           {
            "colorbar": {
             "outlinewidth": 0,
             "ticks": ""
            },
            "colorscale": [
             [
              0,
              "#0d0887"
             ],
             [
              0.1111111111111111,
              "#46039f"
             ],
             [
              0.2222222222222222,
              "#7201a8"
             ],
             [
              0.3333333333333333,
              "#9c179e"
             ],
             [
              0.4444444444444444,
              "#bd3786"
             ],
             [
              0.5555555555555556,
              "#d8576b"
             ],
             [
              0.6666666666666666,
              "#ed7953"
             ],
             [
              0.7777777777777778,
              "#fb9f3a"
             ],
             [
              0.8888888888888888,
              "#fdca26"
             ],
             [
              1,
              "#f0f921"
             ]
            ],
            "type": "contour"
           }
          ],
          "contourcarpet": [
           {
            "colorbar": {
             "outlinewidth": 0,
             "ticks": ""
            },
            "type": "contourcarpet"
           }
          ],
          "heatmap": [
           {
            "colorbar": {
             "outlinewidth": 0,
             "ticks": ""
            },
            "colorscale": [
             [
              0,
              "#0d0887"
             ],
             [
              0.1111111111111111,
              "#46039f"
             ],
             [
              0.2222222222222222,
              "#7201a8"
             ],
             [
              0.3333333333333333,
              "#9c179e"
             ],
             [
              0.4444444444444444,
              "#bd3786"
             ],
             [
              0.5555555555555556,
              "#d8576b"
             ],
             [
              0.6666666666666666,
              "#ed7953"
             ],
             [
              0.7777777777777778,
              "#fb9f3a"
             ],
             [
              0.8888888888888888,
              "#fdca26"
             ],
             [
              1,
              "#f0f921"
             ]
            ],
            "type": "heatmap"
           }
          ],
          "heatmapgl": [
           {
            "colorbar": {
             "outlinewidth": 0,
             "ticks": ""
            },
            "colorscale": [
             [
              0,
              "#0d0887"
             ],
             [
              0.1111111111111111,
              "#46039f"
             ],
             [
              0.2222222222222222,
              "#7201a8"
             ],
             [
              0.3333333333333333,
              "#9c179e"
             ],
             [
              0.4444444444444444,
              "#bd3786"
             ],
             [
              0.5555555555555556,
              "#d8576b"
             ],
             [
              0.6666666666666666,
              "#ed7953"
             ],
             [
              0.7777777777777778,
              "#fb9f3a"
             ],
             [
              0.8888888888888888,
              "#fdca26"
             ],
             [
              1,
              "#f0f921"
             ]
            ],
            "type": "heatmapgl"
           }
          ],
          "histogram": [
           {
            "marker": {
             "pattern": {
              "fillmode": "overlay",
              "size": 10,
              "solidity": 0.2
             }
            },
            "type": "histogram"
           }
          ],
          "histogram2d": [
           {
            "colorbar": {
             "outlinewidth": 0,
             "ticks": ""
            },
            "colorscale": [
             [
              0,
              "#0d0887"
             ],
             [
              0.1111111111111111,
              "#46039f"
             ],
             [
              0.2222222222222222,
              "#7201a8"
             ],
             [
              0.3333333333333333,
              "#9c179e"
             ],
             [
              0.4444444444444444,
              "#bd3786"
             ],
             [
              0.5555555555555556,
              "#d8576b"
             ],
             [
              0.6666666666666666,
              "#ed7953"
             ],
             [
              0.7777777777777778,
              "#fb9f3a"
             ],
             [
              0.8888888888888888,
              "#fdca26"
             ],
             [
              1,
              "#f0f921"
             ]
            ],
            "type": "histogram2d"
           }
          ],
          "histogram2dcontour": [
           {
            "colorbar": {
             "outlinewidth": 0,
             "ticks": ""
            },
            "colorscale": [
             [
              0,
              "#0d0887"
             ],
             [
              0.1111111111111111,
              "#46039f"
             ],
             [
              0.2222222222222222,
              "#7201a8"
             ],
             [
              0.3333333333333333,
              "#9c179e"
             ],
             [
              0.4444444444444444,
              "#bd3786"
             ],
             [
              0.5555555555555556,
              "#d8576b"
             ],
             [
              0.6666666666666666,
              "#ed7953"
             ],
             [
              0.7777777777777778,
              "#fb9f3a"
             ],
             [
              0.8888888888888888,
              "#fdca26"
             ],
             [
              1,
              "#f0f921"
             ]
            ],
            "type": "histogram2dcontour"
           }
          ],
          "mesh3d": [
           {
            "colorbar": {
             "outlinewidth": 0,
             "ticks": ""
            },
            "type": "mesh3d"
           }
          ],
          "parcoords": [
           {
            "line": {
             "colorbar": {
              "outlinewidth": 0,
              "ticks": ""
             }
            },
            "type": "parcoords"
           }
          ],
          "pie": [
           {
            "automargin": true,
            "type": "pie"
           }
          ],
          "scatter": [
           {
            "fillpattern": {
             "fillmode": "overlay",
             "size": 10,
             "solidity": 0.2
            },
            "type": "scatter"
           }
          ],
          "scatter3d": [
           {
            "line": {
             "colorbar": {
              "outlinewidth": 0,
              "ticks": ""
             }
            },
            "marker": {
             "colorbar": {
              "outlinewidth": 0,
              "ticks": ""
             }
            },
            "type": "scatter3d"
           }
          ],
          "scattercarpet": [
           {
            "marker": {
             "colorbar": {
              "outlinewidth": 0,
              "ticks": ""
             }
            },
            "type": "scattercarpet"
           }
          ],
          "scattergeo": [
           {
            "marker": {
             "colorbar": {
              "outlinewidth": 0,
              "ticks": ""
             }
            },
            "type": "scattergeo"
           }
          ],
          "scattergl": [
           {
            "marker": {
             "colorbar": {
              "outlinewidth": 0,
              "ticks": ""
             }
            },
            "type": "scattergl"
           }
          ],
          "scattermapbox": [
           {
            "marker": {
             "colorbar": {
              "outlinewidth": 0,
              "ticks": ""
             }
            },
            "type": "scattermapbox"
           }
          ],
          "scatterpolar": [
           {
            "marker": {
             "colorbar": {
              "outlinewidth": 0,
              "ticks": ""
             }
            },
            "type": "scatterpolar"
           }
          ],
          "scatterpolargl": [
           {
            "marker": {
             "colorbar": {
              "outlinewidth": 0,
              "ticks": ""
             }
            },
            "type": "scatterpolargl"
           }
          ],
          "scatterternary": [
           {
            "marker": {
             "colorbar": {
              "outlinewidth": 0,
              "ticks": ""
             }
            },
            "type": "scatterternary"
           }
          ],
          "surface": [
           {
            "colorbar": {
             "outlinewidth": 0,
             "ticks": ""
            },
            "colorscale": [
             [
              0,
              "#0d0887"
             ],
             [
              0.1111111111111111,
              "#46039f"
             ],
             [
              0.2222222222222222,
              "#7201a8"
             ],
             [
              0.3333333333333333,
              "#9c179e"
             ],
             [
              0.4444444444444444,
              "#bd3786"
             ],
             [
              0.5555555555555556,
              "#d8576b"
             ],
             [
              0.6666666666666666,
              "#ed7953"
             ],
             [
              0.7777777777777778,
              "#fb9f3a"
             ],
             [
              0.8888888888888888,
              "#fdca26"
             ],
             [
              1,
              "#f0f921"
             ]
            ],
            "type": "surface"
           }
          ],
          "table": [
           {
            "cells": {
             "fill": {
              "color": "#EBF0F8"
             },
             "line": {
              "color": "white"
             }
            },
            "header": {
             "fill": {
              "color": "#C8D4E3"
             },
             "line": {
              "color": "white"
             }
            },
            "type": "table"
           }
          ]
         },
         "layout": {
          "annotationdefaults": {
           "arrowcolor": "#2a3f5f",
           "arrowhead": 0,
           "arrowwidth": 1
          },
          "autotypenumbers": "strict",
          "coloraxis": {
           "colorbar": {
            "outlinewidth": 0,
            "ticks": ""
           }
          },
          "colorscale": {
           "diverging": [
            [
             0,
             "#8e0152"
            ],
            [
             0.1,
             "#c51b7d"
            ],
            [
             0.2,
             "#de77ae"
            ],
            [
             0.3,
             "#f1b6da"
            ],
            [
             0.4,
             "#fde0ef"
            ],
            [
             0.5,
             "#f7f7f7"
            ],
            [
             0.6,
             "#e6f5d0"
            ],
            [
             0.7,
             "#b8e186"
            ],
            [
             0.8,
             "#7fbc41"
            ],
            [
             0.9,
             "#4d9221"
            ],
            [
             1,
             "#276419"
            ]
           ],
           "sequential": [
            [
             0,
             "#0d0887"
            ],
            [
             0.1111111111111111,
             "#46039f"
            ],
            [
             0.2222222222222222,
             "#7201a8"
            ],
            [
             0.3333333333333333,
             "#9c179e"
            ],
            [
             0.4444444444444444,
             "#bd3786"
            ],
            [
             0.5555555555555556,
             "#d8576b"
            ],
            [
             0.6666666666666666,
             "#ed7953"
            ],
            [
             0.7777777777777778,
             "#fb9f3a"
            ],
            [
             0.8888888888888888,
             "#fdca26"
            ],
            [
             1,
             "#f0f921"
            ]
           ],
           "sequentialminus": [
            [
             0,
             "#0d0887"
            ],
            [
             0.1111111111111111,
             "#46039f"
            ],
            [
             0.2222222222222222,
             "#7201a8"
            ],
            [
             0.3333333333333333,
             "#9c179e"
            ],
            [
             0.4444444444444444,
             "#bd3786"
            ],
            [
             0.5555555555555556,
             "#d8576b"
            ],
            [
             0.6666666666666666,
             "#ed7953"
            ],
            [
             0.7777777777777778,
             "#fb9f3a"
            ],
            [
             0.8888888888888888,
             "#fdca26"
            ],
            [
             1,
             "#f0f921"
            ]
           ]
          },
          "colorway": [
           "#636efa",
           "#EF553B",
           "#00cc96",
           "#ab63fa",
           "#FFA15A",
           "#19d3f3",
           "#FF6692",
           "#B6E880",
           "#FF97FF",
           "#FECB52"
          ],
          "font": {
           "color": "#2a3f5f"
          },
          "geo": {
           "bgcolor": "white",
           "lakecolor": "white",
           "landcolor": "#E5ECF6",
           "showlakes": true,
           "showland": true,
           "subunitcolor": "white"
          },
          "hoverlabel": {
           "align": "left"
          },
          "hovermode": "closest",
          "mapbox": {
           "style": "light"
          },
          "paper_bgcolor": "white",
          "plot_bgcolor": "#E5ECF6",
          "polar": {
           "angularaxis": {
            "gridcolor": "white",
            "linecolor": "white",
            "ticks": ""
           },
           "bgcolor": "#E5ECF6",
           "radialaxis": {
            "gridcolor": "white",
            "linecolor": "white",
            "ticks": ""
           }
          },
          "scene": {
           "xaxis": {
            "backgroundcolor": "#E5ECF6",
            "gridcolor": "white",
            "gridwidth": 2,
            "linecolor": "white",
            "showbackground": true,
            "ticks": "",
            "zerolinecolor": "white"
           },
           "yaxis": {
            "backgroundcolor": "#E5ECF6",
            "gridcolor": "white",
            "gridwidth": 2,
            "linecolor": "white",
            "showbackground": true,
            "ticks": "",
            "zerolinecolor": "white"
           },
           "zaxis": {
            "backgroundcolor": "#E5ECF6",
            "gridcolor": "white",
            "gridwidth": 2,
            "linecolor": "white",
            "showbackground": true,
            "ticks": "",
            "zerolinecolor": "white"
           }
          },
          "shapedefaults": {
           "line": {
            "color": "#2a3f5f"
           }
          },
          "ternary": {
           "aaxis": {
            "gridcolor": "white",
            "linecolor": "white",
            "ticks": ""
           },
           "baxis": {
            "gridcolor": "white",
            "linecolor": "white",
            "ticks": ""
           },
           "bgcolor": "#E5ECF6",
           "caxis": {
            "gridcolor": "white",
            "linecolor": "white",
            "ticks": ""
           }
          },
          "title": {
           "x": 0.05
          },
          "xaxis": {
           "automargin": true,
           "gridcolor": "white",
           "linecolor": "white",
           "ticks": "",
           "title": {
            "standoff": 15
           },
           "zerolinecolor": "white",
           "zerolinewidth": 2
          },
          "yaxis": {
           "automargin": true,
           "gridcolor": "white",
           "linecolor": "white",
           "ticks": "",
           "title": {
            "standoff": 15
           },
           "zerolinecolor": "white",
           "zerolinewidth": 2
          }
         }
        },
        "title": {
         "text": "Distribution of Ratings per User"
        },
        "xaxis": {
         "title": {
          "text": "Ratings per user"
         }
        },
        "yaxis": {
         "title": {
          "text": "Count"
         }
        }
       }
      },
      "text/html": [
       "<div>                            <div id=\"2e3dd5e2-fd3b-4e4c-a247-2c46e8e30618\" class=\"plotly-graph-div\" style=\"height:525px; width:100%;\"></div>            <script type=\"text/javascript\">                require([\"plotly\"], function(Plotly) {                    window.PLOTLYENV=window.PLOTLYENV || {};                                    if (document.getElementById(\"2e3dd5e2-fd3b-4e4c-a247-2c46e8e30618\")) {                    Plotly.newPlot(                        \"2e3dd5e2-fd3b-4e4c-a247-2c46e8e30618\",                        [{\"name\":\"Ratings\",\"x\":[272,62,54,24,175,211,403,59,22,184,181,51,636,98,104,140,28,277,20,48,179,128,151,68,78,107,25,79,34,43,36,41,24,20,25,20,57,121,22,35,52,183,221,151,48,27,25,66,215,24,23,56,28,65,21,187,106,154,382,208,21,232,93,200,80,38,30,34,65,131,38,137,66,39,79,82,72,21,55,29,58,168,155,68,288,23,211,21,76,300,98,388,20,400,278,56,63,27,136,59,67,216,29,111,23,64,22,33,234,133,24,46,51,48,92,143,86,71,181,26,74,61,54,24,182,45,23,184,30,353,30,22,26,25,55,35,47,51,24,21,107,33,20,206,316,29,20,65,36,32,307,106,23,51,22,37,51,173,107,120,58,42,23,63,30,20,69,69,37,22,28,27,43,177,38,63,115,273,42,63,435,28,53,251,48,92,56,112,187,59,27,35,121,305,96,39,118,181,40,216,386,20,43,42,22,64,230,33,33,132,37,25,126,128,93,131,76,53,28,22,146,387,105,141,27,50,58,21,30,133,21,93,110,480,94,124,48,29,159,24,23,20,81,238,22,195,26,56,161,122,77,21,97,159,83,207,57,23,46,24,27,160,123,120,46,23,185,328,323,138,278,51,22,71,95,518,54,23,434,258,26,22,53,47,32,288,62,75,27,150,296,124,388,150,196,147,192,127,280,20,275,21,484,26,222,32,112,397,20,21,294,223,262,245,87,75,22,174,23,154,125,51,89,66,142,187,284,283,65,147,70,183,26,333,22,130,34,75,254,44,21,201,237,190,232,193,199,58,41,50,44,42,25,233,26,24,76,43,27,102,121,25,311,20,58,33,58,45,22,75,51,66,233,274,28,30,33,375,196,162,127,53,71,22,281,23,304,52,271,31,121,111,448,149,57,54,102,172,319,22,153,68,50,44,737,342,226,27,203,28,58,51,50,25,24,493,365,20,32,36,62,97,64,44,204,101,31,55,414,65,21,62,41,44,379,145,263,33,31,51,20,143,24,24,135,36,139,38,75,540,98,206,156,236,189,217,277,183,118,68,23,33,133,53,80,101,44,143,43,57,31,263,35,327,20,83,35,113,202,60,56,26,59,139,26,189,231,154,109,57,33,55,135,47,213,129,279,149,102,225,73,37,160,251,112,242,58,87,33,30,24,21,22,194,40,21,37,73,49,23,150,30,100,306,54,68,137,53,43,45,30,274,260,80,218,163,490,81,56,63,133,135,197,31,162,59,23,155,25,40,334,84,100,114,52,44,53,20,76,101,357,72,30,34,35,149,155,81,70,22,20,20,51,46,26,36,188,24,74,47,28,62,27,24,80,166,98,225,43,48,84,360,156,25,96,20,41,25,47,89,148,29,47,27,90,236,37,163,28,75,42,27,28,39,103,43,108,216,89,110,171,228,45,141,106,32,181,27,121,108,20,118,58,135,34,20,104,67,148,109,40,318,206,42,122,38,58,297,24,311,21,22,283,147,685,24,29,71,191,224,121,23,158,166,142,245,47,46,100,46,124,29,35,41,34,77,49,28,62,38,22,399,75,86,20,71,21,24,36,115,32,40,154,157,38,29,105,127,149,21,33,31,47,90,114,29,236,105,138,86,221,162,30,44,167,269,93,39,67,30,168,42,22,85,25,24,322,26,21,38,83,20,107,64,53,24,33,148,35,20,104,26,35,27,60,67,293,108,305,33,168,73,57,34,38,109,166,357,32,41,66,21,129,109,23,175,37,64,29,64,70,33,161,224,28,105,36,65,37,55,42,232,30,39,27,117,57,249,33,231,25,47,55,39,159,358,26,239,24,28,26,75,33,332,273,140,204,23,20,26,21,20,29,35,183,25,36,21,28,21,62,25,185,20,145,115,28,104,64,106,73,25,267,54,102,50,46,93,57,197,31,27,204,81,31,405,146,150,23,51,209,49,41,217,23,26,22,21,39,71,43,165,107,294,66,20,95,208,47,269,115,71,20,34,89,21,81,134,29,368,259,137,268,43,102,240,171,20,326,119,47,226,59,245,20,362,185,30,135,45,124,49,136,47,40,41,147,74,26,60,98,53,132,23,26,317,35,103,217,26,110,127,74,82,32,20,120,32,49,63,61,241,184,174,39,142,40,108,49,107,22,79,168],\"xbins\":{\"end\":100,\"size\":2,\"start\":0},\"type\":\"histogram\"}],                        {\"bargap\":0.1,\"template\":{\"data\":{\"barpolar\":[{\"marker\":{\"line\":{\"color\":\"#E5ECF6\",\"width\":0.5},\"pattern\":{\"fillmode\":\"overlay\",\"size\":10,\"solidity\":0.2}},\"type\":\"barpolar\"}],\"bar\":[{\"error_x\":{\"color\":\"#2a3f5f\"},\"error_y\":{\"color\":\"#2a3f5f\"},\"marker\":{\"line\":{\"color\":\"#E5ECF6\",\"width\":0.5},\"pattern\":{\"fillmode\":\"overlay\",\"size\":10,\"solidity\":0.2}},\"type\":\"bar\"}],\"carpet\":[{\"aaxis\":{\"endlinecolor\":\"#2a3f5f\",\"gridcolor\":\"white\",\"linecolor\":\"white\",\"minorgridcolor\":\"white\",\"startlinecolor\":\"#2a3f5f\"},\"baxis\":{\"endlinecolor\":\"#2a3f5f\",\"gridcolor\":\"white\",\"linecolor\":\"white\",\"minorgridcolor\":\"white\",\"startlinecolor\":\"#2a3f5f\"},\"type\":\"carpet\"}],\"choropleth\":[{\"colorbar\":{\"outlinewidth\":0,\"ticks\":\"\"},\"type\":\"choropleth\"}],\"contourcarpet\":[{\"colorbar\":{\"outlinewidth\":0,\"ticks\":\"\"},\"type\":\"contourcarpet\"}],\"contour\":[{\"colorbar\":{\"outlinewidth\":0,\"ticks\":\"\"},\"colorscale\":[[0.0,\"#0d0887\"],[0.1111111111111111,\"#46039f\"],[0.2222222222222222,\"#7201a8\"],[0.3333333333333333,\"#9c179e\"],[0.4444444444444444,\"#bd3786\"],[0.5555555555555556,\"#d8576b\"],[0.6666666666666666,\"#ed7953\"],[0.7777777777777778,\"#fb9f3a\"],[0.8888888888888888,\"#fdca26\"],[1.0,\"#f0f921\"]],\"type\":\"contour\"}],\"heatmapgl\":[{\"colorbar\":{\"outlinewidth\":0,\"ticks\":\"\"},\"colorscale\":[[0.0,\"#0d0887\"],[0.1111111111111111,\"#46039f\"],[0.2222222222222222,\"#7201a8\"],[0.3333333333333333,\"#9c179e\"],[0.4444444444444444,\"#bd3786\"],[0.5555555555555556,\"#d8576b\"],[0.6666666666666666,\"#ed7953\"],[0.7777777777777778,\"#fb9f3a\"],[0.8888888888888888,\"#fdca26\"],[1.0,\"#f0f921\"]],\"type\":\"heatmapgl\"}],\"heatmap\":[{\"colorbar\":{\"outlinewidth\":0,\"ticks\":\"\"},\"colorscale\":[[0.0,\"#0d0887\"],[0.1111111111111111,\"#46039f\"],[0.2222222222222222,\"#7201a8\"],[0.3333333333333333,\"#9c179e\"],[0.4444444444444444,\"#bd3786\"],[0.5555555555555556,\"#d8576b\"],[0.6666666666666666,\"#ed7953\"],[0.7777777777777778,\"#fb9f3a\"],[0.8888888888888888,\"#fdca26\"],[1.0,\"#f0f921\"]],\"type\":\"heatmap\"}],\"histogram2dcontour\":[{\"colorbar\":{\"outlinewidth\":0,\"ticks\":\"\"},\"colorscale\":[[0.0,\"#0d0887\"],[0.1111111111111111,\"#46039f\"],[0.2222222222222222,\"#7201a8\"],[0.3333333333333333,\"#9c179e\"],[0.4444444444444444,\"#bd3786\"],[0.5555555555555556,\"#d8576b\"],[0.6666666666666666,\"#ed7953\"],[0.7777777777777778,\"#fb9f3a\"],[0.8888888888888888,\"#fdca26\"],[1.0,\"#f0f921\"]],\"type\":\"histogram2dcontour\"}],\"histogram2d\":[{\"colorbar\":{\"outlinewidth\":0,\"ticks\":\"\"},\"colorscale\":[[0.0,\"#0d0887\"],[0.1111111111111111,\"#46039f\"],[0.2222222222222222,\"#7201a8\"],[0.3333333333333333,\"#9c179e\"],[0.4444444444444444,\"#bd3786\"],[0.5555555555555556,\"#d8576b\"],[0.6666666666666666,\"#ed7953\"],[0.7777777777777778,\"#fb9f3a\"],[0.8888888888888888,\"#fdca26\"],[1.0,\"#f0f921\"]],\"type\":\"histogram2d\"}],\"histogram\":[{\"marker\":{\"pattern\":{\"fillmode\":\"overlay\",\"size\":10,\"solidity\":0.2}},\"type\":\"histogram\"}],\"mesh3d\":[{\"colorbar\":{\"outlinewidth\":0,\"ticks\":\"\"},\"type\":\"mesh3d\"}],\"parcoords\":[{\"line\":{\"colorbar\":{\"outlinewidth\":0,\"ticks\":\"\"}},\"type\":\"parcoords\"}],\"pie\":[{\"automargin\":true,\"type\":\"pie\"}],\"scatter3d\":[{\"line\":{\"colorbar\":{\"outlinewidth\":0,\"ticks\":\"\"}},\"marker\":{\"colorbar\":{\"outlinewidth\":0,\"ticks\":\"\"}},\"type\":\"scatter3d\"}],\"scattercarpet\":[{\"marker\":{\"colorbar\":{\"outlinewidth\":0,\"ticks\":\"\"}},\"type\":\"scattercarpet\"}],\"scattergeo\":[{\"marker\":{\"colorbar\":{\"outlinewidth\":0,\"ticks\":\"\"}},\"type\":\"scattergeo\"}],\"scattergl\":[{\"marker\":{\"colorbar\":{\"outlinewidth\":0,\"ticks\":\"\"}},\"type\":\"scattergl\"}],\"scattermapbox\":[{\"marker\":{\"colorbar\":{\"outlinewidth\":0,\"ticks\":\"\"}},\"type\":\"scattermapbox\"}],\"scatterpolargl\":[{\"marker\":{\"colorbar\":{\"outlinewidth\":0,\"ticks\":\"\"}},\"type\":\"scatterpolargl\"}],\"scatterpolar\":[{\"marker\":{\"colorbar\":{\"outlinewidth\":0,\"ticks\":\"\"}},\"type\":\"scatterpolar\"}],\"scatter\":[{\"fillpattern\":{\"fillmode\":\"overlay\",\"size\":10,\"solidity\":0.2},\"type\":\"scatter\"}],\"scatterternary\":[{\"marker\":{\"colorbar\":{\"outlinewidth\":0,\"ticks\":\"\"}},\"type\":\"scatterternary\"}],\"surface\":[{\"colorbar\":{\"outlinewidth\":0,\"ticks\":\"\"},\"colorscale\":[[0.0,\"#0d0887\"],[0.1111111111111111,\"#46039f\"],[0.2222222222222222,\"#7201a8\"],[0.3333333333333333,\"#9c179e\"],[0.4444444444444444,\"#bd3786\"],[0.5555555555555556,\"#d8576b\"],[0.6666666666666666,\"#ed7953\"],[0.7777777777777778,\"#fb9f3a\"],[0.8888888888888888,\"#fdca26\"],[1.0,\"#f0f921\"]],\"type\":\"surface\"}],\"table\":[{\"cells\":{\"fill\":{\"color\":\"#EBF0F8\"},\"line\":{\"color\":\"white\"}},\"header\":{\"fill\":{\"color\":\"#C8D4E3\"},\"line\":{\"color\":\"white\"}},\"type\":\"table\"}]},\"layout\":{\"annotationdefaults\":{\"arrowcolor\":\"#2a3f5f\",\"arrowhead\":0,\"arrowwidth\":1},\"autotypenumbers\":\"strict\",\"coloraxis\":{\"colorbar\":{\"outlinewidth\":0,\"ticks\":\"\"}},\"colorscale\":{\"diverging\":[[0,\"#8e0152\"],[0.1,\"#c51b7d\"],[0.2,\"#de77ae\"],[0.3,\"#f1b6da\"],[0.4,\"#fde0ef\"],[0.5,\"#f7f7f7\"],[0.6,\"#e6f5d0\"],[0.7,\"#b8e186\"],[0.8,\"#7fbc41\"],[0.9,\"#4d9221\"],[1,\"#276419\"]],\"sequential\":[[0.0,\"#0d0887\"],[0.1111111111111111,\"#46039f\"],[0.2222222222222222,\"#7201a8\"],[0.3333333333333333,\"#9c179e\"],[0.4444444444444444,\"#bd3786\"],[0.5555555555555556,\"#d8576b\"],[0.6666666666666666,\"#ed7953\"],[0.7777777777777778,\"#fb9f3a\"],[0.8888888888888888,\"#fdca26\"],[1.0,\"#f0f921\"]],\"sequentialminus\":[[0.0,\"#0d0887\"],[0.1111111111111111,\"#46039f\"],[0.2222222222222222,\"#7201a8\"],[0.3333333333333333,\"#9c179e\"],[0.4444444444444444,\"#bd3786\"],[0.5555555555555556,\"#d8576b\"],[0.6666666666666666,\"#ed7953\"],[0.7777777777777778,\"#fb9f3a\"],[0.8888888888888888,\"#fdca26\"],[1.0,\"#f0f921\"]]},\"colorway\":[\"#636efa\",\"#EF553B\",\"#00cc96\",\"#ab63fa\",\"#FFA15A\",\"#19d3f3\",\"#FF6692\",\"#B6E880\",\"#FF97FF\",\"#FECB52\"],\"font\":{\"color\":\"#2a3f5f\"},\"geo\":{\"bgcolor\":\"white\",\"lakecolor\":\"white\",\"landcolor\":\"#E5ECF6\",\"showlakes\":true,\"showland\":true,\"subunitcolor\":\"white\"},\"hoverlabel\":{\"align\":\"left\"},\"hovermode\":\"closest\",\"mapbox\":{\"style\":\"light\"},\"paper_bgcolor\":\"white\",\"plot_bgcolor\":\"#E5ECF6\",\"polar\":{\"angularaxis\":{\"gridcolor\":\"white\",\"linecolor\":\"white\",\"ticks\":\"\"},\"bgcolor\":\"#E5ECF6\",\"radialaxis\":{\"gridcolor\":\"white\",\"linecolor\":\"white\",\"ticks\":\"\"}},\"scene\":{\"xaxis\":{\"backgroundcolor\":\"#E5ECF6\",\"gridcolor\":\"white\",\"gridwidth\":2,\"linecolor\":\"white\",\"showbackground\":true,\"ticks\":\"\",\"zerolinecolor\":\"white\"},\"yaxis\":{\"backgroundcolor\":\"#E5ECF6\",\"gridcolor\":\"white\",\"gridwidth\":2,\"linecolor\":\"white\",\"showbackground\":true,\"ticks\":\"\",\"zerolinecolor\":\"white\"},\"zaxis\":{\"backgroundcolor\":\"#E5ECF6\",\"gridcolor\":\"white\",\"gridwidth\":2,\"linecolor\":\"white\",\"showbackground\":true,\"ticks\":\"\",\"zerolinecolor\":\"white\"}},\"shapedefaults\":{\"line\":{\"color\":\"#2a3f5f\"}},\"ternary\":{\"aaxis\":{\"gridcolor\":\"white\",\"linecolor\":\"white\",\"ticks\":\"\"},\"baxis\":{\"gridcolor\":\"white\",\"linecolor\":\"white\",\"ticks\":\"\"},\"bgcolor\":\"#E5ECF6\",\"caxis\":{\"gridcolor\":\"white\",\"linecolor\":\"white\",\"ticks\":\"\"}},\"title\":{\"x\":0.05},\"xaxis\":{\"automargin\":true,\"gridcolor\":\"white\",\"linecolor\":\"white\",\"ticks\":\"\",\"title\":{\"standoff\":15},\"zerolinecolor\":\"white\",\"zerolinewidth\":2},\"yaxis\":{\"automargin\":true,\"gridcolor\":\"white\",\"linecolor\":\"white\",\"ticks\":\"\",\"title\":{\"standoff\":15},\"zerolinecolor\":\"white\",\"zerolinewidth\":2}}},\"title\":{\"text\":\"Distribution of Ratings per User\"},\"xaxis\":{\"title\":{\"text\":\"Ratings per user\"}},\"yaxis\":{\"title\":{\"text\":\"Count\"}}},                        {\"responsive\": true}                    ).then(function(){\n",
       "                            \n",
       "var gd = document.getElementById('2e3dd5e2-fd3b-4e4c-a247-2c46e8e30618');\n",
       "var x = new MutationObserver(function (mutations, observer) {{\n",
       "        var display = window.getComputedStyle(gd).display;\n",
       "        if (!display || display === 'none') {{\n",
       "            console.log([gd, 'removed!']);\n",
       "            Plotly.purge(gd);\n",
       "            observer.disconnect();\n",
       "        }}\n",
       "}});\n",
       "\n",
       "// Listen for the removal of the full notebook cells\n",
       "var notebookContainer = gd.closest('#notebook-container');\n",
       "if (notebookContainer) {{\n",
       "    x.observe(notebookContainer, {childList: true});\n",
       "}}\n",
       "\n",
       "// Listen for the clearing of the current output cell\n",
       "var outputEl = gd.closest('.output');\n",
       "if (outputEl) {{\n",
       "    x.observe(outputEl, {childList: true});\n",
       "}}\n",
       "\n",
       "                        })                };                });            </script>        </div>"
      ]
     },
     "metadata": {},
     "output_type": "display_data"
    }
   ],
   "source": [
    "data = ratings_df.groupby('user_id')['rating'].count()\n",
    "\n",
    "trace = go.Histogram(\n",
    "    x = data.values,\n",
    "    name = 'Ratings',\n",
    "    xbins = dict(\n",
    "        start = 0,\n",
    "        end = 100,\n",
    "        size = 2\n",
    "    )\n",
    ")\n",
    "\n",
    "layout = go.Layout(\n",
    "    title = 'Distribution of Ratings per User',\n",
    "    xaxis = dict(title = 'Ratings per user'),\n",
    "    yaxis = dict(title = 'Count'),\n",
    "    bargap = 0.1\n",
    ")\n",
    "\n",
    "fig = go.Figure(data=[trace], layout=layout)\n",
    "iplot(fig)"
   ]
  },
  {
   "cell_type": "markdown",
   "metadata": {},
   "source": [
    "# Benchmark Algorithms"
   ]
  },
  {
   "cell_type": "code",
   "execution_count": 6,
   "metadata": {},
   "outputs": [],
   "source": [
    "reader = Reader(rating_scale=(1, 5))\n",
    "data = Dataset.load_from_df(ratings_df[['user_id', 'movie_id', 'rating']], reader)"
   ]
  },
  {
   "cell_type": "code",
   "execution_count": 7,
   "metadata": {},
   "outputs": [
    {
     "name": "stdout",
     "output_type": "stream",
     "text": [
      "Estimating biases using als...\n",
      "Computing the msd similarity matrix...\n",
      "Done computing similarity matrix.\n",
      "Estimating biases using als...\n",
      "Computing the msd similarity matrix...\n",
      "Done computing similarity matrix.\n",
      "Estimating biases using als...\n",
      "Computing the msd similarity matrix...\n",
      "Done computing similarity matrix.\n",
      "Computing the msd similarity matrix...\n",
      "Done computing similarity matrix.\n",
      "Computing the msd similarity matrix...\n",
      "Done computing similarity matrix.\n",
      "Computing the msd similarity matrix...\n",
      "Done computing similarity matrix.\n",
      "Computing the msd similarity matrix...\n",
      "Done computing similarity matrix.\n",
      "Computing the msd similarity matrix...\n",
      "Done computing similarity matrix.\n",
      "Computing the msd similarity matrix...\n",
      "Done computing similarity matrix.\n",
      "Computing the msd similarity matrix...\n",
      "Done computing similarity matrix.\n",
      "Computing the msd similarity matrix...\n",
      "Done computing similarity matrix.\n",
      "Computing the msd similarity matrix...\n",
      "Done computing similarity matrix.\n",
      "Estimating biases using als...\n",
      "Estimating biases using als...\n",
      "Estimating biases using als...\n"
     ]
    },
    {
     "data": {
      "text/html": [
       "<div>\n",
       "<style scoped>\n",
       "    .dataframe tbody tr th:only-of-type {\n",
       "        vertical-align: middle;\n",
       "    }\n",
       "\n",
       "    .dataframe tbody tr th {\n",
       "        vertical-align: top;\n",
       "    }\n",
       "\n",
       "    .dataframe thead th {\n",
       "        text-align: right;\n",
       "    }\n",
       "</style>\n",
       "<table border=\"1\" class=\"dataframe\">\n",
       "  <thead>\n",
       "    <tr style=\"text-align: right;\">\n",
       "      <th></th>\n",
       "      <th>test_rmse</th>\n",
       "      <th>fit_time</th>\n",
       "      <th>test_time</th>\n",
       "    </tr>\n",
       "    <tr>\n",
       "      <th>Algorithm</th>\n",
       "      <th></th>\n",
       "      <th></th>\n",
       "      <th></th>\n",
       "    </tr>\n",
       "  </thead>\n",
       "  <tbody>\n",
       "    <tr>\n",
       "      <th>SVDpp</th>\n",
       "      <td>0.926315</td>\n",
       "      <td>16.614837</td>\n",
       "      <td>5.770494</td>\n",
       "    </tr>\n",
       "    <tr>\n",
       "      <th>KNNBaseline</th>\n",
       "      <td>0.935688</td>\n",
       "      <td>0.578930</td>\n",
       "      <td>6.192411</td>\n",
       "    </tr>\n",
       "    <tr>\n",
       "      <th>SVD</th>\n",
       "      <td>0.945415</td>\n",
       "      <td>0.969835</td>\n",
       "      <td>0.234068</td>\n",
       "    </tr>\n",
       "    <tr>\n",
       "      <th>BaselineOnly</th>\n",
       "      <td>0.947668</td>\n",
       "      <td>0.232038</td>\n",
       "      <td>0.212419</td>\n",
       "    </tr>\n",
       "    <tr>\n",
       "      <th>SlopeOne</th>\n",
       "      <td>0.948941</td>\n",
       "      <td>0.611808</td>\n",
       "      <td>4.028263</td>\n",
       "    </tr>\n",
       "    <tr>\n",
       "      <th>KNNWithMeans</th>\n",
       "      <td>0.955647</td>\n",
       "      <td>0.346831</td>\n",
       "      <td>5.014912</td>\n",
       "    </tr>\n",
       "    <tr>\n",
       "      <th>KNNWithZScore</th>\n",
       "      <td>0.956995</td>\n",
       "      <td>0.423210</td>\n",
       "      <td>4.736002</td>\n",
       "    </tr>\n",
       "    <tr>\n",
       "      <th>CoClustering</th>\n",
       "      <td>0.975450</td>\n",
       "      <td>1.451140</td>\n",
       "      <td>0.191290</td>\n",
       "    </tr>\n",
       "    <tr>\n",
       "      <th>NMF</th>\n",
       "      <td>0.975706</td>\n",
       "      <td>1.984828</td>\n",
       "      <td>0.233831</td>\n",
       "    </tr>\n",
       "    <tr>\n",
       "      <th>KNNBasic</th>\n",
       "      <td>0.987967</td>\n",
       "      <td>0.312300</td>\n",
       "      <td>4.343794</td>\n",
       "    </tr>\n",
       "    <tr>\n",
       "      <th>NormalPredictor</th>\n",
       "      <td>1.517402</td>\n",
       "      <td>0.105258</td>\n",
       "      <td>0.257748</td>\n",
       "    </tr>\n",
       "  </tbody>\n",
       "</table>\n",
       "</div>"
      ],
      "text/plain": [
       "                 test_rmse   fit_time  test_time\n",
       "Algorithm                                       \n",
       "SVDpp             0.926315  16.614837   5.770494\n",
       "KNNBaseline       0.935688   0.578930   6.192411\n",
       "SVD               0.945415   0.969835   0.234068\n",
       "BaselineOnly      0.947668   0.232038   0.212419\n",
       "SlopeOne          0.948941   0.611808   4.028263\n",
       "KNNWithMeans      0.955647   0.346831   5.014912\n",
       "KNNWithZScore     0.956995   0.423210   4.736002\n",
       "CoClustering      0.975450   1.451140   0.191290\n",
       "NMF               0.975706   1.984828   0.233831\n",
       "KNNBasic          0.987967   0.312300   4.343794\n",
       "NormalPredictor   1.517402   0.105258   0.257748"
      ]
     },
     "execution_count": 7,
     "metadata": {},
     "output_type": "execute_result"
    }
   ],
   "source": [
    "benchmark = []\n",
    "\n",
    "for algorithm in [SVD(), SVDpp(), SlopeOne(), NMF(), NormalPredictor(), KNNBaseline(), KNNBasic(), KNNWithMeans(), KNNWithZScore(), BaselineOnly(), CoClustering()]:\n",
    "    results = cross_validate(algorithm, data, measures=['RMSE'], cv=3, verbose=False)\n",
    "    \n",
    "    tmp = pd.DataFrame.from_dict(results).mean(axis=0)\n",
    "    tmp = pd.concat([tmp, pd.Series([str(algorithm).split(' ')[0].split('.')[-1]], index=['Algorithm'])])\n",
    "    benchmark.append(tmp)\n",
    "\n",
    "pd.DataFrame(benchmark).set_index('Algorithm').sort_values('test_rmse')"
   ]
  },
  {
   "cell_type": "markdown",
   "metadata": {},
   "source": [
    "# Training"
   ]
  },
  {
   "cell_type": "code",
   "execution_count": 8,
   "metadata": {},
   "outputs": [
    {
     "name": "stdout",
     "output_type": "stream",
     "text": [
      "Using SVDpp\n",
      "Evaluating RMSE of algorithm SVDpp on 3 split(s).\n",
      "\n",
      "                  Fold 1  Fold 2  Fold 3  Mean    Std     \n",
      "RMSE (testset)    0.9284  0.9277  0.9284  0.9282  0.0003  \n",
      "Fit time          35.83   38.45   34.95   36.41   1.49    \n",
      "Test time         5.92    6.50    3.68    5.36    1.21    \n"
     ]
    },
    {
     "data": {
      "text/plain": [
       "{'test_rmse': array([0.92839127, 0.92767834, 0.92843054]),\n",
       " 'fit_time': (35.82781481742859, 38.45448064804077, 34.946890354156494),\n",
       " 'test_time': (5.9175519943237305, 6.496156215667725, 3.6805288791656494)}"
      ]
     },
     "execution_count": 8,
     "metadata": {},
     "output_type": "execute_result"
    }
   ],
   "source": [
    "print(\"Using SVDpp\")\n",
    "\n",
    "algo = SVDpp(\n",
    "    n_factors=50,\n",
    "    n_epochs=20,\n",
    "    lr_all=0.005,\n",
    "    reg_all=0.02\n",
    ")\n",
    "\n",
    "cross_validate(algo, data, measures=['RMSE'], cv=3, verbose=True)"
   ]
  },
  {
   "cell_type": "code",
   "execution_count": 9,
   "metadata": {},
   "outputs": [
    {
     "name": "stdout",
     "output_type": "stream",
     "text": [
      "RMSE: 0.9212\n"
     ]
    },
    {
     "data": {
      "text/plain": [
       "0.9211568704924165"
      ]
     },
     "execution_count": 9,
     "metadata": {},
     "output_type": "execute_result"
    }
   ],
   "source": [
    "trainset, testset = train_test_split(data, test_size=0.25)\n",
    "algo = SVDpp(\n",
    "    n_factors=50,\n",
    "    n_epochs=20,\n",
    "    lr_all=0.005,\n",
    "    reg_all=0.02\n",
    ")\n",
    "predictions = algo.fit(trainset).test(testset)\n",
    "accuracy.rmse(predictions)"
   ]
  },
  {
   "cell_type": "code",
   "execution_count": 10,
   "metadata": {},
   "outputs": [],
   "source": [
    "def get_Iu(uid):\n",
    "    \"\"\" return the number of items rated by given user\n",
    "    args: \n",
    "      uid: the id of the user\n",
    "    returns: \n",
    "      the number of items rated by the user\n",
    "    \"\"\"\n",
    "    try:\n",
    "        return len(trainset.ur[trainset.to_inner_uid(uid)])\n",
    "    except ValueError: # user was not part of the trainset\n",
    "        return 0\n",
    "    \n",
    "def get_Ui(iid):\n",
    "    \"\"\" return number of users that have rated given item\n",
    "    args:\n",
    "      iid: the raw id of the item\n",
    "    returns:\n",
    "      the number of users that have rated the item.\n",
    "    \"\"\"\n",
    "    try: \n",
    "        return len(trainset.ir[trainset.to_inner_iid(iid)])\n",
    "    except ValueError:\n",
    "        return 0\n",
    "    \n",
    "df = pd.DataFrame(predictions, columns=['uid', 'iid', 'rui', 'est', 'details'])\n",
    "df['Iu'] = df.uid.apply(get_Iu)\n",
    "df['Ui'] = df.iid.apply(get_Ui)\n",
    "df['err'] = abs(df.est - df.rui)\n",
    "best_predictions = df.sort_values(by='err')[:10]\n",
    "worst_predictions = df.sort_values(by='err')[-10:]"
   ]
  },
  {
   "cell_type": "code",
   "execution_count": 11,
   "metadata": {},
   "outputs": [
    {
     "data": {
      "text/html": [
       "<div>\n",
       "<style scoped>\n",
       "    .dataframe tbody tr th:only-of-type {\n",
       "        vertical-align: middle;\n",
       "    }\n",
       "\n",
       "    .dataframe tbody tr th {\n",
       "        vertical-align: top;\n",
       "    }\n",
       "\n",
       "    .dataframe thead th {\n",
       "        text-align: right;\n",
       "    }\n",
       "</style>\n",
       "<table border=\"1\" class=\"dataframe\">\n",
       "  <thead>\n",
       "    <tr style=\"text-align: right;\">\n",
       "      <th></th>\n",
       "      <th>uid</th>\n",
       "      <th>iid</th>\n",
       "      <th>rui</th>\n",
       "      <th>est</th>\n",
       "      <th>details</th>\n",
       "      <th>Iu</th>\n",
       "      <th>Ui</th>\n",
       "      <th>err</th>\n",
       "    </tr>\n",
       "  </thead>\n",
       "  <tbody>\n",
       "    <tr>\n",
       "      <th>6815</th>\n",
       "      <td>394</td>\n",
       "      <td>22</td>\n",
       "      <td>5.0</td>\n",
       "      <td>5.0</td>\n",
       "      <td>{'was_impossible': False}</td>\n",
       "      <td>120</td>\n",
       "      <td>216</td>\n",
       "      <td>0.0</td>\n",
       "    </tr>\n",
       "    <tr>\n",
       "      <th>9735</th>\n",
       "      <td>379</td>\n",
       "      <td>127</td>\n",
       "      <td>5.0</td>\n",
       "      <td>5.0</td>\n",
       "      <td>{'was_impossible': False}</td>\n",
       "      <td>146</td>\n",
       "      <td>313</td>\n",
       "      <td>0.0</td>\n",
       "    </tr>\n",
       "    <tr>\n",
       "      <th>2257</th>\n",
       "      <td>291</td>\n",
       "      <td>50</td>\n",
       "      <td>5.0</td>\n",
       "      <td>5.0</td>\n",
       "      <td>{'was_impossible': False}</td>\n",
       "      <td>218</td>\n",
       "      <td>436</td>\n",
       "      <td>0.0</td>\n",
       "    </tr>\n",
       "    <tr>\n",
       "      <th>10419</th>\n",
       "      <td>457</td>\n",
       "      <td>172</td>\n",
       "      <td>5.0</td>\n",
       "      <td>5.0</td>\n",
       "      <td>{'was_impossible': False}</td>\n",
       "      <td>201</td>\n",
       "      <td>281</td>\n",
       "      <td>0.0</td>\n",
       "    </tr>\n",
       "    <tr>\n",
       "      <th>16753</th>\n",
       "      <td>711</td>\n",
       "      <td>408</td>\n",
       "      <td>5.0</td>\n",
       "      <td>5.0</td>\n",
       "      <td>{'was_impossible': False}</td>\n",
       "      <td>170</td>\n",
       "      <td>87</td>\n",
       "      <td>0.0</td>\n",
       "    </tr>\n",
       "    <tr>\n",
       "      <th>23980</th>\n",
       "      <td>592</td>\n",
       "      <td>98</td>\n",
       "      <td>5.0</td>\n",
       "      <td>5.0</td>\n",
       "      <td>{'was_impossible': False}</td>\n",
       "      <td>260</td>\n",
       "      <td>286</td>\n",
       "      <td>0.0</td>\n",
       "    </tr>\n",
       "    <tr>\n",
       "      <th>6051</th>\n",
       "      <td>181</td>\n",
       "      <td>1132</td>\n",
       "      <td>1.0</td>\n",
       "      <td>1.0</td>\n",
       "      <td>{'was_impossible': False}</td>\n",
       "      <td>328</td>\n",
       "      <td>25</td>\n",
       "      <td>0.0</td>\n",
       "    </tr>\n",
       "    <tr>\n",
       "      <th>1766</th>\n",
       "      <td>507</td>\n",
       "      <td>121</td>\n",
       "      <td>5.0</td>\n",
       "      <td>5.0</td>\n",
       "      <td>{'was_impossible': False}</td>\n",
       "      <td>43</td>\n",
       "      <td>333</td>\n",
       "      <td>0.0</td>\n",
       "    </tr>\n",
       "    <tr>\n",
       "      <th>13388</th>\n",
       "      <td>416</td>\n",
       "      <td>216</td>\n",
       "      <td>5.0</td>\n",
       "      <td>5.0</td>\n",
       "      <td>{'was_impossible': False}</td>\n",
       "      <td>366</td>\n",
       "      <td>225</td>\n",
       "      <td>0.0</td>\n",
       "    </tr>\n",
       "    <tr>\n",
       "      <th>21333</th>\n",
       "      <td>405</td>\n",
       "      <td>1029</td>\n",
       "      <td>1.0</td>\n",
       "      <td>1.0</td>\n",
       "      <td>{'was_impossible': False}</td>\n",
       "      <td>535</td>\n",
       "      <td>12</td>\n",
       "      <td>0.0</td>\n",
       "    </tr>\n",
       "  </tbody>\n",
       "</table>\n",
       "</div>"
      ],
      "text/plain": [
       "       uid   iid  rui  est                    details   Iu   Ui  err\n",
       "6815   394    22  5.0  5.0  {'was_impossible': False}  120  216  0.0\n",
       "9735   379   127  5.0  5.0  {'was_impossible': False}  146  313  0.0\n",
       "2257   291    50  5.0  5.0  {'was_impossible': False}  218  436  0.0\n",
       "10419  457   172  5.0  5.0  {'was_impossible': False}  201  281  0.0\n",
       "16753  711   408  5.0  5.0  {'was_impossible': False}  170   87  0.0\n",
       "23980  592    98  5.0  5.0  {'was_impossible': False}  260  286  0.0\n",
       "6051   181  1132  1.0  1.0  {'was_impossible': False}  328   25  0.0\n",
       "1766   507   121  5.0  5.0  {'was_impossible': False}   43  333  0.0\n",
       "13388  416   216  5.0  5.0  {'was_impossible': False}  366  225  0.0\n",
       "21333  405  1029  1.0  1.0  {'was_impossible': False}  535   12  0.0"
      ]
     },
     "execution_count": 11,
     "metadata": {},
     "output_type": "execute_result"
    }
   ],
   "source": [
    "best_predictions"
   ]
  },
  {
   "cell_type": "code",
   "execution_count": 12,
   "metadata": {},
   "outputs": [
    {
     "data": {
      "text/html": [
       "<div>\n",
       "<style scoped>\n",
       "    .dataframe tbody tr th:only-of-type {\n",
       "        vertical-align: middle;\n",
       "    }\n",
       "\n",
       "    .dataframe tbody tr th {\n",
       "        vertical-align: top;\n",
       "    }\n",
       "\n",
       "    .dataframe thead th {\n",
       "        text-align: right;\n",
       "    }\n",
       "</style>\n",
       "<table border=\"1\" class=\"dataframe\">\n",
       "  <thead>\n",
       "    <tr style=\"text-align: right;\">\n",
       "      <th></th>\n",
       "      <th>uid</th>\n",
       "      <th>iid</th>\n",
       "      <th>rui</th>\n",
       "      <th>est</th>\n",
       "      <th>details</th>\n",
       "      <th>Iu</th>\n",
       "      <th>Ui</th>\n",
       "      <th>err</th>\n",
       "    </tr>\n",
       "  </thead>\n",
       "  <tbody>\n",
       "    <tr>\n",
       "      <th>21982</th>\n",
       "      <td>405</td>\n",
       "      <td>842</td>\n",
       "      <td>5.0</td>\n",
       "      <td>1.542267</td>\n",
       "      <td>{'was_impossible': False}</td>\n",
       "      <td>535</td>\n",
       "      <td>16</td>\n",
       "      <td>3.457733</td>\n",
       "    </tr>\n",
       "    <tr>\n",
       "      <th>14339</th>\n",
       "      <td>151</td>\n",
       "      <td>469</td>\n",
       "      <td>1.0</td>\n",
       "      <td>4.523792</td>\n",
       "      <td>{'was_impossible': False}</td>\n",
       "      <td>228</td>\n",
       "      <td>49</td>\n",
       "      <td>3.523792</td>\n",
       "    </tr>\n",
       "    <tr>\n",
       "      <th>22702</th>\n",
       "      <td>405</td>\n",
       "      <td>238</td>\n",
       "      <td>5.0</td>\n",
       "      <td>1.457775</td>\n",
       "      <td>{'was_impossible': False}</td>\n",
       "      <td>535</td>\n",
       "      <td>188</td>\n",
       "      <td>3.542225</td>\n",
       "    </tr>\n",
       "    <tr>\n",
       "      <th>6186</th>\n",
       "      <td>148</td>\n",
       "      <td>191</td>\n",
       "      <td>1.0</td>\n",
       "      <td>4.554194</td>\n",
       "      <td>{'was_impossible': False}</td>\n",
       "      <td>49</td>\n",
       "      <td>214</td>\n",
       "      <td>3.554194</td>\n",
       "    </tr>\n",
       "    <tr>\n",
       "      <th>21112</th>\n",
       "      <td>137</td>\n",
       "      <td>51</td>\n",
       "      <td>1.0</td>\n",
       "      <td>4.572899</td>\n",
       "      <td>{'was_impossible': False}</td>\n",
       "      <td>35</td>\n",
       "      <td>55</td>\n",
       "      <td>3.572899</td>\n",
       "    </tr>\n",
       "    <tr>\n",
       "      <th>22622</th>\n",
       "      <td>239</td>\n",
       "      <td>318</td>\n",
       "      <td>1.0</td>\n",
       "      <td>4.625995</td>\n",
       "      <td>{'was_impossible': False}</td>\n",
       "      <td>119</td>\n",
       "      <td>220</td>\n",
       "      <td>3.625995</td>\n",
       "    </tr>\n",
       "    <tr>\n",
       "      <th>12166</th>\n",
       "      <td>648</td>\n",
       "      <td>69</td>\n",
       "      <td>1.0</td>\n",
       "      <td>4.686965</td>\n",
       "      <td>{'was_impossible': False}</td>\n",
       "      <td>227</td>\n",
       "      <td>258</td>\n",
       "      <td>3.686965</td>\n",
       "    </tr>\n",
       "    <tr>\n",
       "      <th>20658</th>\n",
       "      <td>867</td>\n",
       "      <td>276</td>\n",
       "      <td>1.0</td>\n",
       "      <td>4.703596</td>\n",
       "      <td>{'was_impossible': False}</td>\n",
       "      <td>69</td>\n",
       "      <td>208</td>\n",
       "      <td>3.703596</td>\n",
       "    </tr>\n",
       "    <tr>\n",
       "      <th>12840</th>\n",
       "      <td>239</td>\n",
       "      <td>190</td>\n",
       "      <td>1.0</td>\n",
       "      <td>4.827079</td>\n",
       "      <td>{'was_impossible': False}</td>\n",
       "      <td>119</td>\n",
       "      <td>92</td>\n",
       "      <td>3.827079</td>\n",
       "    </tr>\n",
       "    <tr>\n",
       "      <th>20142</th>\n",
       "      <td>887</td>\n",
       "      <td>274</td>\n",
       "      <td>1.0</td>\n",
       "      <td>4.878277</td>\n",
       "      <td>{'was_impossible': False}</td>\n",
       "      <td>121</td>\n",
       "      <td>142</td>\n",
       "      <td>3.878277</td>\n",
       "    </tr>\n",
       "  </tbody>\n",
       "</table>\n",
       "</div>"
      ],
      "text/plain": [
       "       uid  iid  rui       est                    details   Iu   Ui       err\n",
       "21982  405  842  5.0  1.542267  {'was_impossible': False}  535   16  3.457733\n",
       "14339  151  469  1.0  4.523792  {'was_impossible': False}  228   49  3.523792\n",
       "22702  405  238  5.0  1.457775  {'was_impossible': False}  535  188  3.542225\n",
       "6186   148  191  1.0  4.554194  {'was_impossible': False}   49  214  3.554194\n",
       "21112  137   51  1.0  4.572899  {'was_impossible': False}   35   55  3.572899\n",
       "22622  239  318  1.0  4.625995  {'was_impossible': False}  119  220  3.625995\n",
       "12166  648   69  1.0  4.686965  {'was_impossible': False}  227  258  3.686965\n",
       "20658  867  276  1.0  4.703596  {'was_impossible': False}   69  208  3.703596\n",
       "12840  239  190  1.0  4.827079  {'was_impossible': False}  119   92  3.827079\n",
       "20142  887  274  1.0  4.878277  {'was_impossible': False}  121  142  3.878277"
      ]
     },
     "execution_count": 12,
     "metadata": {},
     "output_type": "execute_result"
    }
   ],
   "source": [
    "worst_predictions"
   ]
  },
  {
   "cell_type": "markdown",
   "metadata": {},
   "source": [
    "# Save & Load"
   ]
  },
  {
   "cell_type": "code",
   "execution_count": 13,
   "metadata": {},
   "outputs": [],
   "source": [
    "import os\n",
    "\n",
    "def get_current_version(version_file='version.txt'):\n",
    "    \"\"\"Read the current version from the version file.\"\"\"\n",
    "    if not os.path.exists(version_file):\n",
    "        with open(version_file, 'w') as f:\n",
    "            f.write('0')\n",
    "        return 0\n",
    "    with open(version_file, 'r') as f:\n",
    "        return int(f.read().strip())\n",
    "\n",
    "def increment_version(version_file='version.txt'):\n",
    "    \"\"\"Increment the version number and save it back to the file.\"\"\"\n",
    "    current_version = get_current_version(version_file)\n",
    "    new_version = current_version + 1\n",
    "    with open(version_file, 'w') as f:\n",
    "        f.write(str(new_version))\n",
    "    return new_version"
   ]
  },
  {
   "cell_type": "markdown",
   "metadata": {},
   "source": [
    "# Save"
   ]
  },
  {
   "cell_type": "code",
   "execution_count": 14,
   "metadata": {},
   "outputs": [
    {
     "name": "stdout",
     "output_type": "stream",
     "text": [
      "Model saved to ml_models/model_v1/model_v1\n"
     ]
    }
   ],
   "source": [
    "import pickle\n",
    "\n",
    "version_file = 'ml_model_version.txt'\n",
    "new_version = increment_version(version_file)\n",
    "\n",
    "model_name = f\"model_v{new_version}\"\n",
    "os.makedirs(f\"ml_models/{model_name}\", exist_ok=True)\n",
    "save_path = os.path.join(f\"ml_models/{model_name}\", model_name)\n",
    "\n",
    "with open(f\"{save_path}.pkl\", 'wb') as f:\n",
    "    pickle.dump(algo, f)\n",
    "\n",
    "print(f\"Model saved to {save_path}\")"
   ]
  },
  {
   "cell_type": "markdown",
   "metadata": {},
   "source": [
    "# Load"
   ]
  },
  {
   "cell_type": "code",
   "execution_count": 15,
   "metadata": {},
   "outputs": [],
   "source": [
    "# import pickle\n",
    "\n",
    "# version_file = 'ml_model_version.txt'\n",
    "# last_version = get_current_version(version_file)\n",
    "\n",
    "# load_path = f\"ml_models/model_v{last_version}/model_v{last_version}.pkl\"\n",
    "\n",
    "# with open(load_path, 'rb') as f:\n",
    "    # algo = pickle.load(f)\n",
    "\n",
    "# print(f\"Model loaded from {load_path}\")"
   ]
  },
  {
   "cell_type": "markdown",
   "metadata": {},
   "source": [
    "# Inference"
   ]
  },
  {
   "cell_type": "code",
   "execution_count": 22,
   "metadata": {},
   "outputs": [
    {
     "name": "stdout",
     "output_type": "stream",
     "text": [
      "User has rated the movie with rating: 3\n",
      "User has not rated the movie\n"
     ]
    }
   ],
   "source": [
    "def check_user_rating(user_id, movie_id):\n",
    "    if ratings_df[(ratings_df['user_id'] == user_id) & (ratings_df['movie_id'] == movie_id)].empty:\n",
    "        print(\"User has not rated the movie\")\n",
    "    else:\n",
    "        print(f\"User has rated the movie with rating: {ratings_df[(ratings_df['user_id'] == user_id) & (ratings_df['movie_id'] == movie_id)]['rating'].values[0]}\")\n",
    "\n",
    "check_user_rating(196, 202)\n",
    "check_user_rating(197, 64)"
   ]
  },
  {
   "cell_type": "markdown",
   "metadata": {},
   "source": [
    "## Single Prediction"
   ]
  },
  {
   "cell_type": "code",
   "execution_count": 17,
   "metadata": {},
   "outputs": [
    {
     "name": "stdout",
     "output_type": "stream",
     "text": [
      "user: 196        item: 302        r_ui = None   est = 4.06   {'was_impossible': False}\n"
     ]
    }
   ],
   "source": [
    "user_id = 196\n",
    "item_id = 302\n",
    "\n",
    "pred = algo.predict(user_id, item_id)\n",
    "print(pred)"
   ]
  },
  {
   "cell_type": "markdown",
   "metadata": {},
   "source": [
    "## Predictions For A User"
   ]
  },
  {
   "cell_type": "code",
   "execution_count": 18,
   "metadata": {},
   "outputs": [
    {
     "name": "stdout",
     "output_type": "stream",
     "text": [
      "64 - Shawshank Redemption, The (1994) - 4.793489669371369\n",
      "12 - Usual Suspects, The (1995) - 4.5711821186356465\n",
      "69 - Forrest Gump (1994) - 4.386736741773548\n",
      "173 - Princess Bride, The (1987) - 4.34786779740122\n",
      "114 - Wallace & Gromit: The Best of Aardman Animation (1996) - 4.300245727741361\n",
      "169 - Wrong Trousers, The (1993) - 4.278377960854714\n",
      "28 - Apollo 13 (1995) - 4.262295337644336\n",
      "408 - Close Shave, A (1995) - 4.247867033181247\n",
      "318 - Schindler's List (1993) - 4.20680807056584\n",
      "484 - Maltese Falcon, The (1941) - 4.140929033114934\n"
     ]
    }
   ],
   "source": [
    "user_id = 197\n",
    "all_items = ratings_df['movie_id'].unique()\n",
    "\n",
    "# Exclude the items that are already rated by the user\n",
    "items_rated_by_user = ratings_df[ratings_df['user_id'] == user_id]['movie_id'].values\n",
    "items_to_pred = np.setdiff1d(all_items, items_rated_by_user)\n",
    "\n",
    "predictions = [algo.predict(user_id, item_id) for item_id in items_to_pred]\n",
    "\n",
    "# Then sort the predictions by their estimated ratings\n",
    "sorted_predictions = sorted(predictions, key=lambda x: x.est, reverse=True)\n",
    "\n",
    "# Get the top n items\n",
    "top_n = 10\n",
    "for pred in sorted_predictions[:top_n]:\n",
    "    movie_name = items[items['movie_id'] == pred.iid]['movie_title'].values[0]\n",
    "    print(f'{pred.iid} - {movie_name} - {pred.est}')\n",
    "\n",
    "# print(len(all_items), len(items_rated_by_user), len(items_to_pred))"
   ]
  },
  {
   "cell_type": "markdown",
   "metadata": {},
   "source": [
    "## Top N All Time Popular"
   ]
  },
  {
   "cell_type": "code",
   "execution_count": 19,
   "metadata": {},
   "outputs": [
    {
     "name": "stderr",
     "output_type": "stream",
     "text": [
      "/tmp/ipykernel_149189/1926317288.py:2: FutureWarning:\n",
      "\n",
      "The provided callable <function mean at 0x7f7da402f7e0> is currently using SeriesGroupBy.mean. In a future version of pandas, the provided callable will be used directly. To keep current behavior pass the string \"mean\" instead.\n",
      "\n"
     ]
    },
    {
     "data": {
      "text/html": [
       "<div>\n",
       "<style scoped>\n",
       "    .dataframe tbody tr th:only-of-type {\n",
       "        vertical-align: middle;\n",
       "    }\n",
       "\n",
       "    .dataframe tbody tr th {\n",
       "        vertical-align: top;\n",
       "    }\n",
       "\n",
       "    .dataframe thead tr th {\n",
       "        text-align: left;\n",
       "    }\n",
       "\n",
       "    .dataframe thead tr:last-of-type th {\n",
       "        text-align: right;\n",
       "    }\n",
       "</style>\n",
       "<table border=\"1\" class=\"dataframe\">\n",
       "  <thead>\n",
       "    <tr>\n",
       "      <th></th>\n",
       "      <th colspan=\"2\" halign=\"left\">rating</th>\n",
       "    </tr>\n",
       "    <tr>\n",
       "      <th></th>\n",
       "      <th>size</th>\n",
       "      <th>mean</th>\n",
       "    </tr>\n",
       "    <tr>\n",
       "      <th>movie_id</th>\n",
       "      <th></th>\n",
       "      <th></th>\n",
       "    </tr>\n",
       "  </thead>\n",
       "  <tbody>\n",
       "    <tr>\n",
       "      <th>318</th>\n",
       "      <td>298</td>\n",
       "      <td>4.466443</td>\n",
       "    </tr>\n",
       "    <tr>\n",
       "      <th>483</th>\n",
       "      <td>243</td>\n",
       "      <td>4.456790</td>\n",
       "    </tr>\n",
       "    <tr>\n",
       "      <th>64</th>\n",
       "      <td>283</td>\n",
       "      <td>4.445230</td>\n",
       "    </tr>\n",
       "    <tr>\n",
       "      <th>603</th>\n",
       "      <td>209</td>\n",
       "      <td>4.387560</td>\n",
       "    </tr>\n",
       "    <tr>\n",
       "      <th>12</th>\n",
       "      <td>267</td>\n",
       "      <td>4.385768</td>\n",
       "    </tr>\n",
       "    <tr>\n",
       "      <th>50</th>\n",
       "      <td>583</td>\n",
       "      <td>4.358491</td>\n",
       "    </tr>\n",
       "    <tr>\n",
       "      <th>427</th>\n",
       "      <td>219</td>\n",
       "      <td>4.292237</td>\n",
       "    </tr>\n",
       "    <tr>\n",
       "      <th>357</th>\n",
       "      <td>264</td>\n",
       "      <td>4.291667</td>\n",
       "    </tr>\n",
       "    <tr>\n",
       "      <th>98</th>\n",
       "      <td>390</td>\n",
       "      <td>4.289744</td>\n",
       "    </tr>\n",
       "    <tr>\n",
       "      <th>127</th>\n",
       "      <td>413</td>\n",
       "      <td>4.283293</td>\n",
       "    </tr>\n",
       "  </tbody>\n",
       "</table>\n",
       "</div>"
      ],
      "text/plain": [
       "         rating          \n",
       "           size      mean\n",
       "movie_id                 \n",
       "318         298  4.466443\n",
       "483         243  4.456790\n",
       "64          283  4.445230\n",
       "603         209  4.387560\n",
       "12          267  4.385768\n",
       "50          583  4.358491\n",
       "427         219  4.292237\n",
       "357         264  4.291667\n",
       "98          390  4.289744\n",
       "127         413  4.283293"
      ]
     },
     "execution_count": 19,
     "metadata": {},
     "output_type": "execute_result"
    }
   ],
   "source": [
    "# Show top 10 popular movies by mean of sum of ratings where the number of ratings is greater than 100\n",
    "movie_stats = ratings_df.groupby('movie_id').agg({'rating': [np.size, np.mean]})\n",
    "popular_movies = movie_stats['rating']['size'] >= 200\n",
    "movie_stats[popular_movies].sort_values([('rating', 'mean')], ascending=False).head(10)"
   ]
  },
  {
   "cell_type": "markdown",
   "metadata": {},
   "source": [
    "## Top N For All Users"
   ]
  },
  {
   "cell_type": "code",
   "execution_count": 20,
   "metadata": {},
   "outputs": [
    {
     "name": "stdout",
     "output_type": "stream",
     "text": [
      "500 [168, 182, 100, 285, 242, 179, 611, 135, 30, 116]\n",
      "534 [150, 237, 1, 273, 475, 274, 331, 149, 93, 24]\n",
      "805 [269, 175, 603, 190, 86, 527, 425, 223, 185, 432]\n",
      "749 [174, 96, 483, 98, 100, 378, 568, 153, 79, 511]\n",
      "13 [64, 511, 199, 69, 435, 705, 182, 97, 193, 154]\n",
      "429 [483, 357, 480, 12, 124, 178, 166, 89, 482, 45]\n",
      "618 [64, 174, 318, 172, 190, 12, 127, 132, 23, 181]\n",
      "24 [318, 127, 357, 100, 223, 153, 475, 275, 276, 55]\n",
      "498 [474, 179, 9, 56, 100, 124, 190, 191, 137, 475]\n",
      "541 [50, 511, 196, 79, 151, 143, 83, 654, 8, 82]\n",
      "201 [134, 192, 98, 100, 179, 480, 190, 513, 511, 137]\n",
      "244 [135, 86, 357, 169, 183, 180, 528, 64, 1039, 168]\n",
      "405 [194, 169, 202, 181, 30, 97, 22, 216, 641, 132]\n",
      "277 [302, 9, 124, 257, 282, 1129, 274, 181, 117, 762]\n",
      "804 [174, 1, 651, 483, 479, 654, 181, 176, 143, 187]\n",
      "380 [357, 114, 134, 479, 427, 12, 64, 654, 709, 190]\n",
      "889 [64, 408, 172, 657, 480, 479, 194, 178, 357, 190]\n",
      "916 [23, 60, 318, 168, 180, 64, 56, 523, 48, 223]\n",
      "935 [121, 282, 181, 300, 284, 1048]\n",
      "141 [300, 121, 1, 117, 282, 50, 1142, 294, 127, 597]\n",
      "334 [12, 135, 318, 488, 603, 151, 512, 479, 525, 246]\n",
      "11 [194, 12, 22, 286, 652, 428, 746, 204, 11, 699]\n",
      "605 [127, 357, 408, 223, 124, 523, 475, 293, 111, 496]\n",
      "223 [313, 117, 318, 28, 95, 173, 470, 749, 405, 125]\n",
      "388 [313, 121, 315, 302, 237, 690, 323, 184, 895, 307]\n",
      "474 [64, 427, 205, 170, 520, 648, 9, 191, 316, 194]\n",
      "648 [195, 22, 69, 96, 568, 82, 79, 199, 318, 194]\n",
      "444 [313, 251, 258, 9, 1483, 748, 678]\n",
      "655 [285, 480, 98, 191, 192, 276, 272, 190, 529, 165]\n",
      "251 [172, 480, 265, 257, 1012, 742, 295, 125, 471, 24]\n",
      "92 [318, 22, 50, 651, 223, 199, 56, 144, 963, 198]\n",
      "839 [100, 50, 292, 129, 713, 532, 1664, 255, 1009, 696]\n",
      "650 [173, 22, 199, 530, 474, 498, 484, 511, 168, 7]\n",
      "268 [114, 483, 12, 151, 433, 474, 134, 98, 135, 174]\n",
      "659 [50, 603, 134, 185, 86, 197, 127, 216, 23, 423]\n",
      "210 [483, 134, 174, 357, 527, 79, 182, 56, 210, 205]\n",
      "642 [121, 66, 88, 399, 95, 148, 83, 720, 15, 96]\n",
      "543 [169, 480, 479, 515, 191, 98, 509, 516, 531, 313]\n",
      "215 [64, 134, 194, 211, 132, 480, 144, 8, 23, 196]\n",
      "533 [174, 22, 496, 603, 97, 71, 96, 378, 282, 172]\n",
      "566 [134, 64, 191, 480, 511, 12, 512, 192, 156, 182]\n",
      "113 [258, 222, 742, 245, 328, 1252, 294, 326, 324, 286]\n",
      "840 [127, 603, 285, 134, 480, 190, 653, 137, 272, 173]\n",
      "266 [100, 124, 286, 874, 508, 924, 289]\n",
      "227 [127, 116, 293, 150, 286, 273, 288, 15, 250, 411]\n",
      "630 [64, 272, 496, 845, 50, 298, 250, 866, 409, 357]\n",
      "321 [483, 64, 50, 515, 654, 519, 513, 604, 480, 493]\n",
      "503 [124, 963, 427, 484, 98, 498, 269, 475, 654, 224]\n",
      "763 [483, 100, 83, 607, 498, 198, 275, 1101, 174, 151]\n",
      "393 [117, 169, 12, 50, 318, 483, 181, 196, 87, 11]\n",
      "343 [23, 191, 199, 963, 523, 179, 12, 527, 654, 134]\n",
      "694 [318, 511, 357, 191, 195, 183, 484, 187, 480, 606]\n",
      "213 [603, 515, 48, 479, 144, 11, 735, 70, 609, 257]\n",
      "620 [313, 419, 8, 164, 82, 1, 181, 28, 237, 418]\n",
      "526 [475, 127, 919, 293, 750, 258, 690, 7, 742, 250]\n",
      "924 [408, 64, 313, 12, 178, 923, 181, 496, 258, 482]\n",
      "52 [657, 475, 151, 277, 117, 471, 15, 287, 1011, 121]\n",
      "294 [902, 258, 79, 286, 475, 117, 24, 340, 121, 1011]\n",
      "933 [12, 474, 174, 172, 9, 238, 135, 179, 515, 216]\n",
      "399 [168, 64, 1137, 96, 223, 12, 746, 588, 462, 655]\n",
      "778 [168, 8, 174, 117, 262, 234, 42, 367, 216, 69]\n",
      "940 [272, 173, 50, 12, 316, 651, 176, 315, 168, 205]\n",
      "407 [408, 151, 144, 474, 478, 134, 96, 208, 183, 496]\n",
      "456 [483, 603, 86, 168, 480, 180, 475, 12, 14, 61]\n",
      "542 [132, 187, 192, 100, 168, 48, 655, 475, 238, 246]\n",
      "4 [50, 11, 359, 258, 324, 301]\n",
      "401 [272, 199, 430, 478, 604, 651, 315, 519, 174, 97]\n",
      "554 [50, 527, 181, 87, 216, 82, 282, 202, 71, 228]\n",
      "56 [79, 172, 181, 195, 735, 196, 89, 153, 202, 435]\n",
      "206 [313, 1062, 896, 1431, 269, 900, 691, 1022, 895, 1394]\n",
      "301 [173, 22, 174, 172, 64, 318, 205, 515, 483, 96]\n",
      "795 [169, 182, 209, 238, 132, 425, 79, 150, 382, 436]\n",
      "881 [50, 172, 195, 483, 79, 191, 176, 527, 97, 204]\n",
      "236 [275, 1039, 478, 57, 520, 429, 187, 15, 265, 203]\n",
      "373 [22, 143, 174, 144, 210, 125, 421, 496, 196, 12]\n",
      "766 [98, 89, 659, 50, 510, 493, 648, 272, 192, 180]\n",
      "312 [498, 134, 478, 165, 485, 606, 515, 178, 510, 659]\n",
      "43 [313, 408, 50, 79, 114, 479, 315, 186, 1, 71]\n",
      "738 [174, 64, 408, 313, 181, 96, 22, 178, 211, 193]\n",
      "383 [134, 285, 197, 427, 223, 513, 316, 14, 193, 272]\n",
      "224 [258, 686, 380, 125, 468, 402, 1119, 157, 662, 326]\n",
      "567 [190, 513, 156, 178, 297, 647, 306, 641, 1131, 32]\n",
      "833 [483, 522, 198, 7, 302, 98, 32, 523, 430, 262]\n",
      "453 [174, 98, 246, 79, 144, 59, 188, 276, 509, 55]\n",
      "934 [50, 100, 174, 657, 199, 313, 197, 661, 902, 156]\n",
      "686 [603, 12, 178, 197, 22, 425, 176, 317, 518, 234]\n",
      "378 [191, 22, 56, 285, 479, 528, 172, 223, 183, 182]\n",
      "919 [98, 223, 191, 22, 276, 221, 750, 531, 275, 297]\n",
      "557 [127, 246, 58, 300, 253, 1176, 739, 268, 327, 289]\n",
      "868 [50, 238, 56, 132, 211, 59, 180, 1240, 317, 207]\n",
      "447 [50, 483, 223, 22, 135, 1, 258, 176, 56, 435]\n",
      "61 [269, 331, 751, 342, 678, 243]\n",
      "385 [320, 654, 480, 488, 127, 1449, 528, 198, 98, 93]\n",
      "936 [100, 246, 276, 475, 340, 93, 813, 248, 1086, 129]\n",
      "601 [12, 318, 98, 64, 475, 178, 179, 172, 50, 185]\n",
      "682 [172, 191, 48, 527, 79, 223, 1039, 735, 657, 168]\n",
      "782 [272, 1007, 515, 936, 251, 332, 900, 50, 326, 246]\n",
      "487 [22, 98, 194, 966, 11, 161, 237, 210, 178, 79]\n",
      "592 [64, 192, 151, 178, 182, 197, 268, 183, 23, 357]\n",
      "416 [98, 12, 313, 216, 237, 97, 28, 191, 272, 199]\n",
      "721 [222, 172, 735, 196, 204, 228, 660, 197, 161, 303]\n",
      "785 [174, 269]\n",
      "770 [14, 275, 298, 258, 93, 303, 15, 25, 7, 117]\n",
      "903 [127, 12, 56, 100, 183, 272, 276, 48, 529, 61]\n",
      "96 [183, 173, 176, 483, 64, 89, 144, 83, 100, 196]\n",
      "853 [301, 332, 307, 328, 288, 327, 299, 264, 877, 1025]\n",
      "397 [199, 192, 480, 56, 641, 135, 268, 194, 14, 657]\n",
      "274 [208, 71, 164, 25, 274, 255, 744, 924, 405, 294]\n",
      "291 [50, 12, 168, 8, 181, 223, 96, 154, 188, 97]\n",
      "278 [315, 258, 173, 22, 306, 301, 288, 538, 294]\n",
      "501 [298, 7, 257, 129, 293, 288, 741, 1010, 544, 405]\n",
      "717 [286, 50, 285, 313, 887, 150, 293, 246, 288, 25]\n",
      "548 [79, 258, 117, 282, 327, 310, 515, 226, 203, 1073]\n",
      "619 [79, 750, 187, 11, 55, 307, 328, 332, 405, 331]\n",
      "400 [269, 306, 300, 286, 304, 690, 321, 323]\n",
      "194 [357, 191, 483, 100, 511, 657, 98, 132, 178, 474]\n",
      "629 [98, 172, 191, 87, 197, 132, 202, 684, 317, 566]\n",
      "271 [50, 357, 127, 651, 12, 474, 493, 285, 318, 190]\n",
      "727 [169, 172, 191, 144, 178, 195, 520, 69, 28, 511]\n",
      "76 [192, 64, 1019, 514, 286, 517, 200, 531, 293, 70]\n",
      "270 [603, 242, 475, 83, 200, 213, 265, 283, 671, 253]\n",
      "796 [313, 64, 282, 79, 117, 385, 742, 196, 402, 98]\n",
      "815 [134, 195, 258, 96, 705, 89, 443, 423, 613, 494]\n",
      "365 [268, 1, 591, 25, 1017, 742, 15, 222, 271, 309]\n",
      "80 [303, 86, 45, 423, 205, 213, 582, 886, 260]\n",
      "653 [181, 83, 526, 195, 196, 87, 746, 144, 228, 1101]\n",
      "643 [12, 168, 114, 89, 100, 183, 519, 179, 132, 197]\n",
      "42 [496, 265, 181, 196, 588, 66, 136, 73, 746, 274]\n",
      "125 [64, 318, 172, 204, 28, 275, 82, 216, 190, 150]\n",
      "450 [64, 483, 12, 127, 427, 498, 316, 173, 265, 313]\n",
      "666 [100, 474, 180, 134, 657, 511, 647, 357, 187, 513]\n",
      "892 [134, 511, 127, 89, 194, 484, 96, 430, 100, 181]\n",
      "913 [169, 474, 483, 127, 302, 168, 191, 475, 79, 183]\n",
      "617 [98, 480, 647, 475, 100, 519, 488, 56, 1019, 606]\n",
      "707 [134, 603, 923, 479, 285, 1101, 302, 498, 641, 694]\n",
      "276 [173, 56, 127, 174, 64, 187, 154, 96, 508, 182]\n",
      "293 [100, 98, 474, 12, 180, 513, 23, 179, 193, 315]\n",
      "735 [127, 813, 293, 475, 93, 1012, 126, 300, 147, 690]\n",
      "807 [313, 318, 265, 408, 705, 96, 1084, 1039, 181, 95]\n",
      "255 [185, 7, 443, 200, 447, 258, 218, 444, 219, 147]\n",
      "168 [100, 300, 685, 117, 619, 1016, 281, 295, 866, 284]\n",
      "496 [483, 168, 191, 151, 607, 135, 484, 651, 172, 132]\n",
      "894 [529, 190, 50, 923, 1131, 165, 9, 124, 223, 12]\n",
      "102 [272, 300, 96, 172, 168, 183, 222, 510, 530, 117]\n",
      "295 [483, 513, 191, 168, 11, 98, 966, 511, 86, 60]\n",
      "246 [151, 98, 173, 196, 100, 181, 211, 228, 853, 81]\n",
      "200 [50, 318, 69, 79, 28, 71, 210, 528, 45, 462]\n",
      "85 [134, 316, 199, 528, 482, 132, 8, 124, 606, 179]\n",
      "661 [50, 64, 272, 258, 132, 166, 96, 183, 603, 168]\n",
      "12 [318, 170, 216, 168, 28, 196, 133, 97, 96, 471]\n",
      "160 [483, 185, 100, 169, 50, 514, 59, 9, 213, 604]\n",
      "16 [318, 427, 98, 191, 357, 482, 423, 479, 135, 202]\n",
      "878 [318, 98, 512, 511, 127, 170, 482, 509, 474, 45]\n",
      "222 [64, 313, 181, 258, 318, 191, 121, 357, 173, 202]\n",
      "693 [127, 134, 178, 651, 520, 606, 528, 132, 197, 499]\n",
      "757 [64, 174, 195, 198, 11, 1240, 193, 433, 69, 117]\n",
      "917 [50, 100, 150, 276, 751, 25, 740, 237, 628, 696]\n",
      "63 [100, 302, 269, 480, 1137, 10, 813, 306, 262, 283]\n",
      "116 [56, 310, 203, 315, 604, 484, 750, 221, 47, 185]\n",
      "253 [64, 483, 496, 87, 1039, 95, 487, 182, 188, 222]\n",
      "259 [180, 173, 313, 181, 210, 293, 288, 117, 97, 147]\n",
      "178 [50, 69, 12, 181, 210, 173, 520, 183, 195, 187]\n",
      "292 [408, 169, 50, 64, 483, 603, 511, 180, 285, 56]\n",
      "177 [302, 187, 475, 654, 200, 42, 89, 153, 174, 651]\n",
      "479 [100, 511, 173, 475, 318, 22, 177, 228, 234, 510]\n",
      "342 [56, 100, 12, 357, 14, 135, 238, 251, 174, 124]\n",
      "349 [100, 10, 25, 20, 471, 1117, 596, 291, 125, 1028]\n",
      "593 [50, 318, 79, 69, 223, 478, 97, 692, 286, 193]\n",
      "326 [173, 172, 484, 98, 654, 655, 496, 651, 429, 526]\n",
      "722 [286, 237, 117, 458, 121, 696, 322, 871, 130]\n",
      "75 [408, 190, 79, 496, 129, 237, 508, 1, 137, 25]\n",
      "750 [269, 303, 305, 245, 294, 873, 881, 325, 688]\n",
      "588 [50, 483, 313, 318, 216, 186, 588, 144, 316, 132]\n",
      "130 [496, 313, 173, 172, 210, 196, 427, 315, 204, 89]\n",
      "776 [134, 427, 483, 661, 177, 523, 238, 1172, 509, 559]\n",
      "330 [318, 210, 174, 64, 22, 651, 208, 423, 699, 95]\n",
      "545 [22, 194, 174, 196, 222, 520, 265, 742, 710, 588]\n",
      "559 [514, 56, 515, 194, 315, 524, 257, 199, 265, 182]\n",
      "254 [174, 313, 181, 496, 429, 498, 258, 196, 82, 655]\n",
      "556 [318, 12, 604, 1065, 327, 340, 319, 321, 294, 323]\n",
      "490 [100, 515, 919, 9, 1, 222, 455, 547, 952, 741]\n",
      "704 [318, 98, 272, 178, 661, 657, 429, 134, 523, 607]\n",
      "772 [302, 307, 331, 322, 294, 245]\n",
      "302 [879, 322, 289, 266, 245, 680]\n",
      "376 [603, 14, 198, 707, 246, 663, 181, 301]\n",
      "417 [64, 83, 651, 181, 144, 100, 117, 11, 216, 286]\n",
      "549 [50, 282, 1, 118, 866, 288]\n",
      "249 [483, 23, 9, 12, 479, 223, 98, 302, 156, 179]\n",
      "921 [313, 96, 194, 282, 181, 87, 97, 136, 132, 66]\n",
      "58 [603, 9, 1019, 654, 64, 189, 124, 127, 135, 1103]\n",
      "128 [64, 174, 1039, 191, 482, 83, 48, 143, 168, 69]\n",
      "83 [174, 181, 423, 692, 210, 97, 82, 95, 191, 1101]\n",
      "561 [56, 185, 199, 14, 488, 511, 661, 479, 42, 209]\n",
      "806 [318, 357, 923, 172, 56, 484, 174, 100, 475, 176]\n",
      "537 [127, 483, 180, 513, 98, 14, 183, 657, 484, 137]\n",
      "603 [22, 923, 172, 216, 419, 288, 273, 62, 1483, 294]\n",
      "793 [127, 222, 121, 1, 298, 742, 248, 273, 1067, 1187]\n",
      "452 [513, 496, 134, 641, 430, 60, 515, 52, 526, 187]\n",
      "715 [172, 173, 216, 196, 237, 193, 150, 56, 97, 89]\n",
      "22 [173, 511, 211, 651, 168, 194, 222, 144, 154, 210]\n",
      "327 [23, 127, 603, 86, 175, 709, 318, 154, 340, 517]\n",
      "577 [313, 22, 69, 96, 588, 132, 216, 660, 95, 496]\n",
      "290 [318, 64, 98, 136, 484, 22, 97, 71, 172, 132]\n",
      "45 [50, 257, 121, 993, 276, 596, 288, 762, 952, 13]\n",
      "495 [172, 511, 479, 89, 228, 195, 478, 705, 185, 196]\n",
      "871 [511, 302, 187, 22, 510, 237, 526, 197, 242, 11]\n",
      "428 [242, 538, 751, 301, 329, 1024, 307, 294, 288, 690]\n",
      "584 [50, 181, 313, 258, 82, 161, 229, 227, 109, 449]\n",
      "423 [293, 750, 887, 340, 237, 628, 300, 751, 348, 329]\n",
      "788 [64, 22, 480, 427, 185, 89, 736, 132, 96, 657]\n",
      "695 [270, 300, 895, 323, 343, 995, 338, 264, 358]\n",
      "104 [285, 124, 9, 293, 269, 286, 283, 508, 276, 15]\n",
      "574 [1022, 346, 300, 262, 331, 344, 327, 268, 358]\n",
      "786 [98, 69, 275, 216, 496, 204, 126, 211, 88, 188]\n",
      "181 [222, 126, 288, 740, 718, 275, 1198, 597, 251, 221]\n",
      "774 [12, 654, 357, 168, 189, 515, 199, 100, 177, 135]\n",
      "551 [98, 79, 265, 183, 651, 187, 125, 315, 9, 658]\n",
      "65 [64, 1142, 178, 216, 735, 1, 48, 210, 435, 185]\n",
      "870 [603, 23, 180, 134, 178, 641, 651, 197, 11, 528]\n",
      "660 [483, 313, 22, 657, 357, 474, 79, 196, 603, 496]\n",
      "943 [79, 12, 50, 98, 22, 11, 127, 205, 216, 443]\n",
      "409 [318, 134, 427, 484, 61, 191, 480, 197, 286, 87]\n",
      "532 [483, 515, 98, 12, 96, 316, 79, 210, 195, 480]\n",
      "866 [272, 302, 306, 896, 303, 319]\n",
      "308 [709, 480, 357, 50, 515, 172, 657, 45, 198, 64]\n",
      "644 [300, 298, 121, 333, 100, 294, 289, 308, 546, 261]\n",
      "854 [127, 100, 483, 302, 98, 168, 9, 185, 512, 606]\n",
      "624 [50, 242, 100, 275, 258, 919, 137, 257, 508, 237]\n",
      "169 [172, 525, 213, 181, 321]\n",
      "747 [285, 127, 357, 603, 483, 56, 178, 185, 135, 480]\n",
      "467 [100, 269, 258, 1, 340, 298, 248, 273, 1226, 327]\n",
      "468 [498, 56, 135, 423, 251, 96, 180, 182, 258, 428]\n",
      "835 [318, 50, 606, 194, 486, 484, 633, 357, 191, 272]\n",
      "325 [408, 134, 475, 483, 98, 511, 269, 50, 656, 132]\n",
      "814 [184, 288, 17, 559, 635, 665, 565, 413]\n",
      "142 [408, 189, 186, 268, 425, 82, 333, 147, 362, 259]\n",
      "696 [427, 286, 302, 315, 305, 1176, 327, 899, 312, 245]\n",
      "336 [50, 100, 276, 151, 202, 204, 15, 1098, 475, 111]\n",
      "711 [408, 318, 132, 170, 168, 923, 48, 116, 173, 83]\n",
      "138 [285, 474, 603, 357, 100, 56, 187, 98, 133, 517]\n",
      "716 [357, 98, 69, 493, 427, 191, 705, 83, 178, 648]\n",
      "314 [742, 237, 216, 12, 144, 95, 215, 378, 794, 143]\n",
      "899 [64, 174, 603, 527, 435, 95, 515, 1, 568, 474]\n",
      "70 [50, 408, 174, 211, 96, 228, 423, 210, 507, 128]\n",
      "928 [1007, 127, 98]\n",
      "264 [12, 320, 606, 56, 654, 659, 156, 504, 19, 525]\n",
      "151 [178, 408, 50, 9, 1039, 484, 478, 469, 488, 194]\n",
      "23 [479, 530, 427, 89, 512, 213, 224, 116, 526, 211]\n",
      "792 [282, 129, 471, 125, 762, 118, 1015, 1164, 595, 21]\n",
      "90 [178, 483, 515, 603, 481, 654, 357, 527, 60, 923]\n",
      "847 [172, 257, 98, 176, 705, 93, 82, 66, 161, 211]\n",
      "410 [272, 303, 340, 354, 347, 689, 352]\n",
      "145 [172, 313, 174, 69, 203, 185, 100, 56, 11, 202]\n",
      "938 [100, 276, 298, 685, 111, 293, 273, 151, 477, 596]\n",
      "504 [318, 98, 479, 205, 204, 258, 490, 392, 176, 443]\n",
      "442 [313, 176, 182, 195, 172, 168, 482, 209, 144, 433]\n",
      "6 [483, 136, 127, 474, 238, 479, 134, 59, 488, 209]\n",
      "354 [479, 135, 529, 100, 171, 462, 507, 199, 558, 93]\n",
      "751 [172, 174, 144, 1007, 173, 419, 196, 215, 484, 735]\n",
      "869 [515, 50, 100, 276, 269, 253, 181, 15, 249, 282]\n",
      "186 [71, 98, 568, 333, 147, 332, 31, 55, 591, 770]\n",
      "583 [663, 195, 83, 602, 708]\n",
      "669 [114, 183, 64, 479, 902, 654, 205, 482, 194, 505]\n",
      "49 [209, 657, 168, 116, 531, 432, 52, 13, 334, 713]\n",
      "539 [170, 285, 185, 197, 204, 956, 19, 202, 163, 56]\n",
      "638 [50, 194, 186, 187, 222, 523, 161, 228, 234, 121]\n",
      "87 [64, 97, 172, 199, 515, 79, 208, 496, 161, 423]\n",
      "353 [315, 313, 286, 750, 333, 343]\n",
      "472 [318, 265, 742, 143, 22, 186, 64, 228, 550, 603]\n",
      "390 [124, 302, 277, 283, 742, 319, 331, 13]\n",
      "338 [474, 175, 135, 168, 478, 189, 523, 604, 213, 582]\n",
      "122 [175, 11, 127, 57, 135, 382, 553, 46, 212, 1113]\n",
      "665 [483, 265, 12, 188, 133, 126, 9, 194, 79, 588]\n",
      "303 [98, 480, 56, 603, 144, 246, 173, 1007, 268, 234]\n",
      "709 [50, 64, 22, 28, 195, 183, 234, 173, 226, 200]\n",
      "676 [64, 483, 174, 181, 144, 193, 480, 482, 1, 750]\n",
      "5 [50, 173, 428, 185, 429, 135, 443, 42, 228, 24]\n",
      "297 [50, 479, 302, 223, 124, 527, 200, 11, 736, 705]\n",
      "867 [98, 657, 276, 23, 1039, 183, 197, 22, 529, 496]\n",
      "879 [282, 181, 304, 222, 111, 597, 118, 1047]\n",
      "77 [127, 23, 519, 484, 174, 527, 238, 183, 192, 276]\n",
      "387 [408, 183, 100, 173, 135, 23, 526, 169, 116, 205]\n",
      "184 [657, 100, 197, 515, 604, 647, 185, 488, 528, 498]\n",
      "430 [318, 9, 127, 12, 515, 1007, 276, 50, 168, 297]\n",
      "932 [168, 285, 474, 479, 136, 199, 185, 529, 654, 481]\n",
      "311 [69, 318, 385, 265, 651, 143, 204, 483, 195, 199]\n",
      "363 [50, 169, 302, 127, 313, 9, 657, 224, 1019, 505]\n",
      "31 [302, 498, 611, 493, 175, 268, 32, 682, 299, 875]\n",
      "886 [127, 12, 64, 178, 172, 512, 132, 48, 435, 168]\n",
      "485 [242, 269, 288, 326, 752, 330, 748]\n",
      "454 [210, 174, 423, 28, 96, 82, 87, 97, 196, 121]\n",
      "632 [50, 64, 483, 79, 143, 181, 258, 144, 480, 204]\n",
      "826 [22, 210, 684, 228, 71, 568, 161, 227, 233, 403]\n",
      "585 [919, 14, 30, 1449, 45, 638, 166, 116, 1121, 1344]\n",
      "360 [23, 963, 14, 1142, 187, 511, 124, 134, 205, 238]\n",
      "689 [50, 258, 471, 150, 763, 410, 109, 717]\n",
      "764 [173, 174, 496, 28, 117, 143, 125, 31, 591, 939]\n",
      "790 [191, 216, 265, 427, 79, 210, 56, 213, 186, 268]\n",
      "896 [12, 127, 181, 79, 427, 527, 87, 651, 435, 479]\n",
      "119 [50, 12, 272, 83, 144, 11, 132, 276, 1101, 210]\n",
      "425 [100, 185, 318, 293, 181, 228, 184, 201, 11, 234]\n",
      "279 [222, 25, 1007, 709, 558, 250, 181, 114, 50, 184]\n",
      "923 [100, 168, 293, 117, 1, 282, 742, 248, 741, 685]\n",
      "148 [190, 191, 50, 1039, 521, 116, 222, 228, 163, 135]\n",
      "912 [318, 479, 427, 659, 173, 174, 246, 423, 482, 419]\n",
      "233 [318, 57, 647, 498, 197, 48, 523, 660, 193, 482]\n",
      "415 [483, 480, 195, 258, 328, 748, 323]\n",
      "596 [50, 258, 300, 328, 295]\n",
      "72 [191, 198, 174, 172, 97, 234, 515, 655, 79, 1]\n",
      "10 [483, 12, 64, 474, 513, 98, 191, 285, 60, 462]\n",
      "571 [191, 174, 194, 496, 69, 47]\n",
      "515 [315, 258, 302, 300, 329, 286, 271, 748, 682]\n",
      "106 [12, 165, 86, 923, 8, 1, 9, 48, 211, 69]\n",
      "712 [692, 79, 385, 66, 83, 95, 402, 746, 568, 1119]\n",
      "234 [50, 641, 485, 511, 479, 480, 709, 357, 654, 427]\n",
      "94 [151, 474, 127, 23, 180, 45, 657, 192, 177, 223]\n",
      "7 [56, 174, 511, 474, 603, 223, 98, 69, 523, 192]\n",
      "451 [300, 307, 306, 323, 268, 884, 242, 984, 292, 690]\n",
      "109 [181, 318, 96, 174, 385, 210, 12, 79, 117, 191]\n",
      "435 [318, 169, 89, 191, 50, 22, 151, 199, 265, 200]\n",
      "286 [173, 216, 127, 746, 856, 778, 419, 70, 91, 209]\n",
      "553 [603, 170, 134, 515, 479, 205, 484, 197, 136, 478]\n",
      "346 [318, 144, 496, 83, 132, 1039, 187, 423, 196, 89]\n",
      "907 [313, 496, 483, 318, 121, 520, 50, 143, 333, 686]\n",
      "105 [270, 286, 333, 880, 324, 748]\n",
      "174 [648, 196, 286, 126, 111, 151, 293, 65, 215, 66]\n",
      "690 [12, 174, 705, 223, 204, 237, 794, 88, 742, 202]\n",
      "499 [318, 313, 427, 12, 251, 661, 474, 484, 275, 750]\n",
      "48 [483, 480, 195, 654, 191, 28, 496, 98, 210, 228]\n",
      "288 [357, 515, 100, 173, 50, 134, 511, 178, 22, 520]\n",
      "328 [22, 318, 187, 180, 651, 98, 194, 211, 435, 185]\n",
      "374 [174, 97, 385, 98, 237, 310, 241, 1, 742, 196]\n",
      "167 [478, 512, 48, 659, 530, 381, 241, 1126, 1308, 733]\n",
      "621 [173, 79, 197, 71, 423, 418, 121, 154, 257, 55]\n",
      "484 [318, 172, 265, 195, 204, 176, 427, 168, 28, 197]\n",
      "560 [12, 302, 515, 100, 22, 478, 275, 183, 58, 268]\n",
      "348 [117, 685, 123, 819, 473, 827, 406]\n",
      "306 [285, 13, 111, 741, 319]\n",
      "883 [185, 168, 12, 515, 211, 1131, 64, 251, 306, 514]\n",
      "211 [705, 275, 443, 181, 462, 215, 9, 257, 117, 1330]\n",
      "232 [302, 127, 493, 209, 514, 462, 56, 435, 286, 655]\n",
      "73 [357, 64, 318, 180, 475, 7, 175, 269, 514, 153]\n",
      "307 [408, 169, 172, 474, 505, 181, 209, 193, 463, 153]\n",
      "305 [480, 654, 198, 963, 156, 127, 479, 478, 428, 165]\n",
      "662 [100, 268, 276, 1652, 291, 13, 319]\n",
      "66 [1, 127, 471, 121, 117, 475, 15, 508, 248, 763]\n",
      "615 [199, 427, 179, 87, 428, 736, 22, 28, 69, 632]\n",
      "287 [64, 50, 208, 276, 652, 156, 298, 117, 591, 218]\n",
      "576 [15, 257, 276, 124, 319, 763, 815, 825, 323]\n",
      "103 [527, 126, 181, 300, 222, 471]\n",
      "758 [483, 529, 902, 192, 98, 135, 199, 654, 56, 517]\n",
      "389 [483, 134, 661, 191, 124, 923, 347, 208, 211, 484]\n",
      "595 [50, 246, 258, 181, 129, 475, 237, 298, 273, 1010]\n",
      "527 [318, 64, 100, 657, 176, 124, 963, 661, 475, 9]\n",
      "110 [313, 88, 732, 692, 566, 258, 403, 333, 31, 366]\n",
      "313 [496, 603, 474, 197, 651, 511, 134, 182, 515, 100]\n",
      "315 [603, 56, 127, 513, 12, 709, 523, 223, 185, 504]\n",
      "26 [50, 302, 315, 126, 1, 25, 9, 936, 116, 151]\n",
      "794 [100, 515, 285, 187, 514, 150, 936, 224, 221, 181]\n",
      "773 [179, 169, 56, 60, 187, 183, 238, 209, 1021, 175]\n",
      "827 [272, 269, 750, 329, 268, 312, 938]\n",
      "320 [22, 79, 195, 257, 176, 431, 97, 588, 204, 51]\n",
      "40 [316, 302, 258, 270, 300, 268, 340, 754, 880, 1038]\n",
      "296 [50, 22, 313, 286, 199, 89, 1007, 211, 923, 750]\n",
      "590 [19, 126, 6, 150, 287, 13, 591, 744, 676, 274]\n",
      "818 [313, 286, 690, 328, 751, 1105, 312, 271]\n",
      "864 [191, 511, 98, 202, 223, 28, 496, 710, 282, 526]\n",
      "942 [50, 174, 480, 265, 661, 528, 607, 234, 124, 300]\n",
      "880 [127, 56, 69, 182, 98, 144, 302, 188, 177, 435]\n",
      "345 [64, 12, 100, 174, 151, 655, 126, 433, 269, 481]\n",
      "460 [285, 151, 302, 127, 1251, 1137, 847, 1, 257, 221]\n",
      "645 [483, 513, 654, 180, 89, 197, 98, 185, 183, 211]\n",
      "298 [651, 50, 498, 205, 474, 427, 187, 197, 183, 482]\n",
      "344 [12, 285, 172, 183, 98, 316, 251, 462, 137, 297]\n",
      "124 [50, 117, 195, 616]\n",
      "441 [282, 538, 7, 25, 259]\n",
      "269 [127, 56, 100, 488, 483, 23, 175, 346, 238, 661]\n",
      "156 [178, 480, 180, 515, 187, 48, 646, 100, 9, 192]\n",
      "657 [286, 340, 744, 151, 346, 111, 7, 475, 273, 628]\n",
      "679 [64, 318, 173, 531, 83, 419, 97, 69, 184, 727]\n",
      "586 [22, 735, 385, 172, 50, 427, 241, 651, 174, 187]\n",
      "890 [603, 23, 135, 515, 663, 520, 190, 530, 654, 1039]\n",
      "505 [190, 71, 133, 66, 144, 328, 195, 471, 419, 566]\n",
      "126 [313, 302, 258, 350, 319, 322, 245, 353]\n",
      "697 [127, 50, 242, 713, 181, 126, 305, 250, 1022, 295]\n",
      "189 [134, 50, 180, 661, 185, 8, 705, 694, 173, 60]\n",
      "509 [50, 603, 300, 754, 294, 343, 319, 266, 260, 338]\n",
      "38 [742, 22, 720, 328, 405, 140, 318, 161, 226, 118]\n",
      "420 [302, 100, 86, 750, 116, 137, 286, 301, 547, 319]\n",
      "280 [316, 70, 9, 315, 486, 126, 127, 925, 100, 203]\n",
      "207 [79, 483, 527, 258, 735, 265, 45, 100, 269, 195]\n",
      "911 [134, 709, 603, 483, 427, 474, 174, 87, 647, 482]\n",
      "898 [302, 313, 288, 312, 328, 324]\n",
      "626 [328, 266, 682, 948]\n",
      "552 [50, 257, 258, 300, 1277, 471, 125, 249, 111, 294]\n",
      "564 [272, 258, 292, 127, 685, 344, 1399, 118, 323, 289]\n",
      "395 [98, 315, 172, 215, 216, 196, 257, 1, 750, 739]\n",
      "639 [168, 60, 199, 83, 647, 694, 462, 519, 165, 661]\n",
      "191 [316, 272, 750, 86, 896, 900, 754, 340]\n",
      "396 [1, 222, 405, 546, 151, 619, 9, 106, 1215]\n",
      "258 [300, 311, 294, 286, 288, 873]\n",
      "457 [50, 22, 172, 318, 183, 168, 83, 134, 89, 238]\n",
      "858 [515, 307, 289, 678, 323]\n",
      "683 [187, 132, 315, 306, 303, 311, 258, 327, 62, 300]\n",
      "221 [272, 178, 59, 151, 48, 172, 173, 4, 469, 588]\n",
      "506 [204, 496, 12, 193, 187, 202, 135, 234, 196, 186]\n",
      "519 [328, 1238, 1295, 299, 1280, 324, 908]\n",
      "910 [56, 313, 100, 127, 508, 222, 300, 252, 748]\n",
      "424 [25, 9, 990, 689, 276, 989, 259, 688]\n",
      "536 [22, 83, 69, 79, 28, 191, 480, 707, 1, 95]\n",
      "724 [1062, 300, 242, 311, 288, 1176, 344, 307, 331, 1105]\n",
      "646 [313, 258, 294, 880, 1176, 1022, 332, 346, 748, 349]\n",
      "379 [127, 474, 603, 185, 191, 511, 527, 124, 251, 9]\n",
      "161 [132, 14, 523, 582, 168, 70, 428, 257, 276, 15]\n",
      "89 [83, 275, 936, 1, 150, 517, 221, 197, 236, 202]\n",
      "830 [22, 427, 127, 511, 89, 193, 210, 484, 613, 204]\n",
      "803 [242, 306, 311, 300]\n",
      "339 [474, 357, 483, 657, 427, 12, 56, 185, 511, 498]\n",
      "637 [408, 515, 246, 293, 125, 301, 833, 742, 1226, 117]\n",
      "851 [127, 483, 480, 132, 192, 302, 193, 204, 238, 262]\n",
      "524 [479, 657, 513, 180, 187, 603, 178, 604, 127, 191]\n",
      "144 [50, 318, 22, 191, 172, 194, 480, 963, 1039, 709]\n",
      "508 [357, 200, 174, 211, 208, 209, 52, 176, 735, 423]\n",
      "718 [742, 282, 257, 591, 121, 405, 546, 1028, 815, 820]\n",
      "440 [515, 171, 283, 512, 70, 971, 1073, 582, 324, 886]\n",
      "606 [172, 963, 423, 69, 197, 98, 97, 15, 87, 655]\n",
      "64 [50, 603, 12, 651, 100, 185, 8, 197, 429, 144]\n",
      "426 [50, 654, 428, 136, 174, 168, 196, 648, 133, 211]\n",
      "761 [50, 181, 1, 471, 15, 7, 275, 288, 201, 214]\n",
      "611 [315, 302, 269, 303, 344, 1243, 346, 307, 752, 301]\n",
      "357 [258, 150, 151, 471, 118, 405, 928, 334, 748, 294]\n",
      "862 [98, 64, 496, 357, 45, 474, 196, 79, 651, 216]\n",
      "304 [313, 742, 111, 294, 682, 323, 259, 681, 243]\n",
      "905 [302, 7, 237, 475, 258, 282, 1011, 294, 326]\n",
      "488 [64, 174, 265, 318, 97, 144, 483, 1039, 222, 357]\n",
      "497 [96, 181, 194, 195, 173, 222, 265, 186, 210, 183]\n",
      "828 [475, 179, 512, 59, 902, 510, 921, 961, 958, 531]\n",
      "188 [22, 318, 174, 216, 176, 181, 11, 484, 199, 204]\n",
      "25 [258, 189, 478, 612, 143, 8, 183, 86, 968, 463]\n",
      "670 [480, 191, 659, 651, 511, 222, 615, 186, 199, 611]\n",
      "671 [181, 176, 684, 88, 195, 82, 591, 510, 98, 685]\n",
      "275 [520, 144, 434, 208, 183, 230, 470, 431, 588, 304]\n",
      "137 [222, 117, 96, 210, 15, 51, 183, 1028, 327, 249]\n",
      "752 [272, 306, 327, 270, 1176, 307, 1024, 752, 333, 340]\n",
      "20 [274, 1, 87, 15, 498, 378, 82]\n",
      "159 [333, 1012, 591, 685, 195, 288, 845, 405, 225, 326]\n",
      "82 [194, 511, 527, 496, 482, 657, 1, 430, 211, 197]\n",
      "91 [22, 187, 511, 98, 176, 132, 423, 601, 82, 195]\n",
      "256 [12, 657, 794, 51, 31, 86, 538, 451, 230, 1119]\n",
      "478 [427, 178, 23, 204, 196, 604, 1101, 124, 467, 282]\n",
      "239 [134, 654, 190, 474, 529, 558, 318, 659, 923, 498]\n",
      "837 [15, 9, 283, 277, 740, 274, 16, 20, 278, 294]\n",
      "392 [197, 23, 8, 302, 488, 180, 98, 615, 313, 189]\n",
      "59 [12, 169, 187, 519, 474, 50, 132, 136, 183, 483]\n",
      "37 [176, 210, 82, 233, 226, 833, 825, 472, 546, 831]\n",
      "678 [515, 50, 127, 7, 222, 277, 15, 111]\n",
      "146 [272, 315, 269, 286, 346, 313, 347, 258, 307, 327]\n",
      "437 [124, 318, 286, 8, 603, 480, 100, 134, 30, 705]\n",
      "825 [117, 222, 12, 176, 546, 566, 326, 181, 591, 924]\n",
      "267 [168, 100, 56, 64, 498, 647, 209, 484, 89, 203]\n",
      "30 [174, 435, 69, 181, 135, 319, 164, 7, 403, 751]\n",
      "81 [79, 269, 275, 186, 210, 475, 283, 288, 274, 742]\n",
      "587 [313, 270, 1483, 905, 327, 1625, 1624, 332, 895, 343]\n",
      "846 [42, 174, 178, 318, 478, 498, 11, 187, 654, 488]\n",
      "123 [134, 192, 657, 100, 132, 242, 9, 606, 523, 165]\n",
      "654 [22, 174, 318, 172, 181, 117, 210, 300, 79, 302]\n",
      "860 [663, 333, 262, 303, 311, 26, 865, 712, 381, 321]\n",
      "192 [100, 50, 302, 269, 258, 1405, 1171, 252, 948]\n",
      "610 [483, 98, 272, 50, 705, 203, 485, 135, 133, 317]\n",
      "692 [168, 257, 328, 287, 411, 294]\n",
      "35 [258, 321, 266, 748, 259]\n",
      "656 [272, 302, 316, 346, 347, 750, 312, 322]\n",
      "57 [64, 50, 318, 181, 173, 282, 496, 117, 222, 304]\n",
      "521 [427, 176, 1, 651, 216, 151, 96, 69, 79, 179]\n",
      "664 [427, 98, 318, 513, 197, 156, 168, 482, 192, 462]\n",
      "673 [292, 286, 310, 307, 344, 327]\n",
      "1 [100, 187, 134, 12, 45, 199, 89, 114, 174, 194]\n",
      "609 [750, 15, 287, 259, 314, 890]\n",
      "44 [173, 172, 89, 603, 98, 633, 530, 228, 1, 523]\n",
      "681 [292, 538, 304, 990, 1394, 259, 894]\n",
      "257 [285, 100, 198, 165, 1137, 921, 269, 305, 1129, 237]\n",
      "841 [302, 315, 300, 286, 258, 270, 333, 1294, 271, 754]\n",
      "406 [661, 183, 190, 318, 276, 197, 604, 357, 285, 479]\n",
      "411 [50, 174, 603, 194, 222, 651, 186, 210, 208, 228]\n",
      "260 [313, 1243, 538, 334, 1105, 362, 326, 891, 682, 748]\n",
      "324 [285, 1, 283, 150, 273, 597, 340, 255, 872, 875]\n",
      "170 [258, 292, 304, 881, 245, 876, 988]\n",
      "101 [255, 147, 763, 815, 304, 1028, 846, 225, 412]\n",
      "591 [603, 127, 211, 516, 182, 285, 196, 615, 86, 856]\n",
      "347 [427, 127, 223, 97, 188, 475, 11, 87, 100, 181]\n",
      "597 [181, 286, 293, 289, 111, 151, 1152, 990, 824, 825]\n",
      "299 [169, 302, 185, 641, 114, 474, 23, 478, 154, 134]\n",
      "798 [174, 692, 181, 15, 222, 194, 82, 423, 121, 705]\n",
      "512 [318, 50, 23, 258, 325]\n",
      "613 [509, 297, 435, 126, 279, 1157]\n",
      "514 [64, 169, 114, 483, 69, 174, 191, 651, 83, 272]\n",
      "699 [50, 191, 23, 211, 127, 100, 124, 14, 222, 129]\n",
      "15 [283, 297, 306, 15, 591, 280, 471, 118, 937, 935]\n",
      "745 [169, 603, 12, 302, 127, 183, 646, 194, 204, 182]\n",
      "41 [98, 173, 430, 238, 194, 181, 202, 58, 276, 265]\n",
      "848 [483, 520, 474, 173, 633, 180, 181, 661, 855, 65]\n",
      "204 [191, 45, 268, 340, 258, 300, 288, 301, 333]\n",
      "250 [12, 469, 175, 496, 116, 174, 313, 129, 151, 91]\n",
      "29 [189, 180, 1019, 79, 303, 268, 539]\n",
      "820 [313, 347, 333, 288, 324, 748, 289]\n",
      "209 [127, 50, 251, 285, 1, 813, 286, 271, 1105, 321]\n",
      "663 [50, 181, 96, 173, 316, 258, 357, 134, 300, 89]\n",
      "197 [258, 511, 127, 316, 228, 510, 176, 515, 302, 161]\n",
      "195 [100, 265, 60, 615, 921, 154, 887, 469, 234, 46]\n",
      "67 [1, 121, 24, 7, 147, 123, 25, 546, 743, 122]\n",
      "893 [96, 144, 531, 151, 69, 237, 928, 815, 597, 118]\n",
      "466 [651, 79, 187, 333, 98, 161, 566, 405, 294, 232]\n",
      "843 [183, 657, 173, 50, 474, 209, 435, 258, 181, 194]\n",
      "350 [480, 89, 187, 193, 153, 168, 228]\n",
      "214 [483, 180, 64, 357, 187, 156, 45, 8, 154, 275]\n",
      "918 [170, 507, 606, 132, 211, 487, 216, 208, 179, 1195]\n",
      "580 [181, 294, 258, 597, 455, 123, 546, 323, 1028, 252]\n",
      "622 [169, 98, 511, 427, 474, 519, 190, 176, 183, 484]\n",
      "217 [96, 7, 568, 121, 174, 17, 210, 222, 281, 541]\n",
      "230 [174, 427, 199, 172, 71, 1050, 186, 205, 511, 144]\n",
      "99 [174, 64, 116, 28, 258, 4, 1, 282, 201, 403]\n",
      "859 [421, 1009, 1281, 763, 276, 1326, 955, 458, 1014, 1048]\n",
      "403 [257, 1012, 148, 405, 597, 118, 546, 476, 864, 240]\n",
      "753 [515, 316, 50, 194, 182, 79, 272, 69, 172, 23]\n",
      "36 [873, 682, 1026]\n",
      "705 [222, 181, 318, 174, 196, 111, 144, 257, 405, 471]\n",
      "677 [1, 151, 148, 245, 1049, 323, 908, 748, 539, 243]\n",
      "21 [127, 7, 200, 262, 443, 234, 129, 219, 675, 184]\n",
      "939 [258, 127, 274, 237, 222, 255, 476, 1054]\n",
      "887 [385, 274, 222, 210, 423, 1, 257, 25, 28, 699]\n",
      "494 [479, 427, 357, 127, 86, 9, 507, 204, 300, 1197]\n",
      "136 [515, 124, 100, 475, 647, 19, 258, 137, 303, 286]\n",
      "529 [270, 288, 327, 307, 343, 749, 264, 876]\n",
      "562 [1, 114, 79, 230, 432, 66, 418, 161, 127, 118]\n",
      "845 [269, 900, 909, 1022, 903, 1399, 877, 1234]\n",
      "569 [9, 50, 475, 257, 258, 13, 273, 25, 288, 117]\n",
      "329 [127, 483, 169, 185, 199, 198, 174, 705, 855, 286]\n",
      "578 [246, 380, 343, 355, 346, 325]\n",
      "212 [318, 269, 528, 511, 180, 382, 197]\n",
      "157 [276, 475, 150, 298, 283, 268, 3, 290, 273, 111]\n",
      "152 [98, 97, 191, 121, 15, 275, 88, 153, 568, 132]\n",
      "449 [60, 9, 59, 276, 251, 224, 213, 248, 971, 273]\n",
      "555 [50, 100, 285, 302, 129, 195, 489, 269, 328, 248]\n",
      "364 [302, 690, 289, 294, 678, 325, 687, 988]\n",
      "51 [50, 64, 479, 134, 655]\n",
      "708 [121, 845, 847, 762, 276, 126, 628, 268, 118, 685]\n",
      "784 [292, 286, 303, 300, 304, 754, 312, 334, 346, 327]\n",
      "95 [22, 204, 98, 185, 498, 79, 202, 195, 28, 178]\n",
      "176 [272, 246, 93, 270, 305, 268, 237, 324, 327, 405]\n",
      "927 [64, 96, 300, 228, 385, 274, 15, 28, 328, 143]\n",
      "203 [1, 257, 150, 475, 181, 993, 288, 151, 248, 815]\n",
      "480 [114, 169, 272, 615, 443, 127, 50, 705, 183, 462]\n",
      "359 [50, 246, 7, 268, 298, 24, 472, 455, 748]\n",
      "216 [50, 652, 168, 22, 1101, 202, 215, 11, 655, 188]\n",
      "436 [313, 187, 427, 50, 216, 132, 168, 11, 127, 133]\n",
      "340 [143, 196, 480, 265, 1, 402, 418, 423]\n",
      "633 [79, 96, 300, 939, 195, 237, 177, 77, 234, 148]\n",
      "318 [318, 657, 132, 216, 208, 480, 481, 659, 648, 133]\n",
      "535 [483, 657, 50, 166, 83, 86, 22, 520, 484, 223]\n",
      "391 [603, 480, 427, 963, 64, 479, 23, 22, 188, 194]\n",
      "263 [357, 50, 136, 480, 134, 199, 174, 527, 168, 86]\n",
      "737 [100, 474, 89, 32, 154, 186]\n",
      "489 [313, 347, 331, 328, 749, 1265, 1613, 902, 340, 880]\n",
      "229 [269, 258, 750, 937, 340, 886, 328, 260]\n",
      "158 [190, 187, 173, 1, 154, 8, 168, 208, 92, 202]\n",
      "243 [694, 14, 285, 531, 435, 268, 509, 660, 367, 15]\n",
      "218 [657, 173, 654, 517, 194, 209, 1073, 642, 56, 154]\n",
      "421 [498, 124, 79, 156, 50, 516, 174, 525, 197, 653]\n",
      "885 [172, 216, 189, 161, 143, 195, 274, 154, 568, 65]\n",
      "518 [847, 126, 121, 744, 222, 289, 118, 7, 405, 25]\n",
      "510 [286, 330, 681, 261, 876, 243, 358, 457]\n",
      "455 [127, 313, 318, 22, 100, 124, 196, 42, 176, 97]\n",
      "235 [603, 480, 197, 512, 135, 275, 22, 198, 211, 435]\n",
      "356 [333, 328, 312, 689]\n",
      "262 [169, 64, 269, 283, 419, 131, 200, 433, 582, 367]\n",
      "118 [475, 134, 320, 603, 513, 511, 655, 55, 7, 436]\n",
      "153 [79, 568, 321]\n",
      "691 [56, 500, 524, 496, 1172, 772, 227, 672, 294, 748]\n",
      "384 [271, 289, 878]\n",
      "875 [185, 169, 511, 179, 302, 98, 23, 187, 923, 211]\n",
      "448 [286, 750, 340, 271, 304, 884, 1294, 321, 258, 270]\n",
      "462 [313, 181, 332, 100, 328, 323, 895, 873]\n",
      "134 [313, 302, 1, 15, 258, 294, 748, 338, 539]\n",
      "771 [709, 50, 588, 313, 95, 222, 128, 216, 88, 164]\n",
      "558 [9, 19, 936, 283, 847, 744, 20]\n",
      "18 [603, 474, 479, 408, 98, 515, 496, 169, 498, 530]\n",
      "908 [427, 478, 484, 488, 527, 185, 98, 28, 663, 482]\n",
      "579 [169, 528, 173, 194, 211, 56, 523, 258, 83, 204]\n",
      "272 [357, 208, 56, 96, 98, 79, 69, 175, 521, 204]\n",
      "199 [100, 285, 269, 286, 508, 7, 116, 1354, 751, 539]\n",
      "520 [242, 283, 1051, 289, 678]\n",
      "811 [286, 307, 308, 892]\n",
      "849 [143, 133, 298, 172, 625, 288, 234]\n",
      "226 [408, 12, 89, 23, 176, 209, 652, 507, 813, 203]\n",
      "368 [50, 313, 98, 181, 7, 11, 184, 447, 670, 53]\n",
      "486 [124, 286, 137, 1137, 297, 276, 306, 813, 10, 508]\n",
      "836 [603, 318, 180, 170, 357, 56, 89, 611, 750, 216]\n",
      "565 [190, 512, 166, 855, 713, 639, 179, 212]\n",
      "598 [347, 286, 258, 269, 751, 312, 308, 349, 343, 323]\n",
      "734 [483, 318, 498, 198, 28, 604, 132, 204, 282, 193]\n",
      "823 [408, 187, 100, 170, 136, 144, 48, 286, 215, 654]\n",
      "582 [50, 919, 93, 1, 750, 257, 15, 125, 763, 1014]\n",
      "193 [313, 246, 487, 23, 485, 443, 177, 195, 33, 465]\n",
      "604 [443, 100, 184, 5, 558, 200, 447, 444]\n",
      "459 [117, 79, 300, 328, 194, 222, 186, 298, 332, 134]\n",
      "164 [313, 282, 117, 125, 237, 328, 333, 307, 118, 597]\n",
      "27 [50, 246, 742, 508, 596, 288, 978, 930, 325]\n",
      "844 [318, 173, 22, 423, 431, 919, 154, 418, 55, 403]\n",
      "906 [475, 129, 471, 121, 1011, 544, 473, 823, 240]\n",
      "372 [12, 286, 98, 649, 292, 44, 77, 446, 327, 595]\n",
      "115 [12, 23, 48, 922, 100, 317, 558, 530, 96, 234]\n",
      "525 [181, 121, 237, 1011, 300, 281, 250, 762, 123, 1047]\n",
      "422 [302, 100, 124, 293, 671, 7, 1187, 288, 218, 237]\n",
      "54 [273, 333, 121, 634, 268, 255, 346, 295, 250, 823]\n",
      "874 [275, 654, 514, 276, 286, 311, 346, 305, 20, 289]\n",
      "754 [9, 15, 1197, 359, 276, 340, 937, 255, 595]\n",
      "97 [173, 50, 100, 195, 28, 135, 429, 7, 189, 663]\n",
      "647 [357, 22, 300, 82, 174, 568, 1063, 298, 222, 15]\n",
      "600 [187, 96, 526, 188, 177, 566, 82, 161, 230, 226]\n",
      "783 [331, 328, 301, 334, 872, 335]\n",
      "865 [169, 268, 7, 99, 1011, 744, 24, 685, 547, 117]\n",
      "810 [873, 289, 339, 323, 342]\n",
      "714 [50, 1, 181, 237, 121, 257, 763, 15, 924, 276]\n",
      "755 [258, 304, 327, 288, 328, 245, 319, 938, 748, 323]\n",
      "28 [50, 173, 174, 479, 223, 11, 98, 529, 196, 568]\n",
      "800 [181, 15, 257, 742, 25, 1047]\n",
      "730 [298, 237, 15, 685, 151, 742, 109, 328, 294, 815]\n",
      "572 [100, 813, 13, 289, 300]\n",
      "930 [64, 100, 651, 705, 265, 274, 300, 255, 153, 107]\n",
      "198 [474, 511, 480, 191, 173, 531, 651, 156, 1169, 423]\n",
      "2 [50, 251, 315, 14, 285, 100, 242, 311, 292, 1]\n",
      "438 [1, 15, 100, 1028, 280]\n",
      "352 [657, 210, 746, 234, 195, 156, 82, 89, 183, 55]\n",
      "809 [272, 258, 307, 286, 245, 289, 678]\n",
      "723 [174, 258, 172, 9, 28, 150, 137, 748, 988]\n",
      "439 [475, 14, 268, 300, 237, 273, 895, 125]\n",
      "492 [134, 511, 124, 923, 199, 286, 131, 1121, 205, 153]\n",
      "398 [172, 1, 181, 357, 97, 663, 589, 8, 196, 837]\n",
      "546 [222, 100, 313, 164, 288, 458, 379, 567, 569, 717]\n",
      "568 [488, 479, 423, 56, 427, 178, 512, 478, 653, 638]\n",
      "3 [272, 303, 181, 340, 288, 326, 271, 327, 330, 349]\n",
      "381 [100, 124, 89, 30, 529, 479, 276, 196, 485, 283]\n",
      "634 [408, 282, 292, 117, 221, 15, 93, 273, 116, 222]\n",
      "469 [483, 641, 511, 513, 173, 923, 487, 607, 582]\n",
      "129 [242, 258, 268, 304, 269, 1176, 748]\n",
      "513 [181, 127, 117, 257, 222, 121, 118, 323]\n",
      "507 [121, 300, 269, 50, 117, 298, 538, 328, 307, 690]\n",
      "573 [427, 127, 657, 661, 523, 22, 194, 258, 283, 135]\n",
      "433 [474, 50, 205, 657, 246, 919, 303, 340, 690, 323]\n",
      "897 [196, 479, 132, 736, 168, 588, 265, 71, 199, 633]\n",
      "323 [50, 56, 268, 475, 79, 179, 772, 288, 319, 741]\n",
      "284 [269, 900, 268, 305, 270, 345, 751, 319, 301, 682]\n",
      "801 [313, 302, 268, 294, 271]\n",
      "575 [603, 531, 96, 215, 294, 322]\n",
      "464 [515, 482, 298, 176, 333, 307, 1598, 299, 326, 1025]\n",
      "332 [50, 79, 64, 12, 172, 195, 96, 228, 257, 204]\n",
      "362 [302, 268, 347, 332, 312, 879, 264, 678]\n",
      "817 [124, 129, 294, 121, 289, 455, 840, 363, 876, 748]\n",
      "252 [124, 9, 740, 1, 742, 149]\n",
      "756 [50, 173, 135, 22, 251, 195, 568, 1, 96, 1240]\n",
      "920 [311, 270, 310, 286, 346, 347, 332, 1612, 340, 301]\n",
      "914 [732, 739, 402, 1355, 781]\n",
      "733 [302, 1142, 116, 137, 273, 283, 1226, 126, 1173, 1]\n",
      "117 [144, 11, 121, 423, 7, 789, 742, 405, 109, 763]\n",
      "658 [318, 603, 127, 98, 8, 511, 718, 433, 192, 86]\n",
      "14 [12, 919, 663, 428, 242, 23, 116, 313, 213, 523]\n",
      "476 [194, 430, 70, 433, 435, 232, 288, 959, 47, 1118]\n",
      "625 [515, 172, 498, 181, 480, 484, 165, 516, 514, 517]\n",
      "461 [285, 313, 258, 269, 304, 321, 319, 121, 259]\n",
      "742 [50, 127, 14, 1, 181, 508, 222, 546]\n",
      "283 [50, 100, 83, 435, 209, 433, 202, 432, 91, 109]\n",
      "154 [242, 945, 462, 202, 258, 288, 289]\n",
      "698 [50, 479, 143, 511, 648, 516, 525, 486, 654, 499]\n",
      "599 [282, 845, 471, 274, 748, 284, 319, 546, 280, 975]\n",
      "627 [89, 175, 196, 651, 86, 135, 523, 197, 735, 518]\n",
      "852 [121, 506, 969, 405, 151, 546, 289, 235]\n",
      "744 [603, 23, 302, 156, 428, 28, 1]\n",
      "100 [272, 887, 286, 292, 328, 348, 344, 310, 874, 751]\n",
      "60 [178, 12, 603, 515, 474, 479, 357, 180, 525, 98]\n",
      "427 [300, 1296, 331, 1265, 341, 990, 289]\n",
      "140 [303, 880, 322, 325]\n",
      "402 [515, 479, 12, 124, 116, 32, 181, 475, 1, 286]\n",
      "458 [23, 86, 513, 180, 515, 654, 514, 199, 100, 430]\n",
      "684 [50, 64, 732, 202, 282, 117, 66, 88, 371, 238]\n",
      "538 [12, 127, 50, 98, 182, 42, 276, 496, 275, 238]\n",
      "132 [275, 127, 922, 124, 523, 175, 286, 154]\n",
      "680 [169, 9, 517, 203, 269, 150, 151, 1012, 274, 117]\n",
      "139 [246, 303, 740, 222, 1176, 676]\n",
      "581 [275, 1367, 936, 221, 276, 813, 283]\n",
      "120 [50, 15, 257, 237, 125]\n",
      "46 [909, 93, 262, 1024, 305, 690, 181, 327, 294, 245]\n",
      "331 [64, 302, 479, 198, 132, 705, 694, 175, 514, 22]\n",
      "882 [98, 191, 357, 181, 1, 237, 177, 56, 275, 66]\n",
      "901 [121, 174, 257, 172, 89, 69, 204, 12, 568, 520]\n",
      "187 [64, 191, 168, 213, 735, 69, 97, 52, 137, 175]\n",
      "608 [127, 483, 480, 134, 318, 98, 1101, 59, 606, 100]\n",
      "394 [22, 174, 89, 56, 265, 132, 97, 508, 82, 151]\n",
      "884 [100, 923, 213, 116, 463, 146]\n",
      "185 [318, 127, 223, 50, 116, 423, 302, 111, 25, 258]\n",
      "483 [180, 197, 9, 257, 237, 91, 68, 99, 277, 20]\n",
      "19 [435, 655, 153, 692, 288]\n",
      "143 [258, 347, 271, 331, 1038, 682, 326, 294]\n",
      "219 [223, 179, 879, 935, 303, 546]\n",
      "248 [114, 168, 64, 100, 174, 153, 183, 210, 55, 282]\n",
      "179 [331, 303, 333, 751, 301, 538, 1234]\n",
      "547 [269, 311, 258, 340, 345, 332, 321, 289]\n",
      "701 [127, 272, 285, 315, 100, 269, 303, 750, 237, 344]\n",
      "720 [313, 269, 311, 333, 347, 345, 898, 321]\n",
      "155 [306, 327, 990]\n",
      "623 [183, 435, 127, 275, 186, 222, 211, 185, 274, 234]\n",
      "522 [23, 530, 96, 180, 11]\n",
      "86 [258, 242, 300, 1175, 328]\n",
      "651 [127, 286, 332, 995, 327, 294, 683]\n",
      "382 [474, 23, 511, 276, 50, 357, 25, 197, 100, 481]\n",
      "821 [174, 705, 484, 180, 435, 509, 126, 845, 237, 993]\n",
      "929 [127, 12, 479, 50, 480, 474, 484, 136, 197, 135]\n",
      "812 [326, 328, 294, 261, 358]\n",
      "641 [427, 198, 89, 124, 303, 305, 432]\n",
      "112 [302, 315, 286, 331, 1106, 903, 245, 332, 891, 321]\n",
      "445 [100, 9, 23, 902, 346, 293, 50, 276, 237, 174]\n",
      "748 [169, 50, 114, 22, 187, 479, 527, 183, 517, 515]\n",
      "703 [275, 300, 258, 1, 1197, 1012, 591, 118, 123, 764]\n",
      "760 [300, 125, 98, 604, 195, 65, 255, 928, 111, 631]\n",
      "891 [15, 116, 924, 1197, 591, 237, 471, 148, 866, 1028]\n",
      "768 [272, 275, 111, 257, 845, 300, 591, 1016, 274, 471]\n",
      "408 [1296, 324, 319, 294, 748]\n",
      "741 [480, 22, 48, 56, 475, 275, 28, 216, 228, 732]\n",
      "465 [513, 357, 64, 525, 474, 656, 705, 475, 190, 7]\n",
      "616 [302, 258, 303, 346, 286, 1313, 348, 362, 689, 873]\n",
      "180 [12, 191, 258, 173, 79, 83, 732, 961, 684, 631]\n",
      "8 [651, 510, 22, 96, 144, 182, 228, 210, 7, 684]\n",
      "544 [750, 310, 689, 259, 294, 325]\n",
      "114 [168, 357, 176, 179, 646, 56, 485, 496, 200, 855]\n",
      "759 [50, 222, 328, 742, 118]\n",
      "895 [1, 283, 117, 294]\n",
      "900 [318, 9, 205, 200, 186, 129, 237, 117, 834]\n",
      "367 [302, 919, 268, 436, 331, 219, 53, 218, 551, 672]\n",
      "166 [294, 258, 328, 288, 688]\n",
      "672 [50, 127, 275, 269, 109, 301, 321, 225]\n",
      "941 [7, 919, 181, 993, 147, 117, 455, 294, 358]\n",
      "190 [313, 100, 742, 15, 276, 273, 9, 121, 405, 125]\n",
      "493 [12, 186, 79, 170, 257, 222, 204, 196, 61, 435]\n",
      "861 [170, 242, 475, 86, 70, 1009, 20, 937, 737]\n",
      "762 [173, 709, 116, 332, 1662, 749, 875]\n",
      "909 [529, 86, 707, 166, 582, 289]\n",
      "523 [531, 242, 514, 181, 9, 116, 210, 652, 66, 70]\n",
      "767 [657, 242, 659, 98, 172, 22, 187, 505, 481, 207]\n",
      "819 [302, 182, 258, 70, 303, 340, 744, 345, 300]\n",
      "502 [323, 307, 893, 338, 683, 358, 890]\n",
      "482 [257, 269, 311, 321]\n",
      "822 [408, 588]\n",
      "412 [114, 427, 174, 28, 211, 195, 150, 208, 684, 186]\n",
      "127 [228, 380, 748]\n",
      "361 [100, 178, 430, 213, 709, 524, 83, 705, 276, 166]\n",
      "589 [272, 304, 301, 289, 340, 689, 749, 895, 334, 323]\n",
      "877 [531, 197, 306, 971, 274, 463, 52, 566, 538, 222]\n",
      "477 [275, 739, 66, 15, 794, 451, 20, 111, 1041, 846]\n",
      "135 [603, 173, 203, 56, 55, 653, 470, 642, 939, 581]\n",
      "162 [1, 208, 474, 230, 943, 121, 685, 597, 358, 122]\n",
      "831 [22, 316, 12, 197, 173, 750, 28, 210, 156, 1063]\n",
      "475 [258, 306, 303, 286, 381]\n",
      "631 [682, 294]\n",
      "731 [427, 357, 194, 320, 527, 69, 28, 484, 202, 419]\n",
      "628 [300, 1296, 288, 1025]\n",
      "432 [313, 1, 257, 274, 288, 100, 628, 15, 298, 845]\n",
      "473 [285, 242, 1007, 150, 1129, 129, 7, 25, 319]\n",
      "635 [302, 237, 874, 742, 117, 327, 301, 688]\n",
      "614 [100, 1142, 287, 25, 9, 293, 117, 535, 405, 756]\n",
      "33 [329, 880, 245]\n",
      "863 [272, 315, 347, 242, 306, 303, 288, 310, 262, 1243]\n",
      "931 [315, 750, 116, 126, 298, 900, 125, 121, 355]\n",
      "922 [172, 181, 427, 265, 191, 69, 176, 143, 432, 204]\n",
      "369 [181, 179, 268, 335, 988, 243]\n",
      "668 [302, 50, 283, 124, 345, 271, 289, 895, 231, 358]\n",
      "937 [285, 50, 275, 14, 19, 124, 116, 303, 236, 222]\n",
      "834 [100, 181, 246, 268, 275, 237, 333, 7, 13, 1017]\n",
      "371 [50, 185, 127, 180, 197, 663, 31, 66, 73, 627]\n",
      "237 [479, 178, 528, 525, 514, 176, 153]\n",
      "491 [408, 127, 286, 1281, 340, 294, 325]\n",
      "746 [50, 210, 79, 89, 117, 684, 385, 208, 132, 135]\n",
      "777 [1, 100, 286, 117, 202, 157, 818, 1079]\n",
      "68 [178, 7, 237, 763, 117, 121, 411, 1089]\n",
      "728 [100, 286, 237, 742, 147, 1355, 243]\n",
      "540 [276, 293, 258, 7, 471, 222, 1016, 249, 762, 1014]\n",
      "231 [181, 126, 121, 151, 924, 866, 748, 476]\n",
      "740 [302, 269, 300, 286, 294, 289, 326, 873]\n",
      "856 [316, 313, 347, 327, 879, 307, 326, 328]\n",
      "196 [306, 269, 8, 238, 692, 111, 13, 94]\n",
      "563 [181, 692, 237, 255, 781, 1035, 412, 871]\n",
      "62 [134, 50, 191, 64, 199, 114, 135, 127, 56, 181]\n",
      "649 [1, 117, 24, 15, 291, 1244, 678, 252]\n",
      "528 [479, 174, 523, 238, 526, 194, 181, 77, 250, 541]\n",
      "640 [174, 315, 79, 14, 195, 663, 382, 301, 66, 732]\n",
      "300 [328, 288, 881, 261, 456]\n",
      "386 [50, 515, 127, 117, 7, 833, 405, 546, 825]\n",
      "247 [64, 50, 300, 222, 7, 58, 751]\n",
      "463 [127, 15, 285, 275, 10, 116, 306, 1197, 149, 270]\n",
      "915 [315, 313, 750, 347, 346, 288, 752]\n",
      "220 [258, 286, 301, 340, 332, 995, 264]\n",
      "163 [64, 316, 258, 286, 234, 301, 326]\n",
      "685 [302, 286, 340, 333, 319, 882, 324, 875, 299, 325]\n",
      "74 [272, 315, 126, 268, 150, 300, 245, 340, 351]\n",
      "531 [311, 302, 329, 690, 332, 288, 748, 358, 457, 688]\n",
      "335 [313, 902, 258, 269, 305, 333, 328, 340, 322, 324]\n",
      "121 [12, 197, 98, 192, 1194, 313, 126, 298, 250, 300]\n",
      "333 [174, 435, 66, 186, 153, 894]\n",
      "511 [292, 300, 271, 355, 260, 678, 948]\n",
      "876 [174, 529, 435, 238, 19, 286]\n",
      "171 [272, 258, 286, 268, 344, 245]\n",
      "710 [134, 318, 192, 64, 56, 22, 1101, 303, 79, 99]\n",
      "719 [64, 655, 285, 520, 98, 510, 378, 162, 660, 582]\n",
      "530 [196, 172, 176, 100, 163, 1136, 1226, 181, 476, 1300]\n",
      "341 [288, 877, 335, 1280, 948]\n",
      "404 [300, 750, 310, 66, 690, 301, 331, 327, 678]\n",
      "769 [1011, 222, 1312, 118, 748, 1028, 831]\n",
      "53 [50, 181, 96, 156, 258, 24, 118, 546]\n",
      "791 [302, 9, 300, 319, 294, 289, 748]\n",
      "351 [888, 292, 310, 245, 689, 323, 984]\n",
      "69 [475, 268, 298, 222, 1144, 307, 333, 117, 240, 748]\n",
      "725 [300, 276, 328, 301, 288, 294, 879, 358]\n",
      "799 [427, 306, 258, 1545, 289, 690]\n",
      "84 [408, 1, 25, 282, 486, 276, 111, 148, 291, 411]\n",
      "813 [304, 271, 898, 289, 335, 680, 342, 901, 243]\n",
      "434 [1, 237, 347, 471, 125, 7, 148, 287, 477, 763]\n",
      "570 [268, 288, 327, 289, 748, 243]\n",
      "208 [430, 435, 517, 66, 211, 663, 186, 428, 367, 56]\n",
      "636 [313, 275, 283, 813, 235]\n",
      "131 [302, 242, 19, 127, 251, 14, 9]\n",
      "366 [185, 56, 200, 7, 443, 445, 675, 559, 637, 773]\n",
      "172 [478, 183, 463, 485, 697]\n",
      "79 [902, 124, 275, 116, 286, 303, 10, 93, 276, 50]\n",
      "418 [315, 302, 269, 750, 333, 288, 1313, 301, 362]\n",
      "802 [196, 176, 194, 234, 201, 559, 448, 323, 879, 670]\n",
      "736 [1388, 1278, 181]\n",
      "322 [318, 185, 302, 216, 48, 653, 303, 188, 521, 32]\n",
      "857 [258, 20, 687]\n",
      "688 [332, 326, 307, 898, 349, 1234, 678]\n",
      "285 [357, 100, 168, 269, 194, 258, 346, 319, 151]\n",
      "904 [216, 275, 237, 202, 628, 724, 785, 1074]\n",
      "375 [302, 525, 684, 218, 566, 234, 39]\n",
      "183 [483, 485, 257, 176, 216, 202, 121, 212, 720, 1090]\n",
      "238 [538, 300, 220, 121, 476, 405, 756]\n",
      "108 [14, 50, 7, 275, 13]\n",
      "706 [100, 237, 125, 410, 325, 687]\n",
      "446 [888, 311, 303, 359, 327, 754, 883, 322, 294, 289]\n",
      "713 [270, 340, 327, 345, 1127, 539]\n",
      "481 [50, 198, 505, 435, 659, 210, 500, 238, 524, 4]\n",
      "850 [96, 181, 568, 196, 228, 519, 480, 202, 490, 496]\n",
      "149 [272, 302, 311, 262, 268, 310, 333, 312, 300, 345]\n",
      "550 [181, 275, 237, 121, 993, 304, 924, 294]\n",
      "838 [56, 190, 313, 174, 172, 945, 153, 497, 419, 494]\n",
      "925 [558, 332, 788, 816, 299, 876]\n",
      "32 [100, 475, 298, 250, 628, 271, 866, 405, 245]\n",
      "667 [23, 168, 313, 527, 315, 482, 223, 487, 651, 9]\n",
      "902 [483, 127, 187, 172, 515, 246, 134, 8, 144, 204]\n",
      "443 [644, 286, 39, 294, 309, 687]\n",
      "175 [132, 183, 100, 9, 566, 11, 869]\n",
      "377 [272, 316, 154, 7, 354, 288, 895, 678, 338]\n",
      "779 [222, 15, 195, 879, 596, 447, 252, 235]\n",
      "787 [313, 310, 292, 306, 311, 326, 899, 345, 1024, 331]\n",
      "413 [124, 270, 257, 307, 628, 328, 250, 245, 877, 260]\n",
      "687 [313, 269, 288, 319, 678]\n",
      "273 [340, 338]\n",
      "607 [180, 45, 211, 485, 238]\n",
      "98 [194, 173, 211, 152, 47]\n",
      "241 [313, 286, 307, 294, 335]\n",
      "150 [100, 124, 14, 293, 129, 13, 273, 288, 628, 278]\n",
      "281 [300, 310, 301, 326, 289, 323]\n",
      "370 [199, 136, 12, 285, 435, 14, 181, 433, 631, 294]\n",
      "310 [50, 258, 116, 14, 1022, 832]\n",
      "289 [282, 471, 125, 685, 410, 21, 926]\n",
      "780 [318, 50, 496, 79, 427, 498, 199, 210, 204, 474]\n",
      "781 [56, 302, 172, 191, 187, 135, 179, 286, 1500]\n",
      "855 [170, 475, 919]\n",
      "612 [15, 480, 100, 322, 926, 878]\n",
      "872 [273, 294, 476, 928, 268, 350, 975, 977, 1284, 1061]\n",
      "797 [340, 294, 781, 309, 748, 336]\n",
      "133 [304, 751, 322, 260]\n",
      "765 [285, 170, 971]\n",
      "789 [127, 124, 286, 1, 293, 591, 288, 129, 276, 1012]\n",
      "470 [100, 19, 124, 137, 257, 268, 277, 874, 1097, 295]\n",
      "205 [286]\n",
      "829 [318, 190, 313, 475, 275, 116, 855, 1121, 222, 310]\n",
      "228 [272, 750, 204]\n",
      "517 [131, 311, 740, 300, 111, 538, 597, 472, 823]\n",
      "309 [300, 1296, 304, 324, 1025]\n",
      "173 [302, 306, 331, 322, 879, 995]\n",
      "316 [427, 98, 306, 286, 14, 174, 487, 530, 185, 191]\n",
      "355 [300, 882, 1429, 360, 682, 872]\n",
      "265 [50, 742, 117, 288, 1197, 111, 151, 815, 284, 245]\n",
      "317 [300, 328, 748, 323, 260]\n",
      "337 [15, 125, 228, 879, 449, 67, 235]\n",
      "594 [483, 50, 19, 222, 744]\n",
      "674 [315, 222, 1197, 255, 294, 929]\n",
      "147 [302, 292, 305, 270, 304]\n",
      "873 [750, 292, 307, 875]\n",
      "261 [117, 597, 245, 294, 340, 243, 687]\n",
      "50 [475, 100, 253, 288, 823]\n",
      "111 [272, 302, 286, 258, 305]\n",
      "242 [475, 111]\n",
      "675 [223, 1628, 312]\n",
      "71 [98, 302, 276, 286, 151, 153, 222]\n",
      "739 [79, 97, 661, 751, 327, 56]\n",
      "93 [275, 815, 235]\n",
      "702 [300, 230, 895, 687, 688]\n",
      "808 [872, 332, 294, 748]\n",
      "824 [304, 321, 322, 323, 259, 687]\n",
      "775 [302, 750, 310, 347, 327, 348, 343]\n",
      "358 [59, 213, 896, 208, 558, 1021, 1005, 582]\n",
      "888 [644, 631, 274, 792]\n",
      "319 [750, 340, 682, 358]\n",
      "729 [288]\n",
      "240 [313, 269, 340, 300, 245, 349]\n",
      "842 [272, 902, 340, 751, 333, 270, 1105, 324, 886]\n",
      "78 [327, 412]\n",
      "34 [310, 1024, 899, 312, 289, 259]\n",
      "832 [50, 328, 322, 323, 876, 260, 243]\n",
      "602 [300, 237, 127, 125, 9, 118, 678, 895, 457]\n",
      "431 [327, 307, 323]\n",
      "743 [408, 9, 302, 269, 268, 879, 322, 301]\n",
      "88 [286, 321]\n",
      "165 [202, 332, 69, 91]\n",
      "471 [71, 8, 768, 969, 225, 465, 501]\n",
      "700 [180, 531, 98, 222]\n",
      "414 [100, 272, 313, 300, 301, 325]\n",
      "726 [117, 833, 294]\n",
      "17 [151, 1, 222, 245, 323, 243]\n",
      "419 [191, 89, 79, 197, 286, 306, 300, 405]\n",
      "9 [487, 691, 690]\n",
      "39 [269, 306, 300, 345, 352]\n",
      "652 [286, 257, 328, 307, 300, 259]\n",
      "245 [50, 258, 21]\n",
      "107 [333, 1243, 322]\n",
      "732 [937, 938, 321]\n",
      "282 [269, 262, 305]\n",
      "47 [306, 305, 340]\n",
      "816 [259]\n",
      "55 [1016, 597]\n",
      "225 [427, 492, 237, 1443, 1203]\n",
      "926 [272, 315, 245]\n",
      "182 [111, 864]\n",
      "516 [204]\n"
     ]
    }
   ],
   "source": [
    "from collections import defaultdict\n",
    "\n",
    "def get_top_n_recommendations(predictions, n=10):\n",
    "    top_n = defaultdict(list)\n",
    "    for uid, iid, true_r, est, _ in predictions:\n",
    "        top_n[uid].append((iid, est))\n",
    "\n",
    "    for uid, user_ratings in top_n.items():\n",
    "        user_ratings.sort(key=lambda x: x[1], reverse=True)\n",
    "        top_n[uid] = user_ratings[:n]\n",
    "\n",
    "    return top_n\n",
    "\n",
    "predictions = algo.test(testset)\n",
    "top_n_recommendations = get_top_n_recommendations(predictions, n=10)\n",
    "\n",
    "for uid, user_ratings in top_n_recommendations.items():\n",
    "    print(uid, [iid for (iid, _) in user_ratings])"
   ]
  }
 ],
 "metadata": {
  "kernelspec": {
   "display_name": "movie",
   "language": "python",
   "name": "python3"
  },
  "language_info": {
   "codemirror_mode": {
    "name": "ipython",
    "version": 3
   },
   "file_extension": ".py",
   "mimetype": "text/x-python",
   "name": "python",
   "nbconvert_exporter": "python",
   "pygments_lexer": "ipython3",
   "version": "3.12.7"
  }
 },
 "nbformat": 4,
 "nbformat_minor": 2
}
